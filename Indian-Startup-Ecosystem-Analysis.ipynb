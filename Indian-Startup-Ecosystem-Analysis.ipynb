{
 "cells": [
  {
   "cell_type": "code",
   "execution_count": 1,
   "metadata": {},
   "outputs": [],
   "source": [
    "import numpy as np\n",
    "import pandas as pd\n",
    "import matplotlib.pyplot as plt\n",
    "import seaborn as sns\n",
    "import re\n",
    "%matplotlib inline"
   ]
  },
  {
   "cell_type": "markdown",
   "metadata": {},
   "source": [
    "Importing dataset present in dataset folder"
   ]
  },
  {
   "cell_type": "code",
   "execution_count": 2,
   "metadata": {},
   "outputs": [],
   "source": [
    "data=pd.read_csv('dataset/startup_funding.csv')"
   ]
  },
  {
   "cell_type": "markdown",
   "metadata": {},
   "source": [
    "High level overview of the data we are dealing with"
   ]
  },
  {
   "cell_type": "code",
   "execution_count": 3,
   "metadata": {},
   "outputs": [
    {
     "data": {
      "text/html": [
       "<div>\n",
       "<style scoped>\n",
       "    .dataframe tbody tr th:only-of-type {\n",
       "        vertical-align: middle;\n",
       "    }\n",
       "\n",
       "    .dataframe tbody tr th {\n",
       "        vertical-align: top;\n",
       "    }\n",
       "\n",
       "    .dataframe thead th {\n",
       "        text-align: right;\n",
       "    }\n",
       "</style>\n",
       "<table border=\"1\" class=\"dataframe\">\n",
       "  <thead>\n",
       "    <tr style=\"text-align: right;\">\n",
       "      <th></th>\n",
       "      <th>SNo</th>\n",
       "      <th>Date</th>\n",
       "      <th>StartupName</th>\n",
       "      <th>IndustryVertical</th>\n",
       "      <th>SubVertical</th>\n",
       "      <th>CityLocation</th>\n",
       "      <th>InvestorsName</th>\n",
       "      <th>InvestmentType</th>\n",
       "      <th>AmountInUSD</th>\n",
       "      <th>Remarks</th>\n",
       "    </tr>\n",
       "  </thead>\n",
       "  <tbody>\n",
       "    <tr>\n",
       "      <th>0</th>\n",
       "      <td>0</td>\n",
       "      <td>01/08/2017</td>\n",
       "      <td>TouchKin</td>\n",
       "      <td>Technology</td>\n",
       "      <td>Predictive Care Platform</td>\n",
       "      <td>Bangalore</td>\n",
       "      <td>Kae Capital</td>\n",
       "      <td>Private Equity</td>\n",
       "      <td>1,300,000</td>\n",
       "      <td>NaN</td>\n",
       "    </tr>\n",
       "    <tr>\n",
       "      <th>1</th>\n",
       "      <td>1</td>\n",
       "      <td>02/08/2017</td>\n",
       "      <td>Ethinos</td>\n",
       "      <td>Technology</td>\n",
       "      <td>Digital Marketing Agency</td>\n",
       "      <td>Mumbai</td>\n",
       "      <td>Triton Investment Advisors</td>\n",
       "      <td>Private Equity</td>\n",
       "      <td>NaN</td>\n",
       "      <td>NaN</td>\n",
       "    </tr>\n",
       "    <tr>\n",
       "      <th>2</th>\n",
       "      <td>2</td>\n",
       "      <td>02/08/2017</td>\n",
       "      <td>Leverage Edu</td>\n",
       "      <td>Consumer Internet</td>\n",
       "      <td>Online platform for Higher Education Services</td>\n",
       "      <td>New Delhi</td>\n",
       "      <td>Kashyap Deorah, Anand Sankeshwar, Deepak Jain,...</td>\n",
       "      <td>Seed Funding</td>\n",
       "      <td>NaN</td>\n",
       "      <td>NaN</td>\n",
       "    </tr>\n",
       "    <tr>\n",
       "      <th>3</th>\n",
       "      <td>3</td>\n",
       "      <td>02/08/2017</td>\n",
       "      <td>Zepo</td>\n",
       "      <td>Consumer Internet</td>\n",
       "      <td>DIY Ecommerce platform</td>\n",
       "      <td>Mumbai</td>\n",
       "      <td>Kunal Shah, LetsVenture, Anupam Mittal, Hetal ...</td>\n",
       "      <td>Seed Funding</td>\n",
       "      <td>500,000</td>\n",
       "      <td>NaN</td>\n",
       "    </tr>\n",
       "    <tr>\n",
       "      <th>4</th>\n",
       "      <td>4</td>\n",
       "      <td>02/08/2017</td>\n",
       "      <td>Click2Clinic</td>\n",
       "      <td>Consumer Internet</td>\n",
       "      <td>healthcare service aggregator</td>\n",
       "      <td>Hyderabad</td>\n",
       "      <td>Narottam Thudi, Shireesh Palle</td>\n",
       "      <td>Seed Funding</td>\n",
       "      <td>850,000</td>\n",
       "      <td>NaN</td>\n",
       "    </tr>\n",
       "  </tbody>\n",
       "</table>\n",
       "</div>"
      ],
      "text/plain": [
       "   SNo        Date   StartupName   IndustryVertical  \\\n",
       "0    0  01/08/2017      TouchKin         Technology   \n",
       "1    1  02/08/2017       Ethinos         Technology   \n",
       "2    2  02/08/2017  Leverage Edu  Consumer Internet   \n",
       "3    3  02/08/2017          Zepo  Consumer Internet   \n",
       "4    4  02/08/2017  Click2Clinic  Consumer Internet   \n",
       "\n",
       "                                     SubVertical CityLocation  \\\n",
       "0                       Predictive Care Platform    Bangalore   \n",
       "1                       Digital Marketing Agency       Mumbai   \n",
       "2  Online platform for Higher Education Services    New Delhi   \n",
       "3                         DIY Ecommerce platform       Mumbai   \n",
       "4                  healthcare service aggregator    Hyderabad   \n",
       "\n",
       "                                       InvestorsName  InvestmentType  \\\n",
       "0                                        Kae Capital  Private Equity   \n",
       "1                         Triton Investment Advisors  Private Equity   \n",
       "2  Kashyap Deorah, Anand Sankeshwar, Deepak Jain,...    Seed Funding   \n",
       "3  Kunal Shah, LetsVenture, Anupam Mittal, Hetal ...    Seed Funding   \n",
       "4                     Narottam Thudi, Shireesh Palle    Seed Funding   \n",
       "\n",
       "  AmountInUSD Remarks  \n",
       "0   1,300,000     NaN  \n",
       "1         NaN     NaN  \n",
       "2         NaN     NaN  \n",
       "3     500,000     NaN  \n",
       "4     850,000     NaN  "
      ]
     },
     "execution_count": 3,
     "metadata": {},
     "output_type": "execute_result"
    }
   ],
   "source": [
    "data.head()"
   ]
  },
  {
   "cell_type": "code",
   "execution_count": 4,
   "metadata": {},
   "outputs": [
    {
     "data": {
      "text/html": [
       "<div>\n",
       "<style scoped>\n",
       "    .dataframe tbody tr th:only-of-type {\n",
       "        vertical-align: middle;\n",
       "    }\n",
       "\n",
       "    .dataframe tbody tr th {\n",
       "        vertical-align: top;\n",
       "    }\n",
       "\n",
       "    .dataframe thead th {\n",
       "        text-align: right;\n",
       "    }\n",
       "</style>\n",
       "<table border=\"1\" class=\"dataframe\">\n",
       "  <thead>\n",
       "    <tr style=\"text-align: right;\">\n",
       "      <th></th>\n",
       "      <th>SNo</th>\n",
       "      <th>Date</th>\n",
       "      <th>StartupName</th>\n",
       "      <th>IndustryVertical</th>\n",
       "      <th>SubVertical</th>\n",
       "      <th>CityLocation</th>\n",
       "      <th>InvestorsName</th>\n",
       "      <th>InvestmentType</th>\n",
       "      <th>AmountInUSD</th>\n",
       "      <th>Remarks</th>\n",
       "    </tr>\n",
       "  </thead>\n",
       "  <tbody>\n",
       "    <tr>\n",
       "      <th>2367</th>\n",
       "      <td>2367</td>\n",
       "      <td>29/01/2015</td>\n",
       "      <td>Printvenue</td>\n",
       "      <td>NaN</td>\n",
       "      <td>NaN</td>\n",
       "      <td>NaN</td>\n",
       "      <td>Asia Pacific Internet Group</td>\n",
       "      <td>Private Equity</td>\n",
       "      <td>4,500,000</td>\n",
       "      <td>NaN</td>\n",
       "    </tr>\n",
       "    <tr>\n",
       "      <th>2368</th>\n",
       "      <td>2368</td>\n",
       "      <td>29/01/2015</td>\n",
       "      <td>Graphene</td>\n",
       "      <td>NaN</td>\n",
       "      <td>NaN</td>\n",
       "      <td>NaN</td>\n",
       "      <td>KARSEMVEN Fund</td>\n",
       "      <td>Private Equity</td>\n",
       "      <td>825,000</td>\n",
       "      <td>Govt backed VC Fund</td>\n",
       "    </tr>\n",
       "    <tr>\n",
       "      <th>2369</th>\n",
       "      <td>2369</td>\n",
       "      <td>30/01/2015</td>\n",
       "      <td>Mad Street Den</td>\n",
       "      <td>NaN</td>\n",
       "      <td>NaN</td>\n",
       "      <td>NaN</td>\n",
       "      <td>Exfinity Fund, GrowX Ventures.</td>\n",
       "      <td>Private Equity</td>\n",
       "      <td>1,500,000</td>\n",
       "      <td>NaN</td>\n",
       "    </tr>\n",
       "    <tr>\n",
       "      <th>2370</th>\n",
       "      <td>2370</td>\n",
       "      <td>30/01/2015</td>\n",
       "      <td>Simplotel</td>\n",
       "      <td>NaN</td>\n",
       "      <td>NaN</td>\n",
       "      <td>NaN</td>\n",
       "      <td>MakeMyTrip</td>\n",
       "      <td>Private Equity</td>\n",
       "      <td>NaN</td>\n",
       "      <td>Strategic Funding, Minority stake</td>\n",
       "    </tr>\n",
       "    <tr>\n",
       "      <th>2371</th>\n",
       "      <td>2371</td>\n",
       "      <td>31/01/2015</td>\n",
       "      <td>couponmachine.in</td>\n",
       "      <td>NaN</td>\n",
       "      <td>NaN</td>\n",
       "      <td>NaN</td>\n",
       "      <td>UK based Group of Angel Investors</td>\n",
       "      <td>Seed Funding</td>\n",
       "      <td>140,000</td>\n",
       "      <td>NaN</td>\n",
       "    </tr>\n",
       "  </tbody>\n",
       "</table>\n",
       "</div>"
      ],
      "text/plain": [
       "       SNo        Date       StartupName IndustryVertical SubVertical  \\\n",
       "2367  2367  29/01/2015        Printvenue              NaN         NaN   \n",
       "2368  2368  29/01/2015          Graphene              NaN         NaN   \n",
       "2369  2369  30/01/2015    Mad Street Den              NaN         NaN   \n",
       "2370  2370  30/01/2015         Simplotel              NaN         NaN   \n",
       "2371  2371  31/01/2015  couponmachine.in              NaN         NaN   \n",
       "\n",
       "     CityLocation                      InvestorsName  InvestmentType  \\\n",
       "2367          NaN        Asia Pacific Internet Group  Private Equity   \n",
       "2368          NaN                     KARSEMVEN Fund  Private Equity   \n",
       "2369          NaN     Exfinity Fund, GrowX Ventures.  Private Equity   \n",
       "2370          NaN                         MakeMyTrip  Private Equity   \n",
       "2371          NaN  UK based Group of Angel Investors    Seed Funding   \n",
       "\n",
       "     AmountInUSD                            Remarks  \n",
       "2367   4,500,000                                NaN  \n",
       "2368     825,000                Govt backed VC Fund  \n",
       "2369   1,500,000                                NaN  \n",
       "2370         NaN  Strategic Funding, Minority stake  \n",
       "2371     140,000                                NaN  "
      ]
     },
     "execution_count": 4,
     "metadata": {},
     "output_type": "execute_result"
    }
   ],
   "source": [
    "data.tail()"
   ]
  },
  {
   "cell_type": "code",
   "execution_count": 5,
   "metadata": {},
   "outputs": [
    {
     "name": "stdout",
     "output_type": "stream",
     "text": [
      "data contains 2372 rows and 10 columns\n"
     ]
    }
   ],
   "source": [
    "print('data contains',data.shape[0],'rows and',data.shape[1],'columns',sep=' ')"
   ]
  },
  {
   "cell_type": "markdown",
   "metadata": {},
   "source": [
    "#### Lets see the columns (features) we have available."
   ]
  },
  {
   "cell_type": "code",
   "execution_count": 6,
   "metadata": {
    "scrolled": true
   },
   "outputs": [
    {
     "name": "stdout",
     "output_type": "stream",
     "text": [
      "<class 'pandas.core.frame.DataFrame'>\n",
      "RangeIndex: 2372 entries, 0 to 2371\n",
      "Data columns (total 10 columns):\n",
      "SNo                 2372 non-null int64\n",
      "Date                2372 non-null object\n",
      "StartupName         2372 non-null object\n",
      "IndustryVertical    2201 non-null object\n",
      "SubVertical         1436 non-null object\n",
      "CityLocation        2193 non-null object\n",
      "InvestorsName       2364 non-null object\n",
      "InvestmentType      2371 non-null object\n",
      "AmountInUSD         1525 non-null object\n",
      "Remarks             419 non-null object\n",
      "dtypes: int64(1), object(9)\n",
      "memory usage: 185.4+ KB\n",
      "None\n"
     ]
    }
   ],
   "source": [
    "print(data.info())"
   ]
  },
  {
   "cell_type": "markdown",
   "metadata": {},
   "source": [
    "##### From the above output, we can see that there are columns with missing values, so we need to either fill them up using a method or just ignore them. Let's see the process of cleaning the data."
   ]
  },
  {
   "cell_type": "markdown",
   "metadata": {},
   "source": [
    "# Features Descriptions\n",
    "- Sno: Serial number\n",
    "- Date: Date of funding\n",
    "- StartupName: Name of the startup\n",
    "- IndustryVertical: Industry to which the startup belongs.\n",
    "- SubVertical: Sub-category of the industry type.\n",
    "- CityLocation: City which the startup is based out of.\n",
    "- InvestorsName: Name of the investors involved in the funding round.\n",
    "- InvestmentType: Either Private Equity or Seed Funding.\n",
    "- AmountInUSD: Funding Amount in USD.\n",
    "- Remarks: Other information, if any."
   ]
  },
  {
   "cell_type": "markdown",
   "metadata": {},
   "source": [
    "# Data Cleaning"
   ]
  },
  {
   "cell_type": "markdown",
   "metadata": {},
   "source": [
    "First, let's find out the frequency of missing data in each column along with its percentage."
   ]
  },
  {
   "cell_type": "code",
   "execution_count": 7,
   "metadata": {},
   "outputs": [
    {
     "data": {
      "text/html": [
       "<div>\n",
       "<style scoped>\n",
       "    .dataframe tbody tr th:only-of-type {\n",
       "        vertical-align: middle;\n",
       "    }\n",
       "\n",
       "    .dataframe tbody tr th {\n",
       "        vertical-align: top;\n",
       "    }\n",
       "\n",
       "    .dataframe thead th {\n",
       "        text-align: right;\n",
       "    }\n",
       "</style>\n",
       "<table border=\"1\" class=\"dataframe\">\n",
       "  <thead>\n",
       "    <tr style=\"text-align: right;\">\n",
       "      <th></th>\n",
       "      <th>Missing Data</th>\n",
       "      <th>Percentage</th>\n",
       "    </tr>\n",
       "    <tr>\n",
       "      <th>Columns</th>\n",
       "      <th></th>\n",
       "      <th></th>\n",
       "    </tr>\n",
       "  </thead>\n",
       "  <tbody>\n",
       "    <tr>\n",
       "      <th>Remarks</th>\n",
       "      <td>1953</td>\n",
       "      <td>82.335582</td>\n",
       "    </tr>\n",
       "    <tr>\n",
       "      <th>SubVertical</th>\n",
       "      <td>936</td>\n",
       "      <td>39.460371</td>\n",
       "    </tr>\n",
       "    <tr>\n",
       "      <th>AmountInUSD</th>\n",
       "      <td>847</td>\n",
       "      <td>35.708263</td>\n",
       "    </tr>\n",
       "    <tr>\n",
       "      <th>CityLocation</th>\n",
       "      <td>179</td>\n",
       "      <td>7.546374</td>\n",
       "    </tr>\n",
       "    <tr>\n",
       "      <th>IndustryVertical</th>\n",
       "      <td>171</td>\n",
       "      <td>7.209106</td>\n",
       "    </tr>\n",
       "    <tr>\n",
       "      <th>InvestorsName</th>\n",
       "      <td>8</td>\n",
       "      <td>0.337268</td>\n",
       "    </tr>\n",
       "    <tr>\n",
       "      <th>InvestmentType</th>\n",
       "      <td>1</td>\n",
       "      <td>0.042159</td>\n",
       "    </tr>\n",
       "    <tr>\n",
       "      <th>SNo</th>\n",
       "      <td>0</td>\n",
       "      <td>0.000000</td>\n",
       "    </tr>\n",
       "    <tr>\n",
       "      <th>Date</th>\n",
       "      <td>0</td>\n",
       "      <td>0.000000</td>\n",
       "    </tr>\n",
       "    <tr>\n",
       "      <th>StartupName</th>\n",
       "      <td>0</td>\n",
       "      <td>0.000000</td>\n",
       "    </tr>\n",
       "  </tbody>\n",
       "</table>\n",
       "</div>"
      ],
      "text/plain": [
       "                  Missing Data  Percentage\n",
       "Columns                                   \n",
       "Remarks                   1953   82.335582\n",
       "SubVertical                936   39.460371\n",
       "AmountInUSD                847   35.708263\n",
       "CityLocation               179    7.546374\n",
       "IndustryVertical           171    7.209106\n",
       "InvestorsName                8    0.337268\n",
       "InvestmentType               1    0.042159\n",
       "SNo                          0    0.000000\n",
       "Date                         0    0.000000\n",
       "StartupName                  0    0.000000"
      ]
     },
     "execution_count": 7,
     "metadata": {},
     "output_type": "execute_result"
    }
   ],
   "source": [
    "null_values=pd.isnull(data).sum()\n",
    "columns=null_values.index\n",
    "frequency=null_values.values\n",
    "percentage=(frequency/data.shape[0])*100\n",
    "missing_values=pd.DataFrame({'Columns':columns,'Missing Data':frequency,'Percentage':percentage}).sort_values('Percentage',ascending=False).set_index('Columns')\n",
    "missing_values"
   ]
  },
  {
   "cell_type": "markdown",
   "metadata": {},
   "source": [
    "From the above output, we can see that Remarks column has 1953 rows of missing data. Since there is no way to fill in this column neither it looks important for our analysis, we will remove it from our dataset and try to work on the remaining column's missing values.\n",
    "Also removing SNo since it doesn't contribute to our analysis."
   ]
  },
  {
   "cell_type": "code",
   "execution_count": 8,
   "metadata": {},
   "outputs": [],
   "source": [
    "data.drop(columns=['Remarks'],inplace=True)\n",
    "data.drop(columns=['SNo'],inplace=True)"
   ]
  },
  {
   "cell_type": "code",
   "execution_count": 9,
   "metadata": {},
   "outputs": [
    {
     "data": {
      "text/html": [
       "<div>\n",
       "<style scoped>\n",
       "    .dataframe tbody tr th:only-of-type {\n",
       "        vertical-align: middle;\n",
       "    }\n",
       "\n",
       "    .dataframe tbody tr th {\n",
       "        vertical-align: top;\n",
       "    }\n",
       "\n",
       "    .dataframe thead th {\n",
       "        text-align: right;\n",
       "    }\n",
       "</style>\n",
       "<table border=\"1\" class=\"dataframe\">\n",
       "  <thead>\n",
       "    <tr style=\"text-align: right;\">\n",
       "      <th></th>\n",
       "      <th>Missing Data</th>\n",
       "      <th>Percentage</th>\n",
       "    </tr>\n",
       "    <tr>\n",
       "      <th>Columns</th>\n",
       "      <th></th>\n",
       "      <th></th>\n",
       "    </tr>\n",
       "  </thead>\n",
       "  <tbody>\n",
       "    <tr>\n",
       "      <th>SubVertical</th>\n",
       "      <td>936</td>\n",
       "      <td>39.460371</td>\n",
       "    </tr>\n",
       "    <tr>\n",
       "      <th>AmountInUSD</th>\n",
       "      <td>847</td>\n",
       "      <td>35.708263</td>\n",
       "    </tr>\n",
       "    <tr>\n",
       "      <th>CityLocation</th>\n",
       "      <td>179</td>\n",
       "      <td>7.546374</td>\n",
       "    </tr>\n",
       "    <tr>\n",
       "      <th>IndustryVertical</th>\n",
       "      <td>171</td>\n",
       "      <td>7.209106</td>\n",
       "    </tr>\n",
       "    <tr>\n",
       "      <th>InvestorsName</th>\n",
       "      <td>8</td>\n",
       "      <td>0.337268</td>\n",
       "    </tr>\n",
       "    <tr>\n",
       "      <th>InvestmentType</th>\n",
       "      <td>1</td>\n",
       "      <td>0.042159</td>\n",
       "    </tr>\n",
       "    <tr>\n",
       "      <th>Date</th>\n",
       "      <td>0</td>\n",
       "      <td>0.000000</td>\n",
       "    </tr>\n",
       "    <tr>\n",
       "      <th>StartupName</th>\n",
       "      <td>0</td>\n",
       "      <td>0.000000</td>\n",
       "    </tr>\n",
       "  </tbody>\n",
       "</table>\n",
       "</div>"
      ],
      "text/plain": [
       "                  Missing Data  Percentage\n",
       "Columns                                   \n",
       "SubVertical                936   39.460371\n",
       "AmountInUSD                847   35.708263\n",
       "CityLocation               179    7.546374\n",
       "IndustryVertical           171    7.209106\n",
       "InvestorsName                8    0.337268\n",
       "InvestmentType               1    0.042159\n",
       "Date                         0    0.000000\n",
       "StartupName                  0    0.000000"
      ]
     },
     "execution_count": 9,
     "metadata": {},
     "output_type": "execute_result"
    }
   ],
   "source": [
    "null_values=pd.isnull(data).sum()\n",
    "columns=null_values.index\n",
    "frequency=null_values.values\n",
    "percentage=(frequency/data.shape[0])*100\n",
    "missing_values=pd.DataFrame({'Columns':columns,'Missing Data':frequency,'Percentage':percentage}).sort_values('Percentage',ascending=False).set_index('Columns')\n",
    "missing_values"
   ]
  },
  {
   "cell_type": "markdown",
   "metadata": {},
   "source": [
    "Now, lets go one by one and try to fill out missing values in each column."
   ]
  },
  {
   "cell_type": "markdown",
   "metadata": {},
   "source": [
    "# SubVertical"
   ]
  },
  {
   "cell_type": "code",
   "execution_count": 10,
   "metadata": {},
   "outputs": [
    {
     "data": {
      "text/plain": [
       "count                1436\n",
       "unique               1364\n",
       "top       Online Pharmacy\n",
       "freq                    9\n",
       "Name: SubVertical, dtype: object"
      ]
     },
     "execution_count": 10,
     "metadata": {},
     "output_type": "execute_result"
    }
   ],
   "source": [
    "data['SubVertical'].describe()"
   ]
  },
  {
   "cell_type": "code",
   "execution_count": 11,
   "metadata": {},
   "outputs": [
    {
     "data": {
      "text/plain": [
       "1365"
      ]
     },
     "execution_count": 11,
     "metadata": {},
     "output_type": "execute_result"
    }
   ],
   "source": [
    "len(data['SubVertical'].unique())"
   ]
  },
  {
   "cell_type": "markdown",
   "metadata": {},
   "source": [
    "There are 1365 unique sub-categories and 936 unknown sub-categories"
   ]
  },
  {
   "cell_type": "markdown",
   "metadata": {},
   "source": [
    "We have two options from here, that is,\n",
    "1. Fill up the missing values as 'Not specified' string\n",
    "2. Do not fill up the missing values."
   ]
  },
  {
   "cell_type": "markdown",
   "metadata": {},
   "source": [
    "For this analysis, I intend to not fill up the missing values for the SubVertical columns since later on, it might\n",
    "affect our analysis."
   ]
  },
  {
   "cell_type": "code",
   "execution_count": 12,
   "metadata": {},
   "outputs": [],
   "source": [
    "data['SubVertical'].fillna(value='Not Specified or Other',inplace=True)"
   ]
  },
  {
   "cell_type": "markdown",
   "metadata": {},
   "source": [
    "# AmountInUSD"
   ]
  },
  {
   "cell_type": "code",
   "execution_count": 13,
   "metadata": {},
   "outputs": [
    {
     "data": {
      "text/plain": [
       "0    1,300,000\n",
       "1          NaN\n",
       "2          NaN\n",
       "3      500,000\n",
       "4      850,000\n",
       "Name: AmountInUSD, dtype: object"
      ]
     },
     "execution_count": 13,
     "metadata": {},
     "output_type": "execute_result"
    }
   ],
   "source": [
    "data['AmountInUSD'].head()"
   ]
  },
  {
   "cell_type": "markdown",
   "metadata": {},
   "source": [
    "We see that the column is not in numeric format, so lets correct the format and then try to fill up the missing values"
   ]
  },
  {
   "cell_type": "code",
   "execution_count": 14,
   "metadata": {},
   "outputs": [],
   "source": [
    "data['AmountInUSD']=data['AmountInUSD'].apply(lambda x: float(str(x).replace(',','')))"
   ]
  },
  {
   "cell_type": "code",
   "execution_count": 15,
   "metadata": {},
   "outputs": [
    {
     "data": {
      "text/plain": [
       "count          1525\n",
       "mean       12031074\n",
       "std        64031176\n",
       "min           16000\n",
       "25%          370000\n",
       "50%         1070000\n",
       "75%         6000000\n",
       "max      1400000000\n",
       "Name: AmountInUSD, dtype: int64"
      ]
     },
     "execution_count": 15,
     "metadata": {},
     "output_type": "execute_result"
    }
   ],
   "source": [
    "import math\n",
    "data['AmountInUSD'].describe().apply(lambda x: math.ceil(x))\n",
    "# applied math.ceil() to express the numbers in normal format instead of exponential"
   ]
  },
  {
   "cell_type": "code",
   "execution_count": 16,
   "metadata": {},
   "outputs": [
    {
     "data": {
      "text/plain": [
       "(847, 8)"
      ]
     },
     "execution_count": 16,
     "metadata": {},
     "output_type": "execute_result"
    }
   ],
   "source": [
    "data[data['AmountInUSD'].isnull()].shape"
   ]
  },
  {
   "cell_type": "markdown",
   "metadata": {},
   "source": [
    "There are 847 rows with missing values in AmountInUSD column"
   ]
  },
  {
   "cell_type": "markdown",
   "metadata": {},
   "source": [
    "median_amount_of_industries=data.groupby('IndustryVertical')['AmountInUSD'].median().sort_values(ascending=False).apply(lambda x:format(x,'f'))"
   ]
  },
  {
   "cell_type": "markdown",
   "metadata": {},
   "source": [
    "d=dict(zip(median_amount_of_industries.index,median_amount_of_industries.values))\n",
    "for i,v in d.items():\n",
    "    if v==np.nan or v is None:\n",
    "        v=None\n",
    "    d[i]=round(float(v),1)"
   ]
  },
  {
   "cell_type": "markdown",
   "metadata": {},
   "source": [
    "As the funding provided to startups vary due to factors such as business models, requirement of funds, target industry, and so on. Thus, the missing values of funding should not be filled by measures of central tendency."
   ]
  },
  {
   "cell_type": "markdown",
   "metadata": {},
   "source": [
    "# CityLocation"
   ]
  },
  {
   "cell_type": "markdown",
   "metadata": {},
   "source": [
    "The missing value for cities can be filled by 'Not Specified\""
   ]
  },
  {
   "cell_type": "code",
   "execution_count": 17,
   "metadata": {},
   "outputs": [
    {
     "data": {
      "text/plain": [
       "0    Bangalore\n",
       "1       Mumbai\n",
       "2    New Delhi\n",
       "3       Mumbai\n",
       "4    Hyderabad\n",
       "5    Bangalore\n",
       "6    Ahmedabad\n",
       "7      Gurgaon\n",
       "8    Bangalore\n",
       "9        Noida\n",
       "Name: CityLocation, dtype: object"
      ]
     },
     "execution_count": 17,
     "metadata": {},
     "output_type": "execute_result"
    }
   ],
   "source": [
    "data['CityLocation'].head(10)"
   ]
  },
  {
   "cell_type": "code",
   "execution_count": 18,
   "metadata": {},
   "outputs": [
    {
     "data": {
      "text/plain": [
       "count          2193\n",
       "unique           71\n",
       "top       Bangalore\n",
       "freq            627\n",
       "Name: CityLocation, dtype: object"
      ]
     },
     "execution_count": 18,
     "metadata": {},
     "output_type": "execute_result"
    }
   ],
   "source": [
    "data['CityLocation'].describe()"
   ]
  },
  {
   "cell_type": "code",
   "execution_count": 19,
   "metadata": {},
   "outputs": [
    {
     "data": {
      "text/plain": [
       "(179, 8)"
      ]
     },
     "execution_count": 19,
     "metadata": {},
     "output_type": "execute_result"
    }
   ],
   "source": [
    "data[data['CityLocation'].isnull()].shape"
   ]
  },
  {
   "cell_type": "markdown",
   "metadata": {},
   "source": [
    "There are 179 null values in CityLocation. that is 7% of the entire data set. Let's fill up the null values with \"Not Specific\".  \n",
    "Also, if we see closely, some rows have multiple cities, So lets clean them up and just use one city name."
   ]
  },
  {
   "cell_type": "code",
   "execution_count": 20,
   "metadata": {},
   "outputs": [],
   "source": [
    "data['CityLocation'].fillna(value='Not Specified',inplace=True)"
   ]
  },
  {
   "cell_type": "markdown",
   "metadata": {},
   "source": [
    "Making a function to check if multiple cities are mentioned separated by '/', if yes, then replace it with the first name. "
   ]
  },
  {
   "cell_type": "code",
   "execution_count": 21,
   "metadata": {},
   "outputs": [],
   "source": [
    "def city_cleaner(x):\n",
    "    return x.split('/')[0].strip()"
   ]
  },
  {
   "cell_type": "code",
   "execution_count": 22,
   "metadata": {},
   "outputs": [],
   "source": [
    "data['CityLocation']=data['CityLocation'].apply(city_cleaner)"
   ]
  },
  {
   "cell_type": "code",
   "execution_count": 23,
   "metadata": {},
   "outputs": [
    {
     "data": {
      "text/plain": [
       "Bangalore        634\n",
       "Mumbai           449\n",
       "New Delhi        385\n",
       "Gurgaon          241\n",
       "Not Specified    179\n",
       "Pune              91\n",
       "Noida             79\n",
       "Hyderabad         77\n",
       "Chennai           67\n",
       "Ahmedabad         35\n",
       "Jaipur            25\n",
       "Kolkata           19\n",
       "Chandigarh        10\n",
       "Vadodara           9\n",
       "Indore             9\n",
       "Name: CityLocation, dtype: int64"
      ]
     },
     "execution_count": 23,
     "metadata": {},
     "output_type": "execute_result"
    }
   ],
   "source": [
    "data['CityLocation'].value_counts().head(15)"
   ]
  },
  {
   "cell_type": "markdown",
   "metadata": {},
   "source": [
    "# IndustryVertical"
   ]
  },
  {
   "cell_type": "markdown",
   "metadata": {},
   "source": [
    "IndustryVertical has 171 null values, filling those rows with value 'Other'.  \n",
    "Also, IndustryVertical consists of some duplicate values with different caps. To sort this, lets convert all to lowercase so that all have same caps"
   ]
  },
  {
   "cell_type": "code",
   "execution_count": 24,
   "metadata": {},
   "outputs": [
    {
     "data": {
      "text/plain": [
       "0           Technology\n",
       "1           Technology\n",
       "2    Consumer Internet\n",
       "3    Consumer Internet\n",
       "4    Consumer Internet\n",
       "5    Consumer Internet\n",
       "6           Technology\n",
       "7            eCommerce\n",
       "8            eCommerce\n",
       "9            eCommerce\n",
       "Name: IndustryVertical, dtype: object"
      ]
     },
     "execution_count": 24,
     "metadata": {},
     "output_type": "execute_result"
    }
   ],
   "source": [
    "data['IndustryVertical'].head(10)"
   ]
  },
  {
   "cell_type": "code",
   "execution_count": 25,
   "metadata": {},
   "outputs": [],
   "source": [
    "data['IndustryVertical'].fillna('Others',inplace=True)"
   ]
  },
  {
   "cell_type": "code",
   "execution_count": 26,
   "metadata": {},
   "outputs": [],
   "source": [
    "data['IndustryVertical']=data['IndustryVertical'].apply(lambda x: x.lower())"
   ]
  },
  {
   "cell_type": "markdown",
   "metadata": {},
   "source": [
    "# InvestorsName"
   ]
  },
  {
   "cell_type": "code",
   "execution_count": 27,
   "metadata": {},
   "outputs": [
    {
     "data": {
      "text/plain": [
       "Undisclosed Investors    33\n",
       "Undisclosed investors    27\n",
       "Ratan Tata               24\n",
       "Indian Angel Network     24\n",
       "Kalaari Capital          16\n",
       "Name: InvestorsName, dtype: int64"
      ]
     },
     "execution_count": 27,
     "metadata": {},
     "output_type": "execute_result"
    }
   ],
   "source": [
    "data['InvestorsName'].value_counts().head()"
   ]
  },
  {
   "cell_type": "markdown",
   "metadata": {},
   "source": [
    "InvestorsName has 8 null values, filling those rows with value 'Undisclosed Investors'.  \n",
    "Also we need to change 'Undisclosed investors' to 'Undisclosed Investors'"
   ]
  },
  {
   "cell_type": "code",
   "execution_count": 28,
   "metadata": {},
   "outputs": [],
   "source": [
    "data['InvestorsName'].fillna(value='Undisclosed Investors',inplace=True)\n",
    "data['InvestorsName']=data['InvestorsName'].replace('Undisclosed investors','Undisclosed Investors')"
   ]
  },
  {
   "cell_type": "code",
   "execution_count": 29,
   "metadata": {},
   "outputs": [
    {
     "data": {
      "text/plain": [
       "Undisclosed Investors       68\n",
       "Indian Angel Network        24\n",
       "Ratan Tata                  24\n",
       "Kalaari Capital             16\n",
       "Group of Angel Investors    15\n",
       "Name: InvestorsName, dtype: int64"
      ]
     },
     "execution_count": 29,
     "metadata": {},
     "output_type": "execute_result"
    }
   ],
   "source": [
    "data['InvestorsName'].value_counts().head()"
   ]
  },
  {
   "cell_type": "markdown",
   "metadata": {},
   "source": [
    "# InvestmentType"
   ]
  },
  {
   "cell_type": "code",
   "execution_count": 30,
   "metadata": {},
   "outputs": [
    {
     "data": {
      "text/plain": [
       "count             2371\n",
       "unique               7\n",
       "top       Seed Funding\n",
       "freq              1271\n",
       "Name: InvestmentType, dtype: object"
      ]
     },
     "execution_count": 30,
     "metadata": {},
     "output_type": "execute_result"
    }
   ],
   "source": [
    "data['InvestmentType'].describe()"
   ]
  },
  {
   "cell_type": "markdown",
   "metadata": {},
   "source": [
    "Let's fill up the 1 missing value in InvestmentType with the most common value, that is, Seed Funding"
   ]
  },
  {
   "cell_type": "code",
   "execution_count": 31,
   "metadata": {},
   "outputs": [],
   "source": [
    "data['InvestmentType'].fillna('Seed Funding',inplace=True)"
   ]
  },
  {
   "cell_type": "markdown",
   "metadata": {},
   "source": [
    "# Date"
   ]
  },
  {
   "cell_type": "code",
   "execution_count": 32,
   "metadata": {},
   "outputs": [
    {
     "data": {
      "text/plain": [
       "count           2372\n",
       "unique           701\n",
       "top       30/11/2016\n",
       "freq              11\n",
       "Name: Date, dtype: object"
      ]
     },
     "execution_count": 32,
     "metadata": {},
     "output_type": "execute_result"
    }
   ],
   "source": [
    "data['Date'].describe()"
   ]
  },
  {
   "cell_type": "markdown",
   "metadata": {},
   "source": [
    "When i initially tried to convert Date column to date time, several errors popped up due to bad format ('.' instead of '/' and so on. So cleaned the strings, then converted to datetime"
   ]
  },
  {
   "cell_type": "code",
   "execution_count": 33,
   "metadata": {},
   "outputs": [],
   "source": [
    "data['Date']=data['Date'].apply(lambda x: str(x).replace('.','/'))\n",
    "data['Date']=data['Date'].apply(lambda x: str(x).replace('//','/'))"
   ]
  },
  {
   "cell_type": "code",
   "execution_count": 34,
   "metadata": {},
   "outputs": [],
   "source": [
    "data['Date']=pd.to_datetime(data['Date'])"
   ]
  },
  {
   "cell_type": "code",
   "execution_count": 35,
   "metadata": {},
   "outputs": [
    {
     "data": {
      "text/html": [
       "<div>\n",
       "<style scoped>\n",
       "    .dataframe tbody tr th:only-of-type {\n",
       "        vertical-align: middle;\n",
       "    }\n",
       "\n",
       "    .dataframe tbody tr th {\n",
       "        vertical-align: top;\n",
       "    }\n",
       "\n",
       "    .dataframe thead th {\n",
       "        text-align: right;\n",
       "    }\n",
       "</style>\n",
       "<table border=\"1\" class=\"dataframe\">\n",
       "  <thead>\n",
       "    <tr style=\"text-align: right;\">\n",
       "      <th></th>\n",
       "      <th>Date</th>\n",
       "      <th>StartupName</th>\n",
       "      <th>IndustryVertical</th>\n",
       "      <th>SubVertical</th>\n",
       "      <th>CityLocation</th>\n",
       "      <th>InvestorsName</th>\n",
       "      <th>InvestmentType</th>\n",
       "      <th>AmountInUSD</th>\n",
       "    </tr>\n",
       "  </thead>\n",
       "  <tbody>\n",
       "    <tr>\n",
       "      <th>0</th>\n",
       "      <td>2017-01-08</td>\n",
       "      <td>TouchKin</td>\n",
       "      <td>technology</td>\n",
       "      <td>Predictive Care Platform</td>\n",
       "      <td>Bangalore</td>\n",
       "      <td>Kae Capital</td>\n",
       "      <td>Private Equity</td>\n",
       "      <td>1300000.0</td>\n",
       "    </tr>\n",
       "    <tr>\n",
       "      <th>1</th>\n",
       "      <td>2017-02-08</td>\n",
       "      <td>Ethinos</td>\n",
       "      <td>technology</td>\n",
       "      <td>Digital Marketing Agency</td>\n",
       "      <td>Mumbai</td>\n",
       "      <td>Triton Investment Advisors</td>\n",
       "      <td>Private Equity</td>\n",
       "      <td>NaN</td>\n",
       "    </tr>\n",
       "    <tr>\n",
       "      <th>2</th>\n",
       "      <td>2017-02-08</td>\n",
       "      <td>Leverage Edu</td>\n",
       "      <td>consumer internet</td>\n",
       "      <td>Online platform for Higher Education Services</td>\n",
       "      <td>New Delhi</td>\n",
       "      <td>Kashyap Deorah, Anand Sankeshwar, Deepak Jain,...</td>\n",
       "      <td>Seed Funding</td>\n",
       "      <td>NaN</td>\n",
       "    </tr>\n",
       "    <tr>\n",
       "      <th>3</th>\n",
       "      <td>2017-02-08</td>\n",
       "      <td>Zepo</td>\n",
       "      <td>consumer internet</td>\n",
       "      <td>DIY Ecommerce platform</td>\n",
       "      <td>Mumbai</td>\n",
       "      <td>Kunal Shah, LetsVenture, Anupam Mittal, Hetal ...</td>\n",
       "      <td>Seed Funding</td>\n",
       "      <td>500000.0</td>\n",
       "    </tr>\n",
       "    <tr>\n",
       "      <th>4</th>\n",
       "      <td>2017-02-08</td>\n",
       "      <td>Click2Clinic</td>\n",
       "      <td>consumer internet</td>\n",
       "      <td>healthcare service aggregator</td>\n",
       "      <td>Hyderabad</td>\n",
       "      <td>Narottam Thudi, Shireesh Palle</td>\n",
       "      <td>Seed Funding</td>\n",
       "      <td>850000.0</td>\n",
       "    </tr>\n",
       "  </tbody>\n",
       "</table>\n",
       "</div>"
      ],
      "text/plain": [
       "        Date   StartupName   IndustryVertical  \\\n",
       "0 2017-01-08      TouchKin         technology   \n",
       "1 2017-02-08       Ethinos         technology   \n",
       "2 2017-02-08  Leverage Edu  consumer internet   \n",
       "3 2017-02-08          Zepo  consumer internet   \n",
       "4 2017-02-08  Click2Clinic  consumer internet   \n",
       "\n",
       "                                     SubVertical CityLocation  \\\n",
       "0                       Predictive Care Platform    Bangalore   \n",
       "1                       Digital Marketing Agency       Mumbai   \n",
       "2  Online platform for Higher Education Services    New Delhi   \n",
       "3                         DIY Ecommerce platform       Mumbai   \n",
       "4                  healthcare service aggregator    Hyderabad   \n",
       "\n",
       "                                       InvestorsName  InvestmentType  \\\n",
       "0                                        Kae Capital  Private Equity   \n",
       "1                         Triton Investment Advisors  Private Equity   \n",
       "2  Kashyap Deorah, Anand Sankeshwar, Deepak Jain,...    Seed Funding   \n",
       "3  Kunal Shah, LetsVenture, Anupam Mittal, Hetal ...    Seed Funding   \n",
       "4                     Narottam Thudi, Shireesh Palle    Seed Funding   \n",
       "\n",
       "   AmountInUSD  \n",
       "0    1300000.0  \n",
       "1          NaN  \n",
       "2          NaN  \n",
       "3     500000.0  \n",
       "4     850000.0  "
      ]
     },
     "execution_count": 35,
     "metadata": {},
     "output_type": "execute_result"
    }
   ],
   "source": [
    "data.head()"
   ]
  },
  {
   "cell_type": "code",
   "execution_count": 36,
   "metadata": {},
   "outputs": [],
   "source": [
    "data=data.sort_values('Date',ascending=False).reset_index()"
   ]
  },
  {
   "cell_type": "code",
   "execution_count": 37,
   "metadata": {},
   "outputs": [
    {
     "data": {
      "text/html": [
       "<div>\n",
       "<style scoped>\n",
       "    .dataframe tbody tr th:only-of-type {\n",
       "        vertical-align: middle;\n",
       "    }\n",
       "\n",
       "    .dataframe tbody tr th {\n",
       "        vertical-align: top;\n",
       "    }\n",
       "\n",
       "    .dataframe thead th {\n",
       "        text-align: right;\n",
       "    }\n",
       "</style>\n",
       "<table border=\"1\" class=\"dataframe\">\n",
       "  <thead>\n",
       "    <tr style=\"text-align: right;\">\n",
       "      <th></th>\n",
       "      <th>index</th>\n",
       "      <th>Date</th>\n",
       "      <th>StartupName</th>\n",
       "      <th>IndustryVertical</th>\n",
       "      <th>SubVertical</th>\n",
       "      <th>CityLocation</th>\n",
       "      <th>InvestorsName</th>\n",
       "      <th>InvestmentType</th>\n",
       "      <th>AmountInUSD</th>\n",
       "    </tr>\n",
       "  </thead>\n",
       "  <tbody>\n",
       "    <tr>\n",
       "      <th>0</th>\n",
       "      <td>19</td>\n",
       "      <td>2017-12-07</td>\n",
       "      <td>Innoviti</td>\n",
       "      <td>technology</td>\n",
       "      <td>Digital payments solutions</td>\n",
       "      <td>Bangalore</td>\n",
       "      <td>SBI-FMO Fund, Bessemer Venture Partners, Catam...</td>\n",
       "      <td>Private Equity</td>\n",
       "      <td>18500000.0</td>\n",
       "    </tr>\n",
       "    <tr>\n",
       "      <th>1</th>\n",
       "      <td>22</td>\n",
       "      <td>2017-12-07</td>\n",
       "      <td>Arcatron</td>\n",
       "      <td>technology</td>\n",
       "      <td>Next Gen Mobility device manufacturer</td>\n",
       "      <td>Pune</td>\n",
       "      <td>Indian Angel Network</td>\n",
       "      <td>Seed Funding</td>\n",
       "      <td>NaN</td>\n",
       "    </tr>\n",
       "    <tr>\n",
       "      <th>2</th>\n",
       "      <td>21</td>\n",
       "      <td>2017-12-07</td>\n",
       "      <td>Bottr.me</td>\n",
       "      <td>technology</td>\n",
       "      <td>Chatbot creation tool</td>\n",
       "      <td>Bangalore</td>\n",
       "      <td>500 Startups, Purvi Capital, Rajan Anandan, Ab...</td>\n",
       "      <td>Seed Funding</td>\n",
       "      <td>NaN</td>\n",
       "    </tr>\n",
       "    <tr>\n",
       "      <th>3</th>\n",
       "      <td>20</td>\n",
       "      <td>2017-12-07</td>\n",
       "      <td>VDeliver</td>\n",
       "      <td>logistics</td>\n",
       "      <td>Door Step Delivery platform</td>\n",
       "      <td>Hyderabad</td>\n",
       "      <td>Corvus Ventures, MAPE Advisory Group</td>\n",
       "      <td>Private Equity</td>\n",
       "      <td>NaN</td>\n",
       "    </tr>\n",
       "    <tr>\n",
       "      <th>4</th>\n",
       "      <td>72</td>\n",
       "      <td>2017-12-06</td>\n",
       "      <td>CoverFox</td>\n",
       "      <td>consumer internet</td>\n",
       "      <td>Online insurance brokerage platform</td>\n",
       "      <td>Mumbai</td>\n",
       "      <td>Transamerica</td>\n",
       "      <td>Private Equity</td>\n",
       "      <td>15000000.0</td>\n",
       "    </tr>\n",
       "  </tbody>\n",
       "</table>\n",
       "</div>"
      ],
      "text/plain": [
       "   index       Date StartupName   IndustryVertical  \\\n",
       "0     19 2017-12-07    Innoviti         technology   \n",
       "1     22 2017-12-07    Arcatron         technology   \n",
       "2     21 2017-12-07    Bottr.me         technology   \n",
       "3     20 2017-12-07    VDeliver          logistics   \n",
       "4     72 2017-12-06    CoverFox  consumer internet   \n",
       "\n",
       "                             SubVertical CityLocation  \\\n",
       "0             Digital payments solutions    Bangalore   \n",
       "1  Next Gen Mobility device manufacturer         Pune   \n",
       "2                  Chatbot creation tool    Bangalore   \n",
       "3            Door Step Delivery platform    Hyderabad   \n",
       "4    Online insurance brokerage platform       Mumbai   \n",
       "\n",
       "                                       InvestorsName  InvestmentType  \\\n",
       "0  SBI-FMO Fund, Bessemer Venture Partners, Catam...  Private Equity   \n",
       "1                               Indian Angel Network    Seed Funding   \n",
       "2  500 Startups, Purvi Capital, Rajan Anandan, Ab...    Seed Funding   \n",
       "3               Corvus Ventures, MAPE Advisory Group  Private Equity   \n",
       "4                                       Transamerica  Private Equity   \n",
       "\n",
       "   AmountInUSD  \n",
       "0   18500000.0  \n",
       "1          NaN  \n",
       "2          NaN  \n",
       "3          NaN  \n",
       "4   15000000.0  "
      ]
     },
     "execution_count": 37,
     "metadata": {},
     "output_type": "execute_result"
    }
   ],
   "source": [
    "data.head()"
   ]
  },
  {
   "cell_type": "markdown",
   "metadata": {},
   "source": [
    "# StartupName"
   ]
  },
  {
   "cell_type": "code",
   "execution_count": 38,
   "metadata": {},
   "outputs": [],
   "source": [
    "data['StartupName']=data['StartupName'].apply(lambda x: x.lower())"
   ]
  },
  {
   "cell_type": "markdown",
   "metadata": {},
   "source": [
    "While exploring the data, it was found that there have been separate names for same startups due to difference in spellings. So let's remove all ambiguous names."
   ]
  },
  {
   "cell_type": "code",
   "execution_count": 39,
   "metadata": {},
   "outputs": [
    {
     "data": {
      "text/plain": [
       "array(['innoviti', 'arcatron', 'bottr.me', ..., 'proviera', 'foodpanda',\n",
       "       'termsheet'], dtype=object)"
      ]
     },
     "execution_count": 39,
     "metadata": {},
     "output_type": "execute_result"
    }
   ],
   "source": [
    "np.array(data['StartupName'].values)"
   ]
  },
  {
   "cell_type": "code",
   "execution_count": 40,
   "metadata": {},
   "outputs": [],
   "source": [
    "unique_name=data['StartupName'].unique()\n",
    "name=np.array(data['StartupName'].values)\n",
    "for i in range(len(unique_name)):\n",
    "    for j in range(len(name)):\n",
    "        if(re.search(unique_name[i],name[j])):\n",
    "            name[j]=unique_name[i]"
   ]
  },
  {
   "cell_type": "code",
   "execution_count": 41,
   "metadata": {},
   "outputs": [],
   "source": [
    "data['StartupName']=name"
   ]
  },
  {
   "cell_type": "markdown",
   "metadata": {},
   "source": [
    "# Exploring the Data"
   ]
  },
  {
   "cell_type": "markdown",
   "metadata": {},
   "source": [
    "# Q1. Top 20 Startups on the basis of funds acquired"
   ]
  },
  {
   "cell_type": "code",
   "execution_count": 42,
   "metadata": {},
   "outputs": [
    {
     "data": {
      "text/html": [
       "<div>\n",
       "<style scoped>\n",
       "    .dataframe tbody tr th:only-of-type {\n",
       "        vertical-align: middle;\n",
       "    }\n",
       "\n",
       "    .dataframe tbody tr th {\n",
       "        vertical-align: top;\n",
       "    }\n",
       "\n",
       "    .dataframe thead th {\n",
       "        text-align: right;\n",
       "    }\n",
       "</style>\n",
       "<table border=\"1\" class=\"dataframe\">\n",
       "  <thead>\n",
       "    <tr style=\"text-align: right;\">\n",
       "      <th></th>\n",
       "      <th>AmountInUSD</th>\n",
       "    </tr>\n",
       "    <tr>\n",
       "      <th>StartupName</th>\n",
       "      <th></th>\n",
       "    </tr>\n",
       "  </thead>\n",
       "  <tbody>\n",
       "    <tr>\n",
       "      <th>paytm</th>\n",
       "      <td>2340000000</td>\n",
       "    </tr>\n",
       "    <tr>\n",
       "      <th>flipkart</th>\n",
       "      <td>2259700000</td>\n",
       "    </tr>\n",
       "    <tr>\n",
       "      <th>ola</th>\n",
       "      <td>1951670000</td>\n",
       "    </tr>\n",
       "    <tr>\n",
       "      <th>snapdeal</th>\n",
       "      <td>700000000</td>\n",
       "    </tr>\n",
       "    <tr>\n",
       "      <th>oyo</th>\n",
       "      <td>637000000</td>\n",
       "    </tr>\n",
       "    <tr>\n",
       "      <th>quikr</th>\n",
       "      <td>230000000</td>\n",
       "    </tr>\n",
       "    <tr>\n",
       "      <th>delhivery</th>\n",
       "      <td>215000000</td>\n",
       "    </tr>\n",
       "    <tr>\n",
       "      <th>foodpanda</th>\n",
       "      <td>210000000</td>\n",
       "    </tr>\n",
       "    <tr>\n",
       "      <th>shopclues</th>\n",
       "      <td>207700000</td>\n",
       "    </tr>\n",
       "    <tr>\n",
       "      <th>bigbasket</th>\n",
       "      <td>207000000</td>\n",
       "    </tr>\n",
       "    <tr>\n",
       "      <th>cartrade</th>\n",
       "      <td>200000000</td>\n",
       "    </tr>\n",
       "    <tr>\n",
       "      <th>makemytrip</th>\n",
       "      <td>180000000</td>\n",
       "    </tr>\n",
       "    <tr>\n",
       "      <th>practo</th>\n",
       "      <td>175000000</td>\n",
       "    </tr>\n",
       "    <tr>\n",
       "      <th>byju’s</th>\n",
       "      <td>175000000</td>\n",
       "    </tr>\n",
       "    <tr>\n",
       "      <th>hike</th>\n",
       "      <td>175000000</td>\n",
       "    </tr>\n",
       "    <tr>\n",
       "      <th>swiggy</th>\n",
       "      <td>170500000</td>\n",
       "    </tr>\n",
       "    <tr>\n",
       "      <th>grofers</th>\n",
       "      <td>165000000</td>\n",
       "    </tr>\n",
       "    <tr>\n",
       "      <th>ecom express</th>\n",
       "      <td>137000000</td>\n",
       "    </tr>\n",
       "    <tr>\n",
       "      <th>freecharge</th>\n",
       "      <td>137000000</td>\n",
       "    </tr>\n",
       "    <tr>\n",
       "      <th>pepperfry</th>\n",
       "      <td>131300000</td>\n",
       "    </tr>\n",
       "  </tbody>\n",
       "</table>\n",
       "</div>"
      ],
      "text/plain": [
       "              AmountInUSD\n",
       "StartupName              \n",
       "paytm          2340000000\n",
       "flipkart       2259700000\n",
       "ola            1951670000\n",
       "snapdeal        700000000\n",
       "oyo             637000000\n",
       "quikr           230000000\n",
       "delhivery       215000000\n",
       "foodpanda       210000000\n",
       "shopclues       207700000\n",
       "bigbasket       207000000\n",
       "cartrade        200000000\n",
       "makemytrip      180000000\n",
       "practo          175000000\n",
       "byju’s          175000000\n",
       "hike            175000000\n",
       "swiggy          170500000\n",
       "grofers         165000000\n",
       "ecom express    137000000\n",
       "freecharge      137000000\n",
       "pepperfry       131300000"
      ]
     },
     "execution_count": 42,
     "metadata": {},
     "output_type": "execute_result"
    }
   ],
   "source": [
    "top_20_startups=pd.DataFrame(data.groupby('StartupName')['AmountInUSD'].sum().sort_values(ascending=False).head(20))\n",
    "top_20_startups['AmountInUSD']=top_20_startups['AmountInUSD'].apply(lambda x: math.ceil(x))\n",
    "top_20_startups"
   ]
  },
  {
   "cell_type": "markdown",
   "metadata": {},
   "source": [
    "We see Flipkart and Flipkart.com, being the same startup, are presented separately here. Also, Ola Cabs, Olacabs and Ola"
   ]
  },
  {
   "cell_type": "markdown",
   "metadata": {},
   "source": [
    "data['StartupName']=data['StartupName'].replace('flipkart.com','flipkart')\n",
    "data['StartupName']=data['StartupName'].replace('ola cabs','ola')\n",
    "data['StartupName']=data['StartupName'].replace('olacabs','ola')"
   ]
  },
  {
   "cell_type": "markdown",
   "metadata": {},
   "source": [
    "The above Output shows the top 20 startups funded between January 2015 to December 2017.  \n",
    "**Paytm** and **Flipkart** are the highest funded startups."
   ]
  },
  {
   "cell_type": "markdown",
   "metadata": {},
   "source": [
    "# Q2. Startup(s) which acquired the minimum amount of funds"
   ]
  },
  {
   "cell_type": "code",
   "execution_count": 43,
   "metadata": {},
   "outputs": [
    {
     "name": "stdout",
     "output_type": "stream",
     "text": [
      "Minimum funds acquired by a startup:  16000.0\n"
     ]
    }
   ],
   "source": [
    "print('Minimum funds acquired by a startup: ',data['AmountInUSD'].describe()['min'])"
   ]
  },
  {
   "cell_type": "code",
   "execution_count": 44,
   "metadata": {},
   "outputs": [
    {
     "data": {
      "text/html": [
       "<div>\n",
       "<style scoped>\n",
       "    .dataframe tbody tr th:only-of-type {\n",
       "        vertical-align: middle;\n",
       "    }\n",
       "\n",
       "    .dataframe tbody tr th {\n",
       "        vertical-align: top;\n",
       "    }\n",
       "\n",
       "    .dataframe thead th {\n",
       "        text-align: right;\n",
       "    }\n",
       "</style>\n",
       "<table border=\"1\" class=\"dataframe\">\n",
       "  <thead>\n",
       "    <tr style=\"text-align: right;\">\n",
       "      <th></th>\n",
       "      <th>index</th>\n",
       "      <th>Date</th>\n",
       "      <th>StartupName</th>\n",
       "      <th>IndustryVertical</th>\n",
       "      <th>SubVertical</th>\n",
       "      <th>CityLocation</th>\n",
       "      <th>InvestorsName</th>\n",
       "      <th>InvestmentType</th>\n",
       "      <th>AmountInUSD</th>\n",
       "    </tr>\n",
       "  </thead>\n",
       "  <tbody>\n",
       "    <tr>\n",
       "      <th>2322</th>\n",
       "      <td>2347</td>\n",
       "      <td>2015-01-19</td>\n",
       "      <td>yo grad</td>\n",
       "      <td>others</td>\n",
       "      <td>Not Specified or Other</td>\n",
       "      <td>Not Specified</td>\n",
       "      <td>Hyderabad Angels (at Startup Heroes event)</td>\n",
       "      <td>Seed Funding</td>\n",
       "      <td>16000.0</td>\n",
       "    </tr>\n",
       "    <tr>\n",
       "      <th>2325</th>\n",
       "      <td>2345</td>\n",
       "      <td>2015-01-19</td>\n",
       "      <td>hostel dunia</td>\n",
       "      <td>others</td>\n",
       "      <td>Not Specified or Other</td>\n",
       "      <td>Not Specified</td>\n",
       "      <td>Hyderabad Angels (at Startup Heroes event)</td>\n",
       "      <td>Seed Funding</td>\n",
       "      <td>16000.0</td>\n",
       "    </tr>\n",
       "    <tr>\n",
       "      <th>2326</th>\n",
       "      <td>2346</td>\n",
       "      <td>2015-01-19</td>\n",
       "      <td>play your sport</td>\n",
       "      <td>others</td>\n",
       "      <td>Not Specified or Other</td>\n",
       "      <td>Not Specified</td>\n",
       "      <td>Hyderabad Angels (at Startup Heroes event)</td>\n",
       "      <td>Seed Funding</td>\n",
       "      <td>16000.0</td>\n",
       "    </tr>\n",
       "    <tr>\n",
       "      <th>2328</th>\n",
       "      <td>2348</td>\n",
       "      <td>2015-01-19</td>\n",
       "      <td>enabli</td>\n",
       "      <td>others</td>\n",
       "      <td>Not Specified or Other</td>\n",
       "      <td>Not Specified</td>\n",
       "      <td>Hyderabad Angels (at Startup Heroes event)</td>\n",
       "      <td>Seed Funding</td>\n",
       "      <td>16000.0</td>\n",
       "    </tr>\n",
       "    <tr>\n",
       "      <th>2329</th>\n",
       "      <td>2349</td>\n",
       "      <td>2015-01-19</td>\n",
       "      <td>cbs</td>\n",
       "      <td>others</td>\n",
       "      <td>Not Specified or Other</td>\n",
       "      <td>Not Specified</td>\n",
       "      <td>Hyderabad Angels (at Startup Heroes event)</td>\n",
       "      <td>Seed Funding</td>\n",
       "      <td>16000.0</td>\n",
       "    </tr>\n",
       "  </tbody>\n",
       "</table>\n",
       "</div>"
      ],
      "text/plain": [
       "      index       Date      StartupName IndustryVertical  \\\n",
       "2322   2347 2015-01-19          yo grad           others   \n",
       "2325   2345 2015-01-19     hostel dunia           others   \n",
       "2326   2346 2015-01-19  play your sport           others   \n",
       "2328   2348 2015-01-19           enabli           others   \n",
       "2329   2349 2015-01-19              cbs           others   \n",
       "\n",
       "                 SubVertical   CityLocation  \\\n",
       "2322  Not Specified or Other  Not Specified   \n",
       "2325  Not Specified or Other  Not Specified   \n",
       "2326  Not Specified or Other  Not Specified   \n",
       "2328  Not Specified or Other  Not Specified   \n",
       "2329  Not Specified or Other  Not Specified   \n",
       "\n",
       "                                   InvestorsName InvestmentType  AmountInUSD  \n",
       "2322  Hyderabad Angels (at Startup Heroes event)   Seed Funding      16000.0  \n",
       "2325  Hyderabad Angels (at Startup Heroes event)   Seed Funding      16000.0  \n",
       "2326  Hyderabad Angels (at Startup Heroes event)   Seed Funding      16000.0  \n",
       "2328  Hyderabad Angels (at Startup Heroes event)   Seed Funding      16000.0  \n",
       "2329  Hyderabad Angels (at Startup Heroes event)   Seed Funding      16000.0  "
      ]
     },
     "execution_count": 44,
     "metadata": {},
     "output_type": "execute_result"
    }
   ],
   "source": [
    "data[data['AmountInUSD']==16000]"
   ]
  },
  {
   "cell_type": "markdown",
   "metadata": {},
   "source": [
    "**Yo Grad**, **Hostel Dunia**, **Plan Your Sport**, **Enabli**, and **CBS** are the startups who acquired least funding, that is, \\$16000"
   ]
  },
  {
   "cell_type": "markdown",
   "metadata": {},
   "source": [
    "# Q3. Which Industry has max number of startups funded?"
   ]
  },
  {
   "cell_type": "code",
   "execution_count": 45,
   "metadata": {},
   "outputs": [
    {
     "data": {
      "text/plain": [
       "consumer internet    772\n",
       "technology           313\n",
       "ecommerce            230\n",
       "healthcare            31\n",
       "logistics             24\n",
       "education             20\n",
       "food & beverage       19\n",
       "finance                9\n",
       "Name: IndustryVertical, dtype: int64"
      ]
     },
     "execution_count": 45,
     "metadata": {},
     "output_type": "execute_result"
    }
   ],
   "source": [
    "df=data[data['IndustryVertical']!='others']\n",
    "df['IndustryVertical'].value_counts().sort_values(ascending=False).head(8)"
   ]
  },
  {
   "cell_type": "code",
   "execution_count": 46,
   "metadata": {},
   "outputs": [],
   "source": [
    "mask=df.groupby('IndustryVertical')['StartupName'].count().sort_values(ascending=False).head(10).index.tolist()\n",
    "top_10_industries=data[data['IndustryVertical'].isin(mask)]"
   ]
  },
  {
   "cell_type": "code",
   "execution_count": 47,
   "metadata": {},
   "outputs": [
    {
     "data": {
      "image/png": "[encoded data removed]",
      "text/plain": [
       "<Figure size 2160x720 with 1 Axes>"
      ]
     },
     "metadata": {
      "needs_background": "light"
     },
     "output_type": "display_data"
    }
   ],
   "source": [
    "plt.figure(figsize=(30,10))\n",
    "sns.countplot(x='IndustryVertical',data=top_10_industries)\n",
    "plt.xlabel('Industries',fontsize=12)\n",
    "plt.xticks(rotation=15,fontsize=15)\n",
    "plt.ylabel('Count of startups in particular Industry',fontsize=12)\n",
    "plt.title('Count of Startups in Industries',fontsize=16)\n",
    "plt.show()"
   ]
  },
  {
   "cell_type": "markdown",
   "metadata": {},
   "source": [
    "The top 3 industries having max number of startups are:  \n",
    "- Consumer Internet\n",
    "- Technology\n",
    "- ECommerce"
   ]
  },
  {
   "cell_type": "markdown",
   "metadata": {},
   "source": [
    "## Lets have a look at each industry from a closer point of view"
   ]
  },
  {
   "cell_type": "markdown",
   "metadata": {},
   "source": [
    "### 1. Consumer Internet"
   ]
  },
  {
   "cell_type": "markdown",
   "metadata": {},
   "source": [
    "Checking out top 10 sub-categories of industry having highest number of startups"
   ]
  },
  {
   "cell_type": "code",
   "execution_count": 48,
   "metadata": {},
   "outputs": [
    {
     "data": {
      "text/plain": [
       "<matplotlib.axes._subplots.AxesSubplot at 0x7f2ebab02390>"
      ]
     },
     "execution_count": 48,
     "metadata": {},
     "output_type": "execute_result"
    },
    {
     "data": {
      "image/png": "[encoded data removed]",
      "text/plain": [
       "<Figure size 1080x504 with 1 Axes>"
      ]
     },
     "metadata": {
      "needs_background": "light"
     },
     "output_type": "display_data"
    }
   ],
   "source": [
    "ci=data[data['IndustryVertical']=='consumer internet']\n",
    "top_10_ci_sub=ci['SubVertical'].value_counts().sort_values(ascending=False).head(10)\n",
    "plt.figure(figsize=(15,7))\n",
    "plt.xticks(rotation=10)\n",
    "sns.barplot(top_10_ci_sub.index,top_10_ci_sub.values)"
   ]
  },
  {
   "cell_type": "markdown",
   "metadata": {},
   "source": [
    "**Food Delivery Platform** has 8 startups, followed by **Online Lending Platform**, **Online Learning Platform**, and **Fitness Mobile App** having 5,4, and 3 startups listed respectively"
   ]
  },
  {
   "cell_type": "markdown",
   "metadata": {},
   "source": [
    "#### Top consumer internet startups"
   ]
  },
  {
   "cell_type": "code",
   "execution_count": 49,
   "metadata": {},
   "outputs": [
    {
     "data": {
      "text/plain": [
       "StartupName\n",
       "ola           749450000\n",
       "oyo           412000000\n",
       "cartrade      200000000\n",
       "makemytrip    180000000\n",
       "hike          175000000\n",
       "swiggy        137000000\n",
       "byju’s        125000000\n",
       "mobikwik       90000000\n",
       "bookmyshow     82000000\n",
       "ace2three      73700000\n",
       "Name: AmountInUSD, dtype: int64"
      ]
     },
     "execution_count": 49,
     "metadata": {},
     "output_type": "execute_result"
    }
   ],
   "source": [
    "ci.groupby('StartupName')['AmountInUSD'].sum().sort_values(ascending=False).astype(int).head(10)"
   ]
  },
  {
   "cell_type": "markdown",
   "metadata": {},
   "source": [
    "### 2. Technology"
   ]
  },
  {
   "cell_type": "code",
   "execution_count": 50,
   "metadata": {},
   "outputs": [],
   "source": [
    "tech=data[data['IndustryVertical']=='technology']"
   ]
  },
  {
   "cell_type": "markdown",
   "metadata": {},
   "source": [
    "#### Top Technology based startups on the basis of funds acquired"
   ]
  },
  {
   "cell_type": "code",
   "execution_count": 51,
   "metadata": {},
   "outputs": [
    {
     "data": {
      "text/plain": [
       "StartupName\n",
       "delhivery              100000000\n",
       "fractal analytics      100000000\n",
       "rivigo                  75000000\n",
       "markets and markets     56000000\n",
       "druva                   51000000\n",
       "icertis                 40000000\n",
       "eps                     35000000\n",
       "amagi media labs        35000000\n",
       "mswipe                  31000000\n",
       "qubole                  30000000\n",
       "Name: AmountInUSD, dtype: int64"
      ]
     },
     "execution_count": 51,
     "metadata": {},
     "output_type": "execute_result"
    }
   ],
   "source": [
    "tech.groupby('StartupName')['AmountInUSD'].sum().sort_values(ascending=False).astype(int).head(10)"
   ]
  },
  {
   "cell_type": "markdown",
   "metadata": {},
   "source": [
    "**Delhivery, Fractal Analytics, Rivigo** are top Technology based startups"
   ]
  },
  {
   "cell_type": "markdown",
   "metadata": {},
   "source": [
    "#### Checking out top 10 sub-categories of technology industry having highest number of startups"
   ]
  },
  {
   "cell_type": "code",
   "execution_count": 52,
   "metadata": {
    "scrolled": false
   },
   "outputs": [
    {
     "data": {
      "text/plain": [
       "<matplotlib.axes._subplots.AxesSubplot at 0x7f2eba71ecf8>"
      ]
     },
     "execution_count": 52,
     "metadata": {},
     "output_type": "execute_result"
    },
    {
     "data": {
      "image/png": "[encoded data removed]",
      "text/plain": [
       "<Figure size 1800x720 with 1 Axes>"
      ]
     },
     "metadata": {
      "needs_background": "light"
     },
     "output_type": "display_data"
    }
   ],
   "source": [
    "top_10_tech_sub=tech['SubVertical'].value_counts().sort_values(ascending=False).head(10)\n",
    "plt.figure(figsize=(25,10))\n",
    "plt.ylabel('Count',fontsize=29)\n",
    "plt.title('Top 10 Sub-Categories in Technology Industry',fontsize=29)\n",
    "plt.xticks(fontsize=14,rotation=20)\n",
    "sns.barplot(top_10_tech_sub.index,top_10_tech_sub.values)"
   ]
  },
  {
   "cell_type": "markdown",
   "metadata": {},
   "source": [
    "**Data Analytics Platform** has 3 startups and all other sub-categories have 1 startup each"
   ]
  },
  {
   "cell_type": "markdown",
   "metadata": {},
   "source": [
    "### 3. ECommerce"
   ]
  },
  {
   "cell_type": "code",
   "execution_count": 53,
   "metadata": {},
   "outputs": [],
   "source": [
    "commerce=data[data['IndustryVertical']=='ecommerce']"
   ]
  },
  {
   "cell_type": "markdown",
   "metadata": {},
   "source": [
    "#### Top ECommerce based startups on the basis of funds acquired"
   ]
  },
  {
   "cell_type": "code",
   "execution_count": 54,
   "metadata": {},
   "outputs": [
    {
     "data": {
      "text/plain": [
       "StartupName\n",
       "paytm        1660000000\n",
       "flipkart     1509700000\n",
       "snapdeal      200000000\n",
       "bigbasket     157000000\n",
       "shopclues     107700000\n",
       "lenskart       63500000\n",
       "pepperfry      31300000\n",
       "1mg            30000000\n",
       "bluestone      30000000\n",
       "voonik         29000000\n",
       "Name: AmountInUSD, dtype: int64"
      ]
     },
     "execution_count": 54,
     "metadata": {},
     "output_type": "execute_result"
    }
   ],
   "source": [
    "commerce.groupby('StartupName')['AmountInUSD'].sum().sort_values(ascending=False).astype(int).head(10)"
   ]
  },
  {
   "cell_type": "markdown",
   "metadata": {},
   "source": [
    "**Paytm**, **Flipkart**, **SnapDeal** are top ECommerce based startups with highest amount funded"
   ]
  },
  {
   "cell_type": "code",
   "execution_count": 55,
   "metadata": {},
   "outputs": [
    {
     "data": {
      "image/png": "[encoded data removed]",
      "text/plain": [
       "<Figure size 1440x720 with 1 Axes>"
      ]
     },
     "metadata": {
      "needs_background": "light"
     },
     "output_type": "display_data"
    }
   ],
   "source": [
    "top_10_comm_sub=commerce['SubVertical'].value_counts().sort_values(ascending=False).head(10)\n",
    "plt.figure(figsize=(20,10))\n",
    "plt.ylabel('Count',fontsize=19)\n",
    "plt.xticks(rotation=20,fontsize=14)\n",
    "plt.title('Top 10 Sub-Categories in ECommerce Industry',fontsize=24)\n",
    "sns.barplot(top_10_comm_sub.index,top_10_comm_sub.values)\n",
    "plt.show()"
   ]
  },
  {
   "cell_type": "markdown",
   "metadata": {},
   "source": [
    "There are 6 startups based on **Online Pharmacy** sub-category, followed by 3 startups in **ECommerce Marketplace** Sub-Category."
   ]
  },
  {
   "cell_type": "markdown",
   "metadata": {},
   "source": [
    "# Q4. Which period had the most number of startups funded."
   ]
  },
  {
   "cell_type": "code",
   "execution_count": 56,
   "metadata": {},
   "outputs": [],
   "source": [
    "# Creating new columns, Month, Year, Quarter, QuarterYear\n",
    "# QuarterYear is the concatenation of year+quarter to show the 4 quarters of each year which will be further used\n",
    "# below in our analysis.\n",
    "date_year=data['Date'].dt\n",
    "\n",
    "data['Month']=date_year.month\n",
    "data['Year']=date_year.year\n",
    "\n",
    "data['Quarter']=''\n",
    "data['Year']=data['Year'].astype('object')\n",
    "\n",
    "data.loc[(data['Month']>=1) & (data['Month']<=3),'Quarter']=str(1)\n",
    "data.loc[(data['Month']>=4) & (data['Month']<=6),'Quarter']=str(2)\n",
    "data.loc[(data['Month']>=7) & (data['Month']<=9),'Quarter']=str(3)\n",
    "data.loc[(data['Month']>=10) & (data['Month']<=12),'Quarter']=str(4)\n",
    "\n",
    "data['QuarterYear']=data['Year'].astype(str)+\"-Q\"+data['Quarter'].astype(str)"
   ]
  },
  {
   "cell_type": "code",
   "execution_count": 57,
   "metadata": {},
   "outputs": [
    {
     "data": {
      "text/plain": [
       "QuarterYear\n",
       "2015-Q3    275\n",
       "2016-Q2    265\n",
       "2016-Q1    251\n",
       "2016-Q3    239\n",
       "2016-Q4    238\n",
       "2015-Q4    237\n",
       "2015-Q2    215\n",
       "2015-Q1    209\n",
       "2017-Q1    166\n",
       "2017-Q2    151\n",
       "2017-Q3     74\n",
       "2017-Q4     52\n",
       "Name: StartupName, dtype: int64"
      ]
     },
     "execution_count": 57,
     "metadata": {},
     "output_type": "execute_result"
    }
   ],
   "source": [
    "data.groupby('QuarterYear')['StartupName'].count().sort_values(ascending=False)"
   ]
  },
  {
   "cell_type": "code",
   "execution_count": 58,
   "metadata": {},
   "outputs": [
    {
     "data": {
      "text/plain": [
       "<matplotlib.axes._subplots.AxesSubplot at 0x7f2eba644748>"
      ]
     },
     "execution_count": 58,
     "metadata": {},
     "output_type": "execute_result"
    },
    {
     "data": {
      "image/png": "[encoded data removed]",
      "text/plain": [
       "<Figure size 1440x720 with 1 Axes>"
      ]
     },
     "metadata": {
      "needs_background": "light"
     },
     "output_type": "display_data"
    }
   ],
   "source": [
    "plt.figure(figsize=(20,10))\n",
    "sns.countplot(x='QuarterYear',data=data)"
   ]
  },
  {
   "cell_type": "markdown",
   "metadata": {},
   "source": [
    "Now, we can see that 2015, and 2016 saw most number of startups being funded. highest being in Quarter 3 of 2015. Then it started declining in 2017 Q1 to 166 startups and 2017 Q4 down to only 52 startups being funded"
   ]
  },
  {
   "cell_type": "markdown",
   "metadata": {},
   "source": [
    "# Q5. which City has maximum startups?"
   ]
  },
  {
   "cell_type": "code",
   "execution_count": 59,
   "metadata": {},
   "outputs": [
    {
     "data": {
      "text/plain": [
       "Bangalore    634\n",
       "Mumbai       449\n",
       "New Delhi    385\n",
       "Gurgaon      241\n",
       "Pune          91\n",
       "Noida         79\n",
       "Hyderabad     77\n",
       "Chennai       67\n",
       "Ahmedabad     35\n",
       "Jaipur        25\n",
       "Name: CityLocation, dtype: int64"
      ]
     },
     "execution_count": 59,
     "metadata": {},
     "output_type": "execute_result"
    }
   ],
   "source": [
    "cities=data[data['CityLocation']!='Not Specified']\n",
    "cities=cities['CityLocation'].value_counts().sort_values(ascending=False).head(10)\n",
    "cities"
   ]
  },
  {
   "cell_type": "code",
   "execution_count": 60,
   "metadata": {},
   "outputs": [
    {
     "data": {
      "image/png": "[encoded data removed]",
      "text/plain": [
       "<Figure size 1440x720 with 1 Axes>"
      ]
     },
     "metadata": {
      "needs_background": "light"
     },
     "output_type": "display_data"
    }
   ],
   "source": [
    "plt.figure(figsize=(20,10))\n",
    "plt.title('Number of Startups in each City',fontsize=29)\n",
    "plt.xlabel('Cities',fontsize=25)\n",
    "plt.ylabel('Count',fontsize=25)\n",
    "sns.barplot(cities.values,cities.index,palette='hot')\n",
    "plt.show()"
   ]
  },
  {
   "cell_type": "markdown",
   "metadata": {},
   "source": [
    "As we see from the graph above, maximum number of startups are based in Banglore (26.72%), followed by  Mumbai  (18.9%), New Delhi (16.2%), and Gurgaon (10.16%)"
   ]
  },
  {
   "cell_type": "markdown",
   "metadata": {},
   "source": [
    "72% of the startups funded between January 2015 till December 2017 are based in the above mentioned four cities."
   ]
  },
  {
   "cell_type": "markdown",
   "metadata": {},
   "source": [
    "# Q6. Who are the Top Investors by number of startups funded."
   ]
  },
  {
   "cell_type": "code",
   "execution_count": 67,
   "metadata": {},
   "outputs": [
    {
     "data": {
      "text/plain": [
       "count                      2372\n",
       "unique                     1884\n",
       "top       Undisclosed Investors\n",
       "freq                         68\n",
       "Name: InvestorsName, dtype: object"
      ]
     },
     "execution_count": 67,
     "metadata": {},
     "output_type": "execute_result"
    }
   ],
   "source": [
    "data['InvestorsName'].describe()"
   ]
  },
  {
   "cell_type": "code",
   "execution_count": 68,
   "metadata": {},
   "outputs": [
    {
     "data": {
      "text/plain": [
       "'SBI-FMO Fund, Bessemer Venture Partners, Catamaran Ventures'"
      ]
     },
     "execution_count": 68,
     "metadata": {},
     "output_type": "execute_result"
    }
   ],
   "source": [
    "data['InvestorsName'].values[0]"
   ]
  },
  {
   "cell_type": "markdown",
   "metadata": {},
   "source": [
    "We see that a startup can be funded by multiple investors separated by commas. So let's make a new column 'NumberOfInvestors' which counts the number of investors for a particular startup"
   ]
  },
  {
   "cell_type": "code",
   "execution_count": 69,
   "metadata": {},
   "outputs": [],
   "source": [
    "def investors_cleaner(x):\n",
    "    l=x.split(',')\n",
    "    return len(l)"
   ]
  },
  {
   "cell_type": "code",
   "execution_count": 88,
   "metadata": {},
   "outputs": [],
   "source": [
    "data['NumberOfInvestors']=data['InvestorsName'].apply(investors_cleaner)"
   ]
  },
  {
   "cell_type": "code",
   "execution_count": 90,
   "metadata": {},
   "outputs": [
    {
     "data": {
      "text/plain": [
       "'SBI-FMO Fund, Bessemer Venture Partners, Catamaran Ventures'"
      ]
     },
     "execution_count": 90,
     "metadata": {},
     "output_type": "execute_result"
    }
   ],
   "source": [
    "data['InvestorsName'][0]"
   ]
  },
  {
   "cell_type": "code",
   "execution_count": 92,
   "metadata": {},
   "outputs": [
    {
     "data": {
      "text/html": [
       "<div>\n",
       "<style scoped>\n",
       "    .dataframe tbody tr th:only-of-type {\n",
       "        vertical-align: middle;\n",
       "    }\n",
       "\n",
       "    .dataframe tbody tr th {\n",
       "        vertical-align: top;\n",
       "    }\n",
       "\n",
       "    .dataframe thead th {\n",
       "        text-align: right;\n",
       "    }\n",
       "</style>\n",
       "<table border=\"1\" class=\"dataframe\">\n",
       "  <thead>\n",
       "    <tr style=\"text-align: right;\">\n",
       "      <th></th>\n",
       "      <th>index</th>\n",
       "      <th>Date</th>\n",
       "      <th>StartupName</th>\n",
       "      <th>IndustryVertical</th>\n",
       "      <th>SubVertical</th>\n",
       "      <th>CityLocation</th>\n",
       "      <th>InvestorsName</th>\n",
       "      <th>InvestmentType</th>\n",
       "      <th>AmountInUSD</th>\n",
       "      <th>Month</th>\n",
       "      <th>Year</th>\n",
       "      <th>Quarter</th>\n",
       "      <th>QuarterYear</th>\n",
       "      <th>NumberOfInvestors</th>\n",
       "    </tr>\n",
       "  </thead>\n",
       "  <tbody>\n",
       "    <tr>\n",
       "      <th>0</th>\n",
       "      <td>19</td>\n",
       "      <td>2017-12-07</td>\n",
       "      <td>innoviti</td>\n",
       "      <td>technology</td>\n",
       "      <td>Digital payments solutions</td>\n",
       "      <td>Bangalore</td>\n",
       "      <td>SBI-FMO Fund, Bessemer Venture Partners, Catam...</td>\n",
       "      <td>Private Equity</td>\n",
       "      <td>18500000.0</td>\n",
       "      <td>12</td>\n",
       "      <td>2017</td>\n",
       "      <td>4</td>\n",
       "      <td>2017-Q4</td>\n",
       "      <td>3</td>\n",
       "    </tr>\n",
       "    <tr>\n",
       "      <th>1</th>\n",
       "      <td>22</td>\n",
       "      <td>2017-12-07</td>\n",
       "      <td>arcatron</td>\n",
       "      <td>technology</td>\n",
       "      <td>Next Gen Mobility device manufacturer</td>\n",
       "      <td>Pune</td>\n",
       "      <td>Indian Angel Network</td>\n",
       "      <td>Seed Funding</td>\n",
       "      <td>NaN</td>\n",
       "      <td>12</td>\n",
       "      <td>2017</td>\n",
       "      <td>4</td>\n",
       "      <td>2017-Q4</td>\n",
       "      <td>1</td>\n",
       "    </tr>\n",
       "    <tr>\n",
       "      <th>2</th>\n",
       "      <td>21</td>\n",
       "      <td>2017-12-07</td>\n",
       "      <td>bottr.me</td>\n",
       "      <td>technology</td>\n",
       "      <td>Chatbot creation tool</td>\n",
       "      <td>Bangalore</td>\n",
       "      <td>500 Startups, Purvi Capital, Rajan Anandan, Ab...</td>\n",
       "      <td>Seed Funding</td>\n",
       "      <td>NaN</td>\n",
       "      <td>12</td>\n",
       "      <td>2017</td>\n",
       "      <td>4</td>\n",
       "      <td>2017-Q4</td>\n",
       "      <td>4</td>\n",
       "    </tr>\n",
       "    <tr>\n",
       "      <th>3</th>\n",
       "      <td>20</td>\n",
       "      <td>2017-12-07</td>\n",
       "      <td>vdeliver</td>\n",
       "      <td>logistics</td>\n",
       "      <td>Door Step Delivery platform</td>\n",
       "      <td>Hyderabad</td>\n",
       "      <td>Corvus Ventures, MAPE Advisory Group</td>\n",
       "      <td>Private Equity</td>\n",
       "      <td>NaN</td>\n",
       "      <td>12</td>\n",
       "      <td>2017</td>\n",
       "      <td>4</td>\n",
       "      <td>2017-Q4</td>\n",
       "      <td>2</td>\n",
       "    </tr>\n",
       "    <tr>\n",
       "      <th>4</th>\n",
       "      <td>72</td>\n",
       "      <td>2017-12-06</td>\n",
       "      <td>coverfox</td>\n",
       "      <td>consumer internet</td>\n",
       "      <td>Online insurance brokerage platform</td>\n",
       "      <td>Mumbai</td>\n",
       "      <td>Transamerica</td>\n",
       "      <td>Private Equity</td>\n",
       "      <td>15000000.0</td>\n",
       "      <td>12</td>\n",
       "      <td>2017</td>\n",
       "      <td>4</td>\n",
       "      <td>2017-Q4</td>\n",
       "      <td>1</td>\n",
       "    </tr>\n",
       "    <tr>\n",
       "      <th>5</th>\n",
       "      <td>71</td>\n",
       "      <td>2017-12-06</td>\n",
       "      <td>vista rooms</td>\n",
       "      <td>consumer internet</td>\n",
       "      <td>Online rooms aggregation platform</td>\n",
       "      <td>Mumbai</td>\n",
       "      <td>Artha India Ventures, Singularity Holdings, Ra...</td>\n",
       "      <td>Seed Funding</td>\n",
       "      <td>776000.0</td>\n",
       "      <td>12</td>\n",
       "      <td>2017</td>\n",
       "      <td>4</td>\n",
       "      <td>2017-Q4</td>\n",
       "      <td>4</td>\n",
       "    </tr>\n",
       "    <tr>\n",
       "      <th>6</th>\n",
       "      <td>70</td>\n",
       "      <td>2017-12-06</td>\n",
       "      <td>peesafe.in</td>\n",
       "      <td>healthcare</td>\n",
       "      <td>Hygiene care product manufacturer</td>\n",
       "      <td>New Delhi</td>\n",
       "      <td>Venture Catalysts, Alfa Capital, Green Shots C...</td>\n",
       "      <td>Private Equity</td>\n",
       "      <td>1000000.0</td>\n",
       "      <td>12</td>\n",
       "      <td>2017</td>\n",
       "      <td>4</td>\n",
       "      <td>2017-Q4</td>\n",
       "      <td>4</td>\n",
       "    </tr>\n",
       "    <tr>\n",
       "      <th>7</th>\n",
       "      <td>69</td>\n",
       "      <td>2017-12-06</td>\n",
       "      <td>boxx.ai</td>\n",
       "      <td>technology</td>\n",
       "      <td>Artificial Intelligence</td>\n",
       "      <td>Bangalore</td>\n",
       "      <td>Unicorn India Ventures, Venky Krishnakumar, Su...</td>\n",
       "      <td>Private Equity</td>\n",
       "      <td>500000.0</td>\n",
       "      <td>12</td>\n",
       "      <td>2017</td>\n",
       "      <td>4</td>\n",
       "      <td>2017-Q4</td>\n",
       "      <td>4</td>\n",
       "    </tr>\n",
       "    <tr>\n",
       "      <th>8</th>\n",
       "      <td>68</td>\n",
       "      <td>2017-12-06</td>\n",
       "      <td>lendingkart</td>\n",
       "      <td>consumer internet</td>\n",
       "      <td>Online Lending platform</td>\n",
       "      <td>Ahmedabad</td>\n",
       "      <td>Yes Bank</td>\n",
       "      <td>Debt Funding</td>\n",
       "      <td>7800000.0</td>\n",
       "      <td>12</td>\n",
       "      <td>2017</td>\n",
       "      <td>4</td>\n",
       "      <td>2017-Q4</td>\n",
       "      <td>1</td>\n",
       "    </tr>\n",
       "    <tr>\n",
       "      <th>9</th>\n",
       "      <td>67</td>\n",
       "      <td>2017-12-06</td>\n",
       "      <td>loanmeet</td>\n",
       "      <td>consumer internet</td>\n",
       "      <td>Online peer-to-peer lending platform</td>\n",
       "      <td>Bangalore</td>\n",
       "      <td>Cao Yibin, Huang Wei, Madhusudan E,</td>\n",
       "      <td>Seed Funding</td>\n",
       "      <td>NaN</td>\n",
       "      <td>12</td>\n",
       "      <td>2017</td>\n",
       "      <td>4</td>\n",
       "      <td>2017-Q4</td>\n",
       "      <td>4</td>\n",
       "    </tr>\n",
       "    <tr>\n",
       "      <th>10</th>\n",
       "      <td>145</td>\n",
       "      <td>2017-12-05</td>\n",
       "      <td>legal raasta</td>\n",
       "      <td>consumer internet</td>\n",
       "      <td>Legal Services to SMEs &amp; Individuals</td>\n",
       "      <td>New Delhi</td>\n",
       "      <td>Impanix Capital</td>\n",
       "      <td>Private Equity</td>\n",
       "      <td>5000000.0</td>\n",
       "      <td>12</td>\n",
       "      <td>2017</td>\n",
       "      <td>4</td>\n",
       "      <td>2017-Q4</td>\n",
       "      <td>1</td>\n",
       "    </tr>\n",
       "    <tr>\n",
       "      <th>11</th>\n",
       "      <td>147</td>\n",
       "      <td>2017-12-05</td>\n",
       "      <td>remit guru</td>\n",
       "      <td>consumer internet</td>\n",
       "      <td>Digital money transfer platform</td>\n",
       "      <td>Mumbai</td>\n",
       "      <td>Infibeam, CCavenue</td>\n",
       "      <td>Private Equity</td>\n",
       "      <td>466000.0</td>\n",
       "      <td>12</td>\n",
       "      <td>2017</td>\n",
       "      <td>4</td>\n",
       "      <td>2017-Q4</td>\n",
       "      <td>2</td>\n",
       "    </tr>\n",
       "    <tr>\n",
       "      <th>12</th>\n",
       "      <td>148</td>\n",
       "      <td>2017-12-05</td>\n",
       "      <td>aequm</td>\n",
       "      <td>ecommerce</td>\n",
       "      <td>Cloud ECommerce platform</td>\n",
       "      <td>Bangalore</td>\n",
       "      <td>undisclosed investors</td>\n",
       "      <td>Seed Funding</td>\n",
       "      <td>1000000.0</td>\n",
       "      <td>12</td>\n",
       "      <td>2017</td>\n",
       "      <td>4</td>\n",
       "      <td>2017-Q4</td>\n",
       "      <td>1</td>\n",
       "    </tr>\n",
       "    <tr>\n",
       "      <th>13</th>\n",
       "      <td>146</td>\n",
       "      <td>2017-12-05</td>\n",
       "      <td>log 9 materials</td>\n",
       "      <td>technology</td>\n",
       "      <td>NanoTech product developer</td>\n",
       "      <td>Bangalore</td>\n",
       "      <td>GEMs</td>\n",
       "      <td>Seed Funding</td>\n",
       "      <td>NaN</td>\n",
       "      <td>12</td>\n",
       "      <td>2017</td>\n",
       "      <td>4</td>\n",
       "      <td>2017-Q4</td>\n",
       "      <td>1</td>\n",
       "    </tr>\n",
       "    <tr>\n",
       "      <th>14</th>\n",
       "      <td>212</td>\n",
       "      <td>2017-12-04</td>\n",
       "      <td>squadrun</td>\n",
       "      <td>technology</td>\n",
       "      <td>Software-As-a-Service Platform</td>\n",
       "      <td>Noida</td>\n",
       "      <td>Blume Ventures, Contrarian Capital, 91springbo...</td>\n",
       "      <td>Private Equity</td>\n",
       "      <td>2100000.0</td>\n",
       "      <td>12</td>\n",
       "      <td>2017</td>\n",
       "      <td>4</td>\n",
       "      <td>2017-Q4</td>\n",
       "      <td>7</td>\n",
       "    </tr>\n",
       "    <tr>\n",
       "      <th>15</th>\n",
       "      <td>213</td>\n",
       "      <td>2017-12-04</td>\n",
       "      <td>tinmen</td>\n",
       "      <td>consumer internet</td>\n",
       "      <td>Food Delivery Platform</td>\n",
       "      <td>Hyderabad</td>\n",
       "      <td>MAPE Advisory Group, R Ramaraj, Corvus Ventures</td>\n",
       "      <td>Seed Funding</td>\n",
       "      <td>NaN</td>\n",
       "      <td>12</td>\n",
       "      <td>2017</td>\n",
       "      <td>4</td>\n",
       "      <td>2017-Q4</td>\n",
       "      <td>3</td>\n",
       "    </tr>\n",
       "    <tr>\n",
       "      <th>16</th>\n",
       "      <td>210</td>\n",
       "      <td>2017-12-04</td>\n",
       "      <td>emiza</td>\n",
       "      <td>logistics</td>\n",
       "      <td>Third Party Logistics provider</td>\n",
       "      <td>Mumbai</td>\n",
       "      <td>Mayfield, Nishant Rao, Dileep Nath</td>\n",
       "      <td>Private Equity</td>\n",
       "      <td>4500000.0</td>\n",
       "      <td>12</td>\n",
       "      <td>2017</td>\n",
       "      <td>4</td>\n",
       "      <td>2017-Q4</td>\n",
       "      <td>3</td>\n",
       "    </tr>\n",
       "    <tr>\n",
       "      <th>17</th>\n",
       "      <td>211</td>\n",
       "      <td>2017-12-04</td>\n",
       "      <td>hackerearth</td>\n",
       "      <td>consumer internet</td>\n",
       "      <td>Online Skill Assessment Platform</td>\n",
       "      <td>Bangalore</td>\n",
       "      <td>DHI Group Inc, Prime Venture Partners, Beenext...</td>\n",
       "      <td>Private Equity</td>\n",
       "      <td>4500000.0</td>\n",
       "      <td>12</td>\n",
       "      <td>2017</td>\n",
       "      <td>4</td>\n",
       "      <td>2017-Q4</td>\n",
       "      <td>6</td>\n",
       "    </tr>\n",
       "    <tr>\n",
       "      <th>18</th>\n",
       "      <td>214</td>\n",
       "      <td>2017-12-04</td>\n",
       "      <td>scoutmytrip</td>\n",
       "      <td>consumer internet</td>\n",
       "      <td>Online Travel planner</td>\n",
       "      <td>Mumbai</td>\n",
       "      <td>Z Nation Lab</td>\n",
       "      <td>Seed Funding</td>\n",
       "      <td>NaN</td>\n",
       "      <td>12</td>\n",
       "      <td>2017</td>\n",
       "      <td>4</td>\n",
       "      <td>2017-Q4</td>\n",
       "      <td>1</td>\n",
       "    </tr>\n",
       "    <tr>\n",
       "      <th>19</th>\n",
       "      <td>209</td>\n",
       "      <td>2017-12-04</td>\n",
       "      <td>clovia</td>\n",
       "      <td>ecommerce</td>\n",
       "      <td>Online lingerie &amp; Sleepwear etailer</td>\n",
       "      <td>New Delhi</td>\n",
       "      <td>Ivycap Ventures Advisors, Singularity Ventures...</td>\n",
       "      <td>Private Equity</td>\n",
       "      <td>4000000.0</td>\n",
       "      <td>12</td>\n",
       "      <td>2017</td>\n",
       "      <td>4</td>\n",
       "      <td>2017-Q4</td>\n",
       "      <td>2</td>\n",
       "    </tr>\n",
       "    <tr>\n",
       "      <th>20</th>\n",
       "      <td>389</td>\n",
       "      <td>2017-12-01</td>\n",
       "      <td>square yards</td>\n",
       "      <td>consumer internet</td>\n",
       "      <td>Property Search Aggregator platform</td>\n",
       "      <td>Gurgaon</td>\n",
       "      <td>Lohia Group, Andre Hoffman</td>\n",
       "      <td>Private Equity</td>\n",
       "      <td>10000000.0</td>\n",
       "      <td>12</td>\n",
       "      <td>2017</td>\n",
       "      <td>4</td>\n",
       "      <td>2017-Q4</td>\n",
       "      <td>2</td>\n",
       "    </tr>\n",
       "    <tr>\n",
       "      <th>21</th>\n",
       "      <td>388</td>\n",
       "      <td>2017-12-01</td>\n",
       "      <td>hansel.io</td>\n",
       "      <td>consumer internet</td>\n",
       "      <td>Real-time Mobile App Management Platform</td>\n",
       "      <td>Bangalore</td>\n",
       "      <td>IDG Ventures, Endiya Partners</td>\n",
       "      <td>Private Equity</td>\n",
       "      <td>1350000.0</td>\n",
       "      <td>12</td>\n",
       "      <td>2017</td>\n",
       "      <td>4</td>\n",
       "      <td>2017-Q4</td>\n",
       "      <td>2</td>\n",
       "    </tr>\n",
       "    <tr>\n",
       "      <th>22</th>\n",
       "      <td>18</td>\n",
       "      <td>2017-11-07</td>\n",
       "      <td>design cafe</td>\n",
       "      <td>consumer internet</td>\n",
       "      <td>Online Interior Design platform</td>\n",
       "      <td>Bangalore</td>\n",
       "      <td>Fireside Ventures, Apurva Salarpuria, Sidharth...</td>\n",
       "      <td>Seed Funding</td>\n",
       "      <td>NaN</td>\n",
       "      <td>11</td>\n",
       "      <td>2017</td>\n",
       "      <td>4</td>\n",
       "      <td>2017-Q4</td>\n",
       "      <td>4</td>\n",
       "    </tr>\n",
       "    <tr>\n",
       "      <th>23</th>\n",
       "      <td>17</td>\n",
       "      <td>2017-11-07</td>\n",
       "      <td>flickstree</td>\n",
       "      <td>consumer internet</td>\n",
       "      <td>Video Content Discovery Platform</td>\n",
       "      <td>Mumbai</td>\n",
       "      <td>Venture Catalysts, Sourav Ganguly, Ankit Adity...</td>\n",
       "      <td>Seed Funding</td>\n",
       "      <td>464000.0</td>\n",
       "      <td>11</td>\n",
       "      <td>2017</td>\n",
       "      <td>4</td>\n",
       "      <td>2017-Q4</td>\n",
       "      <td>4</td>\n",
       "    </tr>\n",
       "    <tr>\n",
       "      <th>24</th>\n",
       "      <td>16</td>\n",
       "      <td>2017-11-07</td>\n",
       "      <td>fabogo</td>\n",
       "      <td>consumer internet</td>\n",
       "      <td>Salon &amp; Spa Aggregation &amp; Discovery platform</td>\n",
       "      <td>Pune</td>\n",
       "      <td>Dunamis Ventures Pte Ltd</td>\n",
       "      <td>Private Equity</td>\n",
       "      <td>2250000.0</td>\n",
       "      <td>11</td>\n",
       "      <td>2017</td>\n",
       "      <td>4</td>\n",
       "      <td>2017-Q4</td>\n",
       "      <td>1</td>\n",
       "    </tr>\n",
       "    <tr>\n",
       "      <th>25</th>\n",
       "      <td>142</td>\n",
       "      <td>2017-11-05</td>\n",
       "      <td>early salary</td>\n",
       "      <td>consumer internet</td>\n",
       "      <td>Online lending platform</td>\n",
       "      <td>Pune</td>\n",
       "      <td>DG Ventures India, Dewan Housing Finance Corp</td>\n",
       "      <td>Private Equity</td>\n",
       "      <td>4000000.0</td>\n",
       "      <td>11</td>\n",
       "      <td>2017</td>\n",
       "      <td>4</td>\n",
       "      <td>2017-Q4</td>\n",
       "      <td>2</td>\n",
       "    </tr>\n",
       "    <tr>\n",
       "      <th>26</th>\n",
       "      <td>143</td>\n",
       "      <td>2017-11-05</td>\n",
       "      <td>book my diamond</td>\n",
       "      <td>ecommerce</td>\n",
       "      <td>Diamond B2B eTailer</td>\n",
       "      <td>Mumbai</td>\n",
       "      <td>Chirag Nikunj Sheth &amp; Others</td>\n",
       "      <td>Seed Funding</td>\n",
       "      <td>NaN</td>\n",
       "      <td>11</td>\n",
       "      <td>2017</td>\n",
       "      <td>4</td>\n",
       "      <td>2017-Q4</td>\n",
       "      <td>1</td>\n",
       "    </tr>\n",
       "    <tr>\n",
       "      <th>27</th>\n",
       "      <td>144</td>\n",
       "      <td>2017-11-05</td>\n",
       "      <td>ion energy</td>\n",
       "      <td>technology</td>\n",
       "      <td>Clean Tech Startup</td>\n",
       "      <td>Mumbai</td>\n",
       "      <td>Aakrit Vaish, Swapan Rajdev, Sushill Jiwarajka</td>\n",
       "      <td>Seed Funding</td>\n",
       "      <td>NaN</td>\n",
       "      <td>11</td>\n",
       "      <td>2017</td>\n",
       "      <td>4</td>\n",
       "      <td>2017-Q4</td>\n",
       "      <td>3</td>\n",
       "    </tr>\n",
       "    <tr>\n",
       "      <th>28</th>\n",
       "      <td>207</td>\n",
       "      <td>2017-11-04</td>\n",
       "      <td>mergerware</td>\n",
       "      <td>technology</td>\n",
       "      <td>Software solutions for M&amp;As</td>\n",
       "      <td>Bangalore</td>\n",
       "      <td>Philippe Bouchet</td>\n",
       "      <td>Seed Funding</td>\n",
       "      <td>100000.0</td>\n",
       "      <td>11</td>\n",
       "      <td>2017</td>\n",
       "      <td>4</td>\n",
       "      <td>2017-Q4</td>\n",
       "      <td>1</td>\n",
       "    </tr>\n",
       "    <tr>\n",
       "      <th>29</th>\n",
       "      <td>208</td>\n",
       "      <td>2017-11-04</td>\n",
       "      <td>sports flashes</td>\n",
       "      <td>consumer internet</td>\n",
       "      <td>Online Sports portal &amp; Mobile app</td>\n",
       "      <td>New Delhi</td>\n",
       "      <td>Sushil Kumar, Sandeep Singh</td>\n",
       "      <td>Seed Funding</td>\n",
       "      <td>NaN</td>\n",
       "      <td>11</td>\n",
       "      <td>2017</td>\n",
       "      <td>4</td>\n",
       "      <td>2017-Q4</td>\n",
       "      <td>2</td>\n",
       "    </tr>\n",
       "    <tr>\n",
       "      <th>...</th>\n",
       "      <td>...</td>\n",
       "      <td>...</td>\n",
       "      <td>...</td>\n",
       "      <td>...</td>\n",
       "      <td>...</td>\n",
       "      <td>...</td>\n",
       "      <td>...</td>\n",
       "      <td>...</td>\n",
       "      <td>...</td>\n",
       "      <td>...</td>\n",
       "      <td>...</td>\n",
       "      <td>...</td>\n",
       "      <td>...</td>\n",
       "      <td>...</td>\n",
       "    </tr>\n",
       "    <tr>\n",
       "      <th>2342</th>\n",
       "      <td>1620</td>\n",
       "      <td>2015-01-10</td>\n",
       "      <td>muvizz</td>\n",
       "      <td>movie-on-demand platform</td>\n",
       "      <td>Not Specified or Other</td>\n",
       "      <td>Singapore</td>\n",
       "      <td>Ashish Todi, Abhinav Patodia, Kumar Shwetabh</td>\n",
       "      <td>Seed Funding</td>\n",
       "      <td>350000.0</td>\n",
       "      <td>1</td>\n",
       "      <td>2015</td>\n",
       "      <td>1</td>\n",
       "      <td>2015-Q1</td>\n",
       "      <td>3</td>\n",
       "    </tr>\n",
       "    <tr>\n",
       "      <th>2343</th>\n",
       "      <td>1622</td>\n",
       "      <td>2015-01-10</td>\n",
       "      <td>cleartax</td>\n",
       "      <td>online income tax filing platform</td>\n",
       "      <td>Not Specified or Other</td>\n",
       "      <td>New Delhi</td>\n",
       "      <td>Paytm (One97 communications)</td>\n",
       "      <td>Private Equity</td>\n",
       "      <td>NaN</td>\n",
       "      <td>1</td>\n",
       "      <td>2015</td>\n",
       "      <td>1</td>\n",
       "      <td>2015-Q1</td>\n",
       "      <td>1</td>\n",
       "    </tr>\n",
       "    <tr>\n",
       "      <th>2344</th>\n",
       "      <td>1621</td>\n",
       "      <td>2015-01-10</td>\n",
       "      <td>abhibus</td>\n",
       "      <td>bus ticketing and fleet management platform</td>\n",
       "      <td>Not Specified or Other</td>\n",
       "      <td>Hyderabad</td>\n",
       "      <td>Paytm (One97 communications)</td>\n",
       "      <td>Private Equity</td>\n",
       "      <td>NaN</td>\n",
       "      <td>1</td>\n",
       "      <td>2015</td>\n",
       "      <td>1</td>\n",
       "      <td>2015-Q1</td>\n",
       "      <td>1</td>\n",
       "    </tr>\n",
       "    <tr>\n",
       "      <th>2345</th>\n",
       "      <td>1619</td>\n",
       "      <td>2015-01-10</td>\n",
       "      <td>easyfix</td>\n",
       "      <td>professional services marketplace</td>\n",
       "      <td>Not Specified or Other</td>\n",
       "      <td>Gurgaon</td>\n",
       "      <td>Axilor Ventures</td>\n",
       "      <td>Seed Funding</td>\n",
       "      <td>NaN</td>\n",
       "      <td>1</td>\n",
       "      <td>2015</td>\n",
       "      <td>1</td>\n",
       "      <td>2015-Q1</td>\n",
       "      <td>1</td>\n",
       "    </tr>\n",
       "    <tr>\n",
       "      <th>2346</th>\n",
       "      <td>1618</td>\n",
       "      <td>2015-01-10</td>\n",
       "      <td>wydr</td>\n",
       "      <td>performance based wholesale marketplace</td>\n",
       "      <td>Not Specified or Other</td>\n",
       "      <td>New Delhi</td>\n",
       "      <td>Sandeep Aggarwal</td>\n",
       "      <td>Seed Funding</td>\n",
       "      <td>NaN</td>\n",
       "      <td>1</td>\n",
       "      <td>2015</td>\n",
       "      <td>1</td>\n",
       "      <td>2015-Q1</td>\n",
       "      <td>1</td>\n",
       "    </tr>\n",
       "    <tr>\n",
       "      <th>2347</th>\n",
       "      <td>1617</td>\n",
       "      <td>2015-01-10</td>\n",
       "      <td>indifi</td>\n",
       "      <td>easy business loans platform</td>\n",
       "      <td>Not Specified or Other</td>\n",
       "      <td>Gurgaon</td>\n",
       "      <td>Accel Partners, Elevar Equity, Pramod Bhasin, ...</td>\n",
       "      <td>Seed Funding</td>\n",
       "      <td>NaN</td>\n",
       "      <td>1</td>\n",
       "      <td>2015</td>\n",
       "      <td>1</td>\n",
       "      <td>2015-Q1</td>\n",
       "      <td>8</td>\n",
       "    </tr>\n",
       "    <tr>\n",
       "      <th>2348</th>\n",
       "      <td>1711</td>\n",
       "      <td>2015-01-09</td>\n",
       "      <td>fxmartindia</td>\n",
       "      <td>payment services platform</td>\n",
       "      <td>Not Specified or Other</td>\n",
       "      <td>Chandigarh</td>\n",
       "      <td>Flipkart</td>\n",
       "      <td>Private Equity</td>\n",
       "      <td>NaN</td>\n",
       "      <td>1</td>\n",
       "      <td>2015</td>\n",
       "      <td>1</td>\n",
       "      <td>2015-Q1</td>\n",
       "      <td>1</td>\n",
       "    </tr>\n",
       "    <tr>\n",
       "      <th>2349</th>\n",
       "      <td>1712</td>\n",
       "      <td>2015-01-09</td>\n",
       "      <td>stylecracker</td>\n",
       "      <td>personalized styling platform</td>\n",
       "      <td>Not Specified or Other</td>\n",
       "      <td>Mumbai</td>\n",
       "      <td>Group of HNI investors</td>\n",
       "      <td>Private Equity</td>\n",
       "      <td>1000000.0</td>\n",
       "      <td>1</td>\n",
       "      <td>2015</td>\n",
       "      <td>1</td>\n",
       "      <td>2015-Q1</td>\n",
       "      <td>1</td>\n",
       "    </tr>\n",
       "    <tr>\n",
       "      <th>2350</th>\n",
       "      <td>1713</td>\n",
       "      <td>2015-01-09</td>\n",
       "      <td>luxuryhues</td>\n",
       "      <td>luxury goods  shopping platform</td>\n",
       "      <td>Not Specified or Other</td>\n",
       "      <td>Gurgaon</td>\n",
       "      <td>Reliance Capital</td>\n",
       "      <td>Private Equity</td>\n",
       "      <td>900000.0</td>\n",
       "      <td>1</td>\n",
       "      <td>2015</td>\n",
       "      <td>1</td>\n",
       "      <td>2015-Q1</td>\n",
       "      <td>1</td>\n",
       "    </tr>\n",
       "    <tr>\n",
       "      <th>2351</th>\n",
       "      <td>1710</td>\n",
       "      <td>2015-01-09</td>\n",
       "      <td>toflo</td>\n",
       "      <td>fintech startup incubation platform</td>\n",
       "      <td>Not Specified or Other</td>\n",
       "      <td>Mumbai</td>\n",
       "      <td>Tania Johny Palathinkal</td>\n",
       "      <td>Seed Funding</td>\n",
       "      <td>100000.0</td>\n",
       "      <td>1</td>\n",
       "      <td>2015</td>\n",
       "      <td>1</td>\n",
       "      <td>2015-Q1</td>\n",
       "      <td>1</td>\n",
       "    </tr>\n",
       "    <tr>\n",
       "      <th>2352</th>\n",
       "      <td>1798</td>\n",
       "      <td>2015-01-08</td>\n",
       "      <td>snapdeal</td>\n",
       "      <td>ecommerce marketplace</td>\n",
       "      <td>Not Specified or Other</td>\n",
       "      <td>New Delhi</td>\n",
       "      <td>Alibaba, Foxconn, Softbank</td>\n",
       "      <td>Private Equity</td>\n",
       "      <td>500000000.0</td>\n",
       "      <td>1</td>\n",
       "      <td>2015</td>\n",
       "      <td>1</td>\n",
       "      <td>2015-Q1</td>\n",
       "      <td>3</td>\n",
       "    </tr>\n",
       "    <tr>\n",
       "      <th>2353</th>\n",
       "      <td>1799</td>\n",
       "      <td>2015-01-08</td>\n",
       "      <td>ressy</td>\n",
       "      <td>restaurant discount app</td>\n",
       "      <td>Not Specified or Other</td>\n",
       "      <td>Pune</td>\n",
       "      <td>Mohandas Pai &amp; others</td>\n",
       "      <td>Seed Funding</td>\n",
       "      <td>400000.0</td>\n",
       "      <td>1</td>\n",
       "      <td>2015</td>\n",
       "      <td>1</td>\n",
       "      <td>2015-Q1</td>\n",
       "      <td>1</td>\n",
       "    </tr>\n",
       "    <tr>\n",
       "      <th>2354</th>\n",
       "      <td>1902</td>\n",
       "      <td>2015-01-07</td>\n",
       "      <td>nxtgen</td>\n",
       "      <td>it infrastructure &amp; data center services</td>\n",
       "      <td>Not Specified or Other</td>\n",
       "      <td>Bangalore</td>\n",
       "      <td>IFC, Axon Partners, Intel Capital</td>\n",
       "      <td>Private Equity</td>\n",
       "      <td>13500000.0</td>\n",
       "      <td>1</td>\n",
       "      <td>2015</td>\n",
       "      <td>1</td>\n",
       "      <td>2015-Q1</td>\n",
       "      <td>3</td>\n",
       "    </tr>\n",
       "    <tr>\n",
       "      <th>2355</th>\n",
       "      <td>1897</td>\n",
       "      <td>2015-01-07</td>\n",
       "      <td>retigence technologies</td>\n",
       "      <td>business it intelligence services</td>\n",
       "      <td>Not Specified or Other</td>\n",
       "      <td>Mumbai</td>\n",
       "      <td>Omnivore Partners</td>\n",
       "      <td>Private Equity</td>\n",
       "      <td>NaN</td>\n",
       "      <td>1</td>\n",
       "      <td>2015</td>\n",
       "      <td>1</td>\n",
       "      <td>2015-Q1</td>\n",
       "      <td>1</td>\n",
       "    </tr>\n",
       "    <tr>\n",
       "      <th>2356</th>\n",
       "      <td>1900</td>\n",
       "      <td>2015-01-07</td>\n",
       "      <td>idreamcareer</td>\n",
       "      <td>ed-tech platform</td>\n",
       "      <td>Not Specified or Other</td>\n",
       "      <td>New Delhi</td>\n",
       "      <td>ah! Ventures, Vivek Joshi, Mohit Satyanand &amp; o...</td>\n",
       "      <td>Seed Funding</td>\n",
       "      <td>NaN</td>\n",
       "      <td>1</td>\n",
       "      <td>2015</td>\n",
       "      <td>1</td>\n",
       "      <td>2015-Q1</td>\n",
       "      <td>3</td>\n",
       "    </tr>\n",
       "    <tr>\n",
       "      <th>2357</th>\n",
       "      <td>1901</td>\n",
       "      <td>2015-01-07</td>\n",
       "      <td>ola</td>\n",
       "      <td>cab rental mobile app</td>\n",
       "      <td>Not Specified or Other</td>\n",
       "      <td>Bangalore</td>\n",
       "      <td>Ratan Tata</td>\n",
       "      <td>Private Equity</td>\n",
       "      <td>NaN</td>\n",
       "      <td>1</td>\n",
       "      <td>2015</td>\n",
       "      <td>1</td>\n",
       "      <td>2015-Q1</td>\n",
       "      <td>1</td>\n",
       "    </tr>\n",
       "    <tr>\n",
       "      <th>2358</th>\n",
       "      <td>1896</td>\n",
       "      <td>2015-01-07</td>\n",
       "      <td>parcelled</td>\n",
       "      <td>online logistics platform</td>\n",
       "      <td>Not Specified or Other</td>\n",
       "      <td>Bangalore</td>\n",
       "      <td>Delhivery, Tracxn Labs</td>\n",
       "      <td>Seed Funding</td>\n",
       "      <td>NaN</td>\n",
       "      <td>1</td>\n",
       "      <td>2015</td>\n",
       "      <td>1</td>\n",
       "      <td>2015-Q1</td>\n",
       "      <td>2</td>\n",
       "    </tr>\n",
       "    <tr>\n",
       "      <th>2359</th>\n",
       "      <td>1899</td>\n",
       "      <td>2015-01-07</td>\n",
       "      <td>handyhome</td>\n",
       "      <td>hyperlocal electronics repair service</td>\n",
       "      <td>Not Specified or Other</td>\n",
       "      <td>Mumbai</td>\n",
       "      <td>Bessemer Ventures, Kae Capital</td>\n",
       "      <td>Seed Funding</td>\n",
       "      <td>630000.0</td>\n",
       "      <td>1</td>\n",
       "      <td>2015</td>\n",
       "      <td>1</td>\n",
       "      <td>2015-Q1</td>\n",
       "      <td>2</td>\n",
       "    </tr>\n",
       "    <tr>\n",
       "      <th>2360</th>\n",
       "      <td>1898</td>\n",
       "      <td>2015-01-07</td>\n",
       "      <td>cloudcherry</td>\n",
       "      <td>crm / analytics platform</td>\n",
       "      <td>Not Specified or Other</td>\n",
       "      <td>Chennai</td>\n",
       "      <td>The Chennai Angels, IDG Ventures India</td>\n",
       "      <td>Seed Funding</td>\n",
       "      <td>1000000.0</td>\n",
       "      <td>1</td>\n",
       "      <td>2015</td>\n",
       "      <td>1</td>\n",
       "      <td>2015-Q1</td>\n",
       "      <td>2</td>\n",
       "    </tr>\n",
       "    <tr>\n",
       "      <th>2361</th>\n",
       "      <td>2002</td>\n",
       "      <td>2015-01-06</td>\n",
       "      <td>arth designbuild</td>\n",
       "      <td>architectural design &amp; consulting</td>\n",
       "      <td>Not Specified or Other</td>\n",
       "      <td>Hyderabad</td>\n",
       "      <td>Srinivas Tirupati</td>\n",
       "      <td>Seed Funding</td>\n",
       "      <td>500000.0</td>\n",
       "      <td>1</td>\n",
       "      <td>2015</td>\n",
       "      <td>1</td>\n",
       "      <td>2015-Q1</td>\n",
       "      <td>1</td>\n",
       "    </tr>\n",
       "    <tr>\n",
       "      <th>2362</th>\n",
       "      <td>1994</td>\n",
       "      <td>2015-01-06</td>\n",
       "      <td>vyomo</td>\n",
       "      <td>beauty and wellness platform</td>\n",
       "      <td>Not Specified or Other</td>\n",
       "      <td>New Delhi</td>\n",
       "      <td>Aprameya Radhakrishna</td>\n",
       "      <td>Seed Funding</td>\n",
       "      <td>NaN</td>\n",
       "      <td>1</td>\n",
       "      <td>2015</td>\n",
       "      <td>1</td>\n",
       "      <td>2015-Q1</td>\n",
       "      <td>1</td>\n",
       "    </tr>\n",
       "    <tr>\n",
       "      <th>2363</th>\n",
       "      <td>1995</td>\n",
       "      <td>2015-01-06</td>\n",
       "      <td>veeba foods</td>\n",
       "      <td>healthy food manufacturer</td>\n",
       "      <td>Not Specified or Other</td>\n",
       "      <td>New Delhi</td>\n",
       "      <td>DSG Consumer Partners, Saama Capital.</td>\n",
       "      <td>Private Equity</td>\n",
       "      <td>6000000.0</td>\n",
       "      <td>1</td>\n",
       "      <td>2015</td>\n",
       "      <td>1</td>\n",
       "      <td>2015-Q1</td>\n",
       "      <td>2</td>\n",
       "    </tr>\n",
       "    <tr>\n",
       "      <th>2364</th>\n",
       "      <td>1996</td>\n",
       "      <td>2015-01-06</td>\n",
       "      <td>truebil</td>\n",
       "      <td>used car marketplace</td>\n",
       "      <td>Not Specified or Other</td>\n",
       "      <td>Mumbai</td>\n",
       "      <td>Kae Capital, Anupam Mittal</td>\n",
       "      <td>Seed Funding</td>\n",
       "      <td>500000.0</td>\n",
       "      <td>1</td>\n",
       "      <td>2015</td>\n",
       "      <td>1</td>\n",
       "      <td>2015-Q1</td>\n",
       "      <td>2</td>\n",
       "    </tr>\n",
       "    <tr>\n",
       "      <th>2365</th>\n",
       "      <td>1997</td>\n",
       "      <td>2015-01-06</td>\n",
       "      <td>meritnation</td>\n",
       "      <td>online learning platform</td>\n",
       "      <td>Not Specified or Other</td>\n",
       "      <td>New Delhi</td>\n",
       "      <td>InfoEdge</td>\n",
       "      <td>Private Equity</td>\n",
       "      <td>4000000.0</td>\n",
       "      <td>1</td>\n",
       "      <td>2015</td>\n",
       "      <td>1</td>\n",
       "      <td>2015-Q1</td>\n",
       "      <td>1</td>\n",
       "    </tr>\n",
       "    <tr>\n",
       "      <th>2366</th>\n",
       "      <td>1998</td>\n",
       "      <td>2015-01-06</td>\n",
       "      <td>eattreatonline</td>\n",
       "      <td>healthy food online community</td>\n",
       "      <td>Not Specified or Other</td>\n",
       "      <td>New Delhi</td>\n",
       "      <td>Group of 15 Angel Investors</td>\n",
       "      <td>Seed Funding</td>\n",
       "      <td>350000.0</td>\n",
       "      <td>1</td>\n",
       "      <td>2015</td>\n",
       "      <td>1</td>\n",
       "      <td>2015-Q1</td>\n",
       "      <td>1</td>\n",
       "    </tr>\n",
       "    <tr>\n",
       "      <th>2367</th>\n",
       "      <td>1999</td>\n",
       "      <td>2015-01-06</td>\n",
       "      <td>credr</td>\n",
       "      <td>used two-wheeler marketplace</td>\n",
       "      <td>Not Specified or Other</td>\n",
       "      <td>Mumbai</td>\n",
       "      <td>GrowthStory</td>\n",
       "      <td>Seed Funding</td>\n",
       "      <td>NaN</td>\n",
       "      <td>1</td>\n",
       "      <td>2015</td>\n",
       "      <td>1</td>\n",
       "      <td>2015-Q1</td>\n",
       "      <td>1</td>\n",
       "    </tr>\n",
       "    <tr>\n",
       "      <th>2368</th>\n",
       "      <td>2000</td>\n",
       "      <td>2015-01-06</td>\n",
       "      <td>glamrs</td>\n",
       "      <td>online fashion video portal</td>\n",
       "      <td>Not Specified or Other</td>\n",
       "      <td>Mumbai</td>\n",
       "      <td>Ventureworks India, Blume Ventures, Batlivala ...</td>\n",
       "      <td>Private Equity</td>\n",
       "      <td>1000000.0</td>\n",
       "      <td>1</td>\n",
       "      <td>2015</td>\n",
       "      <td>1</td>\n",
       "      <td>2015-Q1</td>\n",
       "      <td>4</td>\n",
       "    </tr>\n",
       "    <tr>\n",
       "      <th>2369</th>\n",
       "      <td>2001</td>\n",
       "      <td>2015-01-06</td>\n",
       "      <td>proviera</td>\n",
       "      <td>probiotic technology products manufacturer</td>\n",
       "      <td>Not Specified or Other</td>\n",
       "      <td>Chennai</td>\n",
       "      <td>Infuse Ventures</td>\n",
       "      <td>Private Equity</td>\n",
       "      <td>550000.0</td>\n",
       "      <td>1</td>\n",
       "      <td>2015</td>\n",
       "      <td>1</td>\n",
       "      <td>2015-Q1</td>\n",
       "      <td>1</td>\n",
       "    </tr>\n",
       "    <tr>\n",
       "      <th>2370</th>\n",
       "      <td>2080</td>\n",
       "      <td>2015-01-05</td>\n",
       "      <td>foodpanda</td>\n",
       "      <td>online food delivery</td>\n",
       "      <td>Not Specified or Other</td>\n",
       "      <td>Gurgaon</td>\n",
       "      <td>Goldman Sachs, Rocket Internet</td>\n",
       "      <td>Private Equity</td>\n",
       "      <td>100000000.0</td>\n",
       "      <td>1</td>\n",
       "      <td>2015</td>\n",
       "      <td>1</td>\n",
       "      <td>2015-Q1</td>\n",
       "      <td>2</td>\n",
       "    </tr>\n",
       "    <tr>\n",
       "      <th>2371</th>\n",
       "      <td>2081</td>\n",
       "      <td>2015-01-05</td>\n",
       "      <td>termsheet</td>\n",
       "      <td>fund raising platform</td>\n",
       "      <td>Not Specified or Other</td>\n",
       "      <td>Chennai</td>\n",
       "      <td>Anand Vijay, Nipun Dureja, Satyajit Heeralal, ...</td>\n",
       "      <td>Seed Funding</td>\n",
       "      <td>100000.0</td>\n",
       "      <td>1</td>\n",
       "      <td>2015</td>\n",
       "      <td>1</td>\n",
       "      <td>2015-Q1</td>\n",
       "      <td>7</td>\n",
       "    </tr>\n",
       "  </tbody>\n",
       "</table>\n",
       "<p>2372 rows × 14 columns</p>\n",
       "</div>"
      ],
      "text/plain": [
       "      index       Date             StartupName  \\\n",
       "0        19 2017-12-07                innoviti   \n",
       "1        22 2017-12-07                arcatron   \n",
       "2        21 2017-12-07                bottr.me   \n",
       "3        20 2017-12-07                vdeliver   \n",
       "4        72 2017-12-06                coverfox   \n",
       "5        71 2017-12-06             vista rooms   \n",
       "6        70 2017-12-06              peesafe.in   \n",
       "7        69 2017-12-06                 boxx.ai   \n",
       "8        68 2017-12-06             lendingkart   \n",
       "9        67 2017-12-06                loanmeet   \n",
       "10      145 2017-12-05            legal raasta   \n",
       "11      147 2017-12-05              remit guru   \n",
       "12      148 2017-12-05                   aequm   \n",
       "13      146 2017-12-05         log 9 materials   \n",
       "14      212 2017-12-04                squadrun   \n",
       "15      213 2017-12-04                  tinmen   \n",
       "16      210 2017-12-04                   emiza   \n",
       "17      211 2017-12-04             hackerearth   \n",
       "18      214 2017-12-04             scoutmytrip   \n",
       "19      209 2017-12-04                  clovia   \n",
       "20      389 2017-12-01            square yards   \n",
       "21      388 2017-12-01               hansel.io   \n",
       "22       18 2017-11-07             design cafe   \n",
       "23       17 2017-11-07              flickstree   \n",
       "24       16 2017-11-07                  fabogo   \n",
       "25      142 2017-11-05            early salary   \n",
       "26      143 2017-11-05         book my diamond   \n",
       "27      144 2017-11-05              ion energy   \n",
       "28      207 2017-11-04              mergerware   \n",
       "29      208 2017-11-04          sports flashes   \n",
       "...     ...        ...                     ...   \n",
       "2342   1620 2015-01-10                  muvizz   \n",
       "2343   1622 2015-01-10                cleartax   \n",
       "2344   1621 2015-01-10                 abhibus   \n",
       "2345   1619 2015-01-10                 easyfix   \n",
       "2346   1618 2015-01-10                    wydr   \n",
       "2347   1617 2015-01-10                  indifi   \n",
       "2348   1711 2015-01-09             fxmartindia   \n",
       "2349   1712 2015-01-09            stylecracker   \n",
       "2350   1713 2015-01-09              luxuryhues   \n",
       "2351   1710 2015-01-09                   toflo   \n",
       "2352   1798 2015-01-08                snapdeal   \n",
       "2353   1799 2015-01-08                   ressy   \n",
       "2354   1902 2015-01-07                  nxtgen   \n",
       "2355   1897 2015-01-07  retigence technologies   \n",
       "2356   1900 2015-01-07            idreamcareer   \n",
       "2357   1901 2015-01-07                     ola   \n",
       "2358   1896 2015-01-07               parcelled   \n",
       "2359   1899 2015-01-07               handyhome   \n",
       "2360   1898 2015-01-07             cloudcherry   \n",
       "2361   2002 2015-01-06        arth designbuild   \n",
       "2362   1994 2015-01-06                   vyomo   \n",
       "2363   1995 2015-01-06             veeba foods   \n",
       "2364   1996 2015-01-06                 truebil   \n",
       "2365   1997 2015-01-06             meritnation   \n",
       "2366   1998 2015-01-06          eattreatonline   \n",
       "2367   1999 2015-01-06                   credr   \n",
       "2368   2000 2015-01-06                  glamrs   \n",
       "2369   2001 2015-01-06                proviera   \n",
       "2370   2080 2015-01-05               foodpanda   \n",
       "2371   2081 2015-01-05               termsheet   \n",
       "\n",
       "                                 IndustryVertical  \\\n",
       "0                                      technology   \n",
       "1                                      technology   \n",
       "2                                      technology   \n",
       "3                                       logistics   \n",
       "4                               consumer internet   \n",
       "5                               consumer internet   \n",
       "6                                      healthcare   \n",
       "7                                      technology   \n",
       "8                               consumer internet   \n",
       "9                               consumer internet   \n",
       "10                              consumer internet   \n",
       "11                              consumer internet   \n",
       "12                                      ecommerce   \n",
       "13                                     technology   \n",
       "14                                     technology   \n",
       "15                              consumer internet   \n",
       "16                                      logistics   \n",
       "17                              consumer internet   \n",
       "18                              consumer internet   \n",
       "19                                      ecommerce   \n",
       "20                              consumer internet   \n",
       "21                              consumer internet   \n",
       "22                              consumer internet   \n",
       "23                              consumer internet   \n",
       "24                              consumer internet   \n",
       "25                              consumer internet   \n",
       "26                                      ecommerce   \n",
       "27                                     technology   \n",
       "28                                     technology   \n",
       "29                              consumer internet   \n",
       "...                                           ...   \n",
       "2342                     movie-on-demand platform   \n",
       "2343            online income tax filing platform   \n",
       "2344  bus ticketing and fleet management platform   \n",
       "2345            professional services marketplace   \n",
       "2346      performance based wholesale marketplace   \n",
       "2347                 easy business loans platform   \n",
       "2348                    payment services platform   \n",
       "2349                personalized styling platform   \n",
       "2350              luxury goods  shopping platform   \n",
       "2351          fintech startup incubation platform   \n",
       "2352                        ecommerce marketplace   \n",
       "2353                      restaurant discount app   \n",
       "2354     it infrastructure & data center services   \n",
       "2355            business it intelligence services   \n",
       "2356                             ed-tech platform   \n",
       "2357                        cab rental mobile app   \n",
       "2358                    online logistics platform   \n",
       "2359        hyperlocal electronics repair service   \n",
       "2360                     crm / analytics platform   \n",
       "2361            architectural design & consulting   \n",
       "2362                 beauty and wellness platform   \n",
       "2363                    healthy food manufacturer   \n",
       "2364                         used car marketplace   \n",
       "2365                     online learning platform   \n",
       "2366                healthy food online community   \n",
       "2367                 used two-wheeler marketplace   \n",
       "2368                  online fashion video portal   \n",
       "2369   probiotic technology products manufacturer   \n",
       "2370                         online food delivery   \n",
       "2371                        fund raising platform   \n",
       "\n",
       "                                       SubVertical CityLocation  \\\n",
       "0                       Digital payments solutions    Bangalore   \n",
       "1            Next Gen Mobility device manufacturer         Pune   \n",
       "2                            Chatbot creation tool    Bangalore   \n",
       "3                      Door Step Delivery platform    Hyderabad   \n",
       "4              Online insurance brokerage platform       Mumbai   \n",
       "5                Online rooms aggregation platform       Mumbai   \n",
       "6                Hygiene care product manufacturer    New Delhi   \n",
       "7                          Artificial Intelligence    Bangalore   \n",
       "8                          Online Lending platform    Ahmedabad   \n",
       "9             Online peer-to-peer lending platform    Bangalore   \n",
       "10            Legal Services to SMEs & Individuals    New Delhi   \n",
       "11                 Digital money transfer platform       Mumbai   \n",
       "12                        Cloud ECommerce platform    Bangalore   \n",
       "13                      NanoTech product developer    Bangalore   \n",
       "14                  Software-As-a-Service Platform        Noida   \n",
       "15                          Food Delivery Platform    Hyderabad   \n",
       "16                  Third Party Logistics provider       Mumbai   \n",
       "17                Online Skill Assessment Platform    Bangalore   \n",
       "18                           Online Travel planner       Mumbai   \n",
       "19             Online lingerie & Sleepwear etailer    New Delhi   \n",
       "20             Property Search Aggregator platform      Gurgaon   \n",
       "21        Real-time Mobile App Management Platform    Bangalore   \n",
       "22                 Online Interior Design platform    Bangalore   \n",
       "23                Video Content Discovery Platform       Mumbai   \n",
       "24    Salon & Spa Aggregation & Discovery platform         Pune   \n",
       "25                         Online lending platform         Pune   \n",
       "26                             Diamond B2B eTailer       Mumbai   \n",
       "27                              Clean Tech Startup       Mumbai   \n",
       "28                     Software solutions for M&As    Bangalore   \n",
       "29               Online Sports portal & Mobile app    New Delhi   \n",
       "...                                            ...          ...   \n",
       "2342                        Not Specified or Other    Singapore   \n",
       "2343                        Not Specified or Other    New Delhi   \n",
       "2344                        Not Specified or Other    Hyderabad   \n",
       "2345                        Not Specified or Other      Gurgaon   \n",
       "2346                        Not Specified or Other    New Delhi   \n",
       "2347                        Not Specified or Other      Gurgaon   \n",
       "2348                        Not Specified or Other   Chandigarh   \n",
       "2349                        Not Specified or Other       Mumbai   \n",
       "2350                        Not Specified or Other      Gurgaon   \n",
       "2351                        Not Specified or Other       Mumbai   \n",
       "2352                        Not Specified or Other    New Delhi   \n",
       "2353                        Not Specified or Other         Pune   \n",
       "2354                        Not Specified or Other    Bangalore   \n",
       "2355                        Not Specified or Other       Mumbai   \n",
       "2356                        Not Specified or Other    New Delhi   \n",
       "2357                        Not Specified or Other    Bangalore   \n",
       "2358                        Not Specified or Other    Bangalore   \n",
       "2359                        Not Specified or Other       Mumbai   \n",
       "2360                        Not Specified or Other      Chennai   \n",
       "2361                        Not Specified or Other    Hyderabad   \n",
       "2362                        Not Specified or Other    New Delhi   \n",
       "2363                        Not Specified or Other    New Delhi   \n",
       "2364                        Not Specified or Other       Mumbai   \n",
       "2365                        Not Specified or Other    New Delhi   \n",
       "2366                        Not Specified or Other    New Delhi   \n",
       "2367                        Not Specified or Other       Mumbai   \n",
       "2368                        Not Specified or Other       Mumbai   \n",
       "2369                        Not Specified or Other      Chennai   \n",
       "2370                        Not Specified or Other      Gurgaon   \n",
       "2371                        Not Specified or Other      Chennai   \n",
       "\n",
       "                                          InvestorsName  InvestmentType  \\\n",
       "0     SBI-FMO Fund, Bessemer Venture Partners, Catam...  Private Equity   \n",
       "1                                  Indian Angel Network    Seed Funding   \n",
       "2     500 Startups, Purvi Capital, Rajan Anandan, Ab...    Seed Funding   \n",
       "3                  Corvus Ventures, MAPE Advisory Group  Private Equity   \n",
       "4                                          Transamerica  Private Equity   \n",
       "5     Artha India Ventures, Singularity Holdings, Ra...    Seed Funding   \n",
       "6     Venture Catalysts, Alfa Capital, Green Shots C...  Private Equity   \n",
       "7     Unicorn India Ventures, Venky Krishnakumar, Su...  Private Equity   \n",
       "8                                              Yes Bank    Debt Funding   \n",
       "9                   Cao Yibin, Huang Wei, Madhusudan E,    Seed Funding   \n",
       "10                                      Impanix Capital  Private Equity   \n",
       "11                                   Infibeam, CCavenue  Private Equity   \n",
       "12                                undisclosed investors    Seed Funding   \n",
       "13                                                 GEMs    Seed Funding   \n",
       "14    Blume Ventures, Contrarian Capital, 91springbo...  Private Equity   \n",
       "15      MAPE Advisory Group, R Ramaraj, Corvus Ventures    Seed Funding   \n",
       "16                   Mayfield, Nishant Rao, Dileep Nath  Private Equity   \n",
       "17    DHI Group Inc, Prime Venture Partners, Beenext...  Private Equity   \n",
       "18                                         Z Nation Lab    Seed Funding   \n",
       "19    Ivycap Ventures Advisors, Singularity Ventures...  Private Equity   \n",
       "20                           Lohia Group, Andre Hoffman  Private Equity   \n",
       "21                        IDG Ventures, Endiya Partners  Private Equity   \n",
       "22    Fireside Ventures, Apurva Salarpuria, Sidharth...    Seed Funding   \n",
       "23    Venture Catalysts, Sourav Ganguly, Ankit Adity...    Seed Funding   \n",
       "24                             Dunamis Ventures Pte Ltd  Private Equity   \n",
       "25        DG Ventures India, Dewan Housing Finance Corp  Private Equity   \n",
       "26                         Chirag Nikunj Sheth & Others    Seed Funding   \n",
       "27       Aakrit Vaish, Swapan Rajdev, Sushill Jiwarajka    Seed Funding   \n",
       "28                                     Philippe Bouchet    Seed Funding   \n",
       "29                          Sushil Kumar, Sandeep Singh    Seed Funding   \n",
       "...                                                 ...             ...   \n",
       "2342       Ashish Todi, Abhinav Patodia, Kumar Shwetabh    Seed Funding   \n",
       "2343                       Paytm (One97 communications)  Private Equity   \n",
       "2344                       Paytm (One97 communications)  Private Equity   \n",
       "2345                                    Axilor Ventures    Seed Funding   \n",
       "2346                                   Sandeep Aggarwal    Seed Funding   \n",
       "2347  Accel Partners, Elevar Equity, Pramod Bhasin, ...    Seed Funding   \n",
       "2348                                           Flipkart  Private Equity   \n",
       "2349                             Group of HNI investors  Private Equity   \n",
       "2350                                   Reliance Capital  Private Equity   \n",
       "2351                            Tania Johny Palathinkal    Seed Funding   \n",
       "2352                         Alibaba, Foxconn, Softbank  Private Equity   \n",
       "2353                              Mohandas Pai & others    Seed Funding   \n",
       "2354                  IFC, Axon Partners, Intel Capital  Private Equity   \n",
       "2355                                  Omnivore Partners  Private Equity   \n",
       "2356  ah! Ventures, Vivek Joshi, Mohit Satyanand & o...    Seed Funding   \n",
       "2357                                         Ratan Tata  Private Equity   \n",
       "2358                             Delhivery, Tracxn Labs    Seed Funding   \n",
       "2359                     Bessemer Ventures, Kae Capital    Seed Funding   \n",
       "2360             The Chennai Angels, IDG Ventures India    Seed Funding   \n",
       "2361                                  Srinivas Tirupati    Seed Funding   \n",
       "2362                              Aprameya Radhakrishna    Seed Funding   \n",
       "2363              DSG Consumer Partners, Saama Capital.  Private Equity   \n",
       "2364                         Kae Capital, Anupam Mittal    Seed Funding   \n",
       "2365                                           InfoEdge  Private Equity   \n",
       "2366                        Group of 15 Angel Investors    Seed Funding   \n",
       "2367                                        GrowthStory    Seed Funding   \n",
       "2368  Ventureworks India, Blume Ventures, Batlivala ...  Private Equity   \n",
       "2369                                    Infuse Ventures  Private Equity   \n",
       "2370                     Goldman Sachs, Rocket Internet  Private Equity   \n",
       "2371  Anand Vijay, Nipun Dureja, Satyajit Heeralal, ...    Seed Funding   \n",
       "\n",
       "      AmountInUSD  Month  Year Quarter QuarterYear  NumberOfInvestors  \n",
       "0      18500000.0     12  2017       4     2017-Q4                  3  \n",
       "1             NaN     12  2017       4     2017-Q4                  1  \n",
       "2             NaN     12  2017       4     2017-Q4                  4  \n",
       "3             NaN     12  2017       4     2017-Q4                  2  \n",
       "4      15000000.0     12  2017       4     2017-Q4                  1  \n",
       "5        776000.0     12  2017       4     2017-Q4                  4  \n",
       "6       1000000.0     12  2017       4     2017-Q4                  4  \n",
       "7        500000.0     12  2017       4     2017-Q4                  4  \n",
       "8       7800000.0     12  2017       4     2017-Q4                  1  \n",
       "9             NaN     12  2017       4     2017-Q4                  4  \n",
       "10      5000000.0     12  2017       4     2017-Q4                  1  \n",
       "11       466000.0     12  2017       4     2017-Q4                  2  \n",
       "12      1000000.0     12  2017       4     2017-Q4                  1  \n",
       "13            NaN     12  2017       4     2017-Q4                  1  \n",
       "14      2100000.0     12  2017       4     2017-Q4                  7  \n",
       "15            NaN     12  2017       4     2017-Q4                  3  \n",
       "16      4500000.0     12  2017       4     2017-Q4                  3  \n",
       "17      4500000.0     12  2017       4     2017-Q4                  6  \n",
       "18            NaN     12  2017       4     2017-Q4                  1  \n",
       "19      4000000.0     12  2017       4     2017-Q4                  2  \n",
       "20     10000000.0     12  2017       4     2017-Q4                  2  \n",
       "21      1350000.0     12  2017       4     2017-Q4                  2  \n",
       "22            NaN     11  2017       4     2017-Q4                  4  \n",
       "23       464000.0     11  2017       4     2017-Q4                  4  \n",
       "24      2250000.0     11  2017       4     2017-Q4                  1  \n",
       "25      4000000.0     11  2017       4     2017-Q4                  2  \n",
       "26            NaN     11  2017       4     2017-Q4                  1  \n",
       "27            NaN     11  2017       4     2017-Q4                  3  \n",
       "28       100000.0     11  2017       4     2017-Q4                  1  \n",
       "29            NaN     11  2017       4     2017-Q4                  2  \n",
       "...           ...    ...   ...     ...         ...                ...  \n",
       "2342     350000.0      1  2015       1     2015-Q1                  3  \n",
       "2343          NaN      1  2015       1     2015-Q1                  1  \n",
       "2344          NaN      1  2015       1     2015-Q1                  1  \n",
       "2345          NaN      1  2015       1     2015-Q1                  1  \n",
       "2346          NaN      1  2015       1     2015-Q1                  1  \n",
       "2347          NaN      1  2015       1     2015-Q1                  8  \n",
       "2348          NaN      1  2015       1     2015-Q1                  1  \n",
       "2349    1000000.0      1  2015       1     2015-Q1                  1  \n",
       "2350     900000.0      1  2015       1     2015-Q1                  1  \n",
       "2351     100000.0      1  2015       1     2015-Q1                  1  \n",
       "2352  500000000.0      1  2015       1     2015-Q1                  3  \n",
       "2353     400000.0      1  2015       1     2015-Q1                  1  \n",
       "2354   13500000.0      1  2015       1     2015-Q1                  3  \n",
       "2355          NaN      1  2015       1     2015-Q1                  1  \n",
       "2356          NaN      1  2015       1     2015-Q1                  3  \n",
       "2357          NaN      1  2015       1     2015-Q1                  1  \n",
       "2358          NaN      1  2015       1     2015-Q1                  2  \n",
       "2359     630000.0      1  2015       1     2015-Q1                  2  \n",
       "2360    1000000.0      1  2015       1     2015-Q1                  2  \n",
       "2361     500000.0      1  2015       1     2015-Q1                  1  \n",
       "2362          NaN      1  2015       1     2015-Q1                  1  \n",
       "2363    6000000.0      1  2015       1     2015-Q1                  2  \n",
       "2364     500000.0      1  2015       1     2015-Q1                  2  \n",
       "2365    4000000.0      1  2015       1     2015-Q1                  1  \n",
       "2366     350000.0      1  2015       1     2015-Q1                  1  \n",
       "2367          NaN      1  2015       1     2015-Q1                  1  \n",
       "2368    1000000.0      1  2015       1     2015-Q1                  4  \n",
       "2369     550000.0      1  2015       1     2015-Q1                  1  \n",
       "2370  100000000.0      1  2015       1     2015-Q1                  2  \n",
       "2371     100000.0      1  2015       1     2015-Q1                  7  \n",
       "\n",
       "[2372 rows x 14 columns]"
      ]
     },
     "execution_count": 92,
     "metadata": {},
     "output_type": "execute_result"
    }
   ],
   "source": [
    "data"
   ]
  },
  {
   "cell_type": "code",
   "execution_count": null,
   "metadata": {},
   "outputs": [],
   "source": []
  }
 ],
 "metadata": {
  "kernelspec": {
   "display_name": "Python 3",
   "language": "python",
   "name": "python3"
  },
  "language_info": {
   "codemirror_mode": {
    "name": "ipython",
    "version": 3
   },
   "file_extension": ".py",
   "mimetype": "text/x-python",
   "name": "python",
   "nbconvert_exporter": "python",
   "pygments_lexer": "ipython3",
   "version": "3.7.3"
  }
 },
 "nbformat": 4,
 "nbformat_minor": 2
}
