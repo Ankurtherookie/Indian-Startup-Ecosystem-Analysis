{
 "cells": [
  {
   "cell_type": "code",
   "execution_count": 1,
   "metadata": {},
   "outputs": [],
   "source": [
    "import numpy as np\n",
    "import pandas as pd\n",
    "import matplotlib.pyplot as plt\n",
    "import seaborn as sns\n",
    "import re\n",
    "%matplotlib inline"
   ]
  },
  {
   "cell_type": "markdown",
   "metadata": {},
   "source": [
    "Importing dataset present in dataset folder"
   ]
  },
  {
   "cell_type": "code",
   "execution_count": 2,
   "metadata": {},
   "outputs": [],
   "source": [
    "data=pd.read_csv('dataset/startup_funding.csv')"
   ]
  },
  {
   "cell_type": "markdown",
   "metadata": {},
   "source": [
    "High level overview of the data we are dealing with"
   ]
  },
  {
   "cell_type": "code",
   "execution_count": 3,
   "metadata": {},
   "outputs": [
    {
     "data": {
      "text/html": [
       "<div>\n",
       "<style scoped>\n",
       "    .dataframe tbody tr th:only-of-type {\n",
       "        vertical-align: middle;\n",
       "    }\n",
       "\n",
       "    .dataframe tbody tr th {\n",
       "        vertical-align: top;\n",
       "    }\n",
       "\n",
       "    .dataframe thead th {\n",
       "        text-align: right;\n",
       "    }\n",
       "</style>\n",
       "<table border=\"1\" class=\"dataframe\">\n",
       "  <thead>\n",
       "    <tr style=\"text-align: right;\">\n",
       "      <th></th>\n",
       "      <th>SNo</th>\n",
       "      <th>Date</th>\n",
       "      <th>StartupName</th>\n",
       "      <th>IndustryVertical</th>\n",
       "      <th>SubVertical</th>\n",
       "      <th>CityLocation</th>\n",
       "      <th>InvestorsName</th>\n",
       "      <th>InvestmentType</th>\n",
       "      <th>AmountInUSD</th>\n",
       "      <th>Remarks</th>\n",
       "    </tr>\n",
       "  </thead>\n",
       "  <tbody>\n",
       "    <tr>\n",
       "      <th>0</th>\n",
       "      <td>0</td>\n",
       "      <td>01/08/2017</td>\n",
       "      <td>TouchKin</td>\n",
       "      <td>Technology</td>\n",
       "      <td>Predictive Care Platform</td>\n",
       "      <td>Bangalore</td>\n",
       "      <td>Kae Capital</td>\n",
       "      <td>Private Equity</td>\n",
       "      <td>1,300,000</td>\n",
       "      <td>NaN</td>\n",
       "    </tr>\n",
       "    <tr>\n",
       "      <th>1</th>\n",
       "      <td>1</td>\n",
       "      <td>02/08/2017</td>\n",
       "      <td>Ethinos</td>\n",
       "      <td>Technology</td>\n",
       "      <td>Digital Marketing Agency</td>\n",
       "      <td>Mumbai</td>\n",
       "      <td>Triton Investment Advisors</td>\n",
       "      <td>Private Equity</td>\n",
       "      <td>NaN</td>\n",
       "      <td>NaN</td>\n",
       "    </tr>\n",
       "    <tr>\n",
       "      <th>2</th>\n",
       "      <td>2</td>\n",
       "      <td>02/08/2017</td>\n",
       "      <td>Leverage Edu</td>\n",
       "      <td>Consumer Internet</td>\n",
       "      <td>Online platform for Higher Education Services</td>\n",
       "      <td>New Delhi</td>\n",
       "      <td>Kashyap Deorah, Anand Sankeshwar, Deepak Jain,...</td>\n",
       "      <td>Seed Funding</td>\n",
       "      <td>NaN</td>\n",
       "      <td>NaN</td>\n",
       "    </tr>\n",
       "    <tr>\n",
       "      <th>3</th>\n",
       "      <td>3</td>\n",
       "      <td>02/08/2017</td>\n",
       "      <td>Zepo</td>\n",
       "      <td>Consumer Internet</td>\n",
       "      <td>DIY Ecommerce platform</td>\n",
       "      <td>Mumbai</td>\n",
       "      <td>Kunal Shah, LetsVenture, Anupam Mittal, Hetal ...</td>\n",
       "      <td>Seed Funding</td>\n",
       "      <td>500,000</td>\n",
       "      <td>NaN</td>\n",
       "    </tr>\n",
       "    <tr>\n",
       "      <th>4</th>\n",
       "      <td>4</td>\n",
       "      <td>02/08/2017</td>\n",
       "      <td>Click2Clinic</td>\n",
       "      <td>Consumer Internet</td>\n",
       "      <td>healthcare service aggregator</td>\n",
       "      <td>Hyderabad</td>\n",
       "      <td>Narottam Thudi, Shireesh Palle</td>\n",
       "      <td>Seed Funding</td>\n",
       "      <td>850,000</td>\n",
       "      <td>NaN</td>\n",
       "    </tr>\n",
       "  </tbody>\n",
       "</table>\n",
       "</div>"
      ],
      "text/plain": [
       "   SNo        Date   StartupName   IndustryVertical  \\\n",
       "0    0  01/08/2017      TouchKin         Technology   \n",
       "1    1  02/08/2017       Ethinos         Technology   \n",
       "2    2  02/08/2017  Leverage Edu  Consumer Internet   \n",
       "3    3  02/08/2017          Zepo  Consumer Internet   \n",
       "4    4  02/08/2017  Click2Clinic  Consumer Internet   \n",
       "\n",
       "                                     SubVertical CityLocation  \\\n",
       "0                       Predictive Care Platform    Bangalore   \n",
       "1                       Digital Marketing Agency       Mumbai   \n",
       "2  Online platform for Higher Education Services    New Delhi   \n",
       "3                         DIY Ecommerce platform       Mumbai   \n",
       "4                  healthcare service aggregator    Hyderabad   \n",
       "\n",
       "                                       InvestorsName  InvestmentType  \\\n",
       "0                                        Kae Capital  Private Equity   \n",
       "1                         Triton Investment Advisors  Private Equity   \n",
       "2  Kashyap Deorah, Anand Sankeshwar, Deepak Jain,...    Seed Funding   \n",
       "3  Kunal Shah, LetsVenture, Anupam Mittal, Hetal ...    Seed Funding   \n",
       "4                     Narottam Thudi, Shireesh Palle    Seed Funding   \n",
       "\n",
       "  AmountInUSD Remarks  \n",
       "0   1,300,000     NaN  \n",
       "1         NaN     NaN  \n",
       "2         NaN     NaN  \n",
       "3     500,000     NaN  \n",
       "4     850,000     NaN  "
      ]
     },
     "execution_count": 3,
     "metadata": {},
     "output_type": "execute_result"
    }
   ],
   "source": [
    "data.head()"
   ]
  },
  {
   "cell_type": "code",
   "execution_count": 4,
   "metadata": {},
   "outputs": [
    {
     "data": {
      "text/html": [
       "<div>\n",
       "<style scoped>\n",
       "    .dataframe tbody tr th:only-of-type {\n",
       "        vertical-align: middle;\n",
       "    }\n",
       "\n",
       "    .dataframe tbody tr th {\n",
       "        vertical-align: top;\n",
       "    }\n",
       "\n",
       "    .dataframe thead th {\n",
       "        text-align: right;\n",
       "    }\n",
       "</style>\n",
       "<table border=\"1\" class=\"dataframe\">\n",
       "  <thead>\n",
       "    <tr style=\"text-align: right;\">\n",
       "      <th></th>\n",
       "      <th>SNo</th>\n",
       "      <th>Date</th>\n",
       "      <th>StartupName</th>\n",
       "      <th>IndustryVertical</th>\n",
       "      <th>SubVertical</th>\n",
       "      <th>CityLocation</th>\n",
       "      <th>InvestorsName</th>\n",
       "      <th>InvestmentType</th>\n",
       "      <th>AmountInUSD</th>\n",
       "      <th>Remarks</th>\n",
       "    </tr>\n",
       "  </thead>\n",
       "  <tbody>\n",
       "    <tr>\n",
       "      <th>2367</th>\n",
       "      <td>2367</td>\n",
       "      <td>29/01/2015</td>\n",
       "      <td>Printvenue</td>\n",
       "      <td>NaN</td>\n",
       "      <td>NaN</td>\n",
       "      <td>NaN</td>\n",
       "      <td>Asia Pacific Internet Group</td>\n",
       "      <td>Private Equity</td>\n",
       "      <td>4,500,000</td>\n",
       "      <td>NaN</td>\n",
       "    </tr>\n",
       "    <tr>\n",
       "      <th>2368</th>\n",
       "      <td>2368</td>\n",
       "      <td>29/01/2015</td>\n",
       "      <td>Graphene</td>\n",
       "      <td>NaN</td>\n",
       "      <td>NaN</td>\n",
       "      <td>NaN</td>\n",
       "      <td>KARSEMVEN Fund</td>\n",
       "      <td>Private Equity</td>\n",
       "      <td>825,000</td>\n",
       "      <td>Govt backed VC Fund</td>\n",
       "    </tr>\n",
       "    <tr>\n",
       "      <th>2369</th>\n",
       "      <td>2369</td>\n",
       "      <td>30/01/2015</td>\n",
       "      <td>Mad Street Den</td>\n",
       "      <td>NaN</td>\n",
       "      <td>NaN</td>\n",
       "      <td>NaN</td>\n",
       "      <td>Exfinity Fund, GrowX Ventures.</td>\n",
       "      <td>Private Equity</td>\n",
       "      <td>1,500,000</td>\n",
       "      <td>NaN</td>\n",
       "    </tr>\n",
       "    <tr>\n",
       "      <th>2370</th>\n",
       "      <td>2370</td>\n",
       "      <td>30/01/2015</td>\n",
       "      <td>Simplotel</td>\n",
       "      <td>NaN</td>\n",
       "      <td>NaN</td>\n",
       "      <td>NaN</td>\n",
       "      <td>MakeMyTrip</td>\n",
       "      <td>Private Equity</td>\n",
       "      <td>NaN</td>\n",
       "      <td>Strategic Funding, Minority stake</td>\n",
       "    </tr>\n",
       "    <tr>\n",
       "      <th>2371</th>\n",
       "      <td>2371</td>\n",
       "      <td>31/01/2015</td>\n",
       "      <td>couponmachine.in</td>\n",
       "      <td>NaN</td>\n",
       "      <td>NaN</td>\n",
       "      <td>NaN</td>\n",
       "      <td>UK based Group of Angel Investors</td>\n",
       "      <td>Seed Funding</td>\n",
       "      <td>140,000</td>\n",
       "      <td>NaN</td>\n",
       "    </tr>\n",
       "  </tbody>\n",
       "</table>\n",
       "</div>"
      ],
      "text/plain": [
       "       SNo        Date       StartupName IndustryVertical SubVertical  \\\n",
       "2367  2367  29/01/2015        Printvenue              NaN         NaN   \n",
       "2368  2368  29/01/2015          Graphene              NaN         NaN   \n",
       "2369  2369  30/01/2015    Mad Street Den              NaN         NaN   \n",
       "2370  2370  30/01/2015         Simplotel              NaN         NaN   \n",
       "2371  2371  31/01/2015  couponmachine.in              NaN         NaN   \n",
       "\n",
       "     CityLocation                      InvestorsName  InvestmentType  \\\n",
       "2367          NaN        Asia Pacific Internet Group  Private Equity   \n",
       "2368          NaN                     KARSEMVEN Fund  Private Equity   \n",
       "2369          NaN     Exfinity Fund, GrowX Ventures.  Private Equity   \n",
       "2370          NaN                         MakeMyTrip  Private Equity   \n",
       "2371          NaN  UK based Group of Angel Investors    Seed Funding   \n",
       "\n",
       "     AmountInUSD                            Remarks  \n",
       "2367   4,500,000                                NaN  \n",
       "2368     825,000                Govt backed VC Fund  \n",
       "2369   1,500,000                                NaN  \n",
       "2370         NaN  Strategic Funding, Minority stake  \n",
       "2371     140,000                                NaN  "
      ]
     },
     "execution_count": 4,
     "metadata": {},
     "output_type": "execute_result"
    }
   ],
   "source": [
    "data.tail()"
   ]
  },
  {
   "cell_type": "code",
   "execution_count": 5,
   "metadata": {},
   "outputs": [
    {
     "name": "stdout",
     "output_type": "stream",
     "text": [
      "data contains 2372 rows and 10 columns\n"
     ]
    }
   ],
   "source": [
    "print('data contains',data.shape[0],'rows and',data.shape[1],'columns',sep=' ')"
   ]
  },
  {
   "cell_type": "markdown",
   "metadata": {},
   "source": [
    "#### Lets see the columns (features) we have available."
   ]
  },
  {
   "cell_type": "code",
   "execution_count": 6,
   "metadata": {
    "scrolled": true
   },
   "outputs": [
    {
     "name": "stdout",
     "output_type": "stream",
     "text": [
      "<class 'pandas.core.frame.DataFrame'>\n",
      "RangeIndex: 2372 entries, 0 to 2371\n",
      "Data columns (total 10 columns):\n",
      "SNo                 2372 non-null int64\n",
      "Date                2372 non-null object\n",
      "StartupName         2372 non-null object\n",
      "IndustryVertical    2201 non-null object\n",
      "SubVertical         1436 non-null object\n",
      "CityLocation        2193 non-null object\n",
      "InvestorsName       2364 non-null object\n",
      "InvestmentType      2371 non-null object\n",
      "AmountInUSD         1525 non-null object\n",
      "Remarks             419 non-null object\n",
      "dtypes: int64(1), object(9)\n",
      "memory usage: 185.4+ KB\n",
      "None\n"
     ]
    }
   ],
   "source": [
    "print(data.info())"
   ]
  },
  {
   "cell_type": "markdown",
   "metadata": {},
   "source": [
    "##### From the above output, we can see that there are columns with missing values, so we need to either fill them up using a method or just ignore them. Let's see the process of cleaning the data."
   ]
  },
  {
   "cell_type": "markdown",
   "metadata": {},
   "source": [
    "# Features Descriptions\n",
    "- Sno: Serial number\n",
    "- Date: Date of funding\n",
    "- StartupName: Name of the startup\n",
    "- IndustryVertical: Industry to which the startup belongs.\n",
    "- SubVertical: Sub-category of the industry type.\n",
    "- CityLocation: City which the startup is based out of.\n",
    "- InvestorsName: Name of the investors involved in the funding round.\n",
    "- InvestmentType: Either Private Equity or Seed Funding.\n",
    "- AmountInUSD: Funding Amount in USD.\n",
    "- Remarks: Other information, if any."
   ]
  },
  {
   "cell_type": "markdown",
   "metadata": {},
   "source": [
    "# Data Cleaning"
   ]
  },
  {
   "cell_type": "markdown",
   "metadata": {},
   "source": [
    "First, let's find out the frequency of missing data in each column along with its percentage."
   ]
  },
  {
   "cell_type": "code",
   "execution_count": 7,
   "metadata": {},
   "outputs": [
    {
     "data": {
      "text/html": [
       "<div>\n",
       "<style scoped>\n",
       "    .dataframe tbody tr th:only-of-type {\n",
       "        vertical-align: middle;\n",
       "    }\n",
       "\n",
       "    .dataframe tbody tr th {\n",
       "        vertical-align: top;\n",
       "    }\n",
       "\n",
       "    .dataframe thead th {\n",
       "        text-align: right;\n",
       "    }\n",
       "</style>\n",
       "<table border=\"1\" class=\"dataframe\">\n",
       "  <thead>\n",
       "    <tr style=\"text-align: right;\">\n",
       "      <th></th>\n",
       "      <th>Missing Data</th>\n",
       "      <th>Percentage</th>\n",
       "    </tr>\n",
       "    <tr>\n",
       "      <th>Columns</th>\n",
       "      <th></th>\n",
       "      <th></th>\n",
       "    </tr>\n",
       "  </thead>\n",
       "  <tbody>\n",
       "    <tr>\n",
       "      <th>Remarks</th>\n",
       "      <td>1953</td>\n",
       "      <td>82.335582</td>\n",
       "    </tr>\n",
       "    <tr>\n",
       "      <th>SubVertical</th>\n",
       "      <td>936</td>\n",
       "      <td>39.460371</td>\n",
       "    </tr>\n",
       "    <tr>\n",
       "      <th>AmountInUSD</th>\n",
       "      <td>847</td>\n",
       "      <td>35.708263</td>\n",
       "    </tr>\n",
       "    <tr>\n",
       "      <th>CityLocation</th>\n",
       "      <td>179</td>\n",
       "      <td>7.546374</td>\n",
       "    </tr>\n",
       "    <tr>\n",
       "      <th>IndustryVertical</th>\n",
       "      <td>171</td>\n",
       "      <td>7.209106</td>\n",
       "    </tr>\n",
       "    <tr>\n",
       "      <th>InvestorsName</th>\n",
       "      <td>8</td>\n",
       "      <td>0.337268</td>\n",
       "    </tr>\n",
       "    <tr>\n",
       "      <th>InvestmentType</th>\n",
       "      <td>1</td>\n",
       "      <td>0.042159</td>\n",
       "    </tr>\n",
       "    <tr>\n",
       "      <th>SNo</th>\n",
       "      <td>0</td>\n",
       "      <td>0.000000</td>\n",
       "    </tr>\n",
       "    <tr>\n",
       "      <th>Date</th>\n",
       "      <td>0</td>\n",
       "      <td>0.000000</td>\n",
       "    </tr>\n",
       "    <tr>\n",
       "      <th>StartupName</th>\n",
       "      <td>0</td>\n",
       "      <td>0.000000</td>\n",
       "    </tr>\n",
       "  </tbody>\n",
       "</table>\n",
       "</div>"
      ],
      "text/plain": [
       "                  Missing Data  Percentage\n",
       "Columns                                   \n",
       "Remarks                   1953   82.335582\n",
       "SubVertical                936   39.460371\n",
       "AmountInUSD                847   35.708263\n",
       "CityLocation               179    7.546374\n",
       "IndustryVertical           171    7.209106\n",
       "InvestorsName                8    0.337268\n",
       "InvestmentType               1    0.042159\n",
       "SNo                          0    0.000000\n",
       "Date                         0    0.000000\n",
       "StartupName                  0    0.000000"
      ]
     },
     "execution_count": 7,
     "metadata": {},
     "output_type": "execute_result"
    }
   ],
   "source": [
    "null_values=pd.isnull(data).sum()\n",
    "columns=null_values.index\n",
    "frequency=null_values.values\n",
    "percentage=(frequency/data.shape[0])*100\n",
    "missing_values=pd.DataFrame({'Columns':columns,'Missing Data':frequency,'Percentage':percentage}).sort_values('Percentage',ascending=False).set_index('Columns')\n",
    "missing_values"
   ]
  },
  {
   "cell_type": "markdown",
   "metadata": {},
   "source": [
    "From the above output, we can see that Remarks column has 1953 rows of missing data. Since there is no way to fill in this column neither it looks important for our analysis, we will remove it from our dataset and try to work on the remaining column's missing values.\n",
    "Also removing SNo since it doesn't contribute to our analysis."
   ]
  },
  {
   "cell_type": "code",
   "execution_count": 8,
   "metadata": {},
   "outputs": [],
   "source": [
    "data.drop(columns=['Remarks'],inplace=True)\n",
    "data.drop(columns=['SNo'],inplace=True)"
   ]
  },
  {
   "cell_type": "code",
   "execution_count": 9,
   "metadata": {},
   "outputs": [
    {
     "data": {
      "text/html": [
       "<div>\n",
       "<style scoped>\n",
       "    .dataframe tbody tr th:only-of-type {\n",
       "        vertical-align: middle;\n",
       "    }\n",
       "\n",
       "    .dataframe tbody tr th {\n",
       "        vertical-align: top;\n",
       "    }\n",
       "\n",
       "    .dataframe thead th {\n",
       "        text-align: right;\n",
       "    }\n",
       "</style>\n",
       "<table border=\"1\" class=\"dataframe\">\n",
       "  <thead>\n",
       "    <tr style=\"text-align: right;\">\n",
       "      <th></th>\n",
       "      <th>Missing Data</th>\n",
       "      <th>Percentage</th>\n",
       "    </tr>\n",
       "    <tr>\n",
       "      <th>Columns</th>\n",
       "      <th></th>\n",
       "      <th></th>\n",
       "    </tr>\n",
       "  </thead>\n",
       "  <tbody>\n",
       "    <tr>\n",
       "      <th>SubVertical</th>\n",
       "      <td>936</td>\n",
       "      <td>39.460371</td>\n",
       "    </tr>\n",
       "    <tr>\n",
       "      <th>AmountInUSD</th>\n",
       "      <td>847</td>\n",
       "      <td>35.708263</td>\n",
       "    </tr>\n",
       "    <tr>\n",
       "      <th>CityLocation</th>\n",
       "      <td>179</td>\n",
       "      <td>7.546374</td>\n",
       "    </tr>\n",
       "    <tr>\n",
       "      <th>IndustryVertical</th>\n",
       "      <td>171</td>\n",
       "      <td>7.209106</td>\n",
       "    </tr>\n",
       "    <tr>\n",
       "      <th>InvestorsName</th>\n",
       "      <td>8</td>\n",
       "      <td>0.337268</td>\n",
       "    </tr>\n",
       "    <tr>\n",
       "      <th>InvestmentType</th>\n",
       "      <td>1</td>\n",
       "      <td>0.042159</td>\n",
       "    </tr>\n",
       "    <tr>\n",
       "      <th>Date</th>\n",
       "      <td>0</td>\n",
       "      <td>0.000000</td>\n",
       "    </tr>\n",
       "    <tr>\n",
       "      <th>StartupName</th>\n",
       "      <td>0</td>\n",
       "      <td>0.000000</td>\n",
       "    </tr>\n",
       "  </tbody>\n",
       "</table>\n",
       "</div>"
      ],
      "text/plain": [
       "                  Missing Data  Percentage\n",
       "Columns                                   \n",
       "SubVertical                936   39.460371\n",
       "AmountInUSD                847   35.708263\n",
       "CityLocation               179    7.546374\n",
       "IndustryVertical           171    7.209106\n",
       "InvestorsName                8    0.337268\n",
       "InvestmentType               1    0.042159\n",
       "Date                         0    0.000000\n",
       "StartupName                  0    0.000000"
      ]
     },
     "execution_count": 9,
     "metadata": {},
     "output_type": "execute_result"
    }
   ],
   "source": [
    "null_values=pd.isnull(data).sum()\n",
    "columns=null_values.index\n",
    "frequency=null_values.values\n",
    "percentage=(frequency/data.shape[0])*100\n",
    "missing_values=pd.DataFrame({'Columns':columns,'Missing Data':frequency,'Percentage':percentage}).sort_values('Percentage',ascending=False).set_index('Columns')\n",
    "missing_values"
   ]
  },
  {
   "cell_type": "markdown",
   "metadata": {},
   "source": [
    "Now, lets go one by one and try to fill out missing values in each column."
   ]
  },
  {
   "cell_type": "markdown",
   "metadata": {},
   "source": [
    "# SubVertical"
   ]
  },
  {
   "cell_type": "code",
   "execution_count": 10,
   "metadata": {},
   "outputs": [
    {
     "data": {
      "text/plain": [
       "count                1436\n",
       "unique               1364\n",
       "top       Online Pharmacy\n",
       "freq                    9\n",
       "Name: SubVertical, dtype: object"
      ]
     },
     "execution_count": 10,
     "metadata": {},
     "output_type": "execute_result"
    }
   ],
   "source": [
    "data['SubVertical'].describe()"
   ]
  },
  {
   "cell_type": "code",
   "execution_count": 11,
   "metadata": {},
   "outputs": [
    {
     "data": {
      "text/plain": [
       "1365"
      ]
     },
     "execution_count": 11,
     "metadata": {},
     "output_type": "execute_result"
    }
   ],
   "source": [
    "len(data['SubVertical'].unique())"
   ]
  },
  {
   "cell_type": "markdown",
   "metadata": {},
   "source": [
    "There are 1365 unique sub-categories and 936 unknown sub-categories"
   ]
  },
  {
   "cell_type": "markdown",
   "metadata": {},
   "source": [
    "We have two options from here, that is,\n",
    "1. Fill up the missing values as 'Not specified' string\n",
    "2. Do not fill up the missing values."
   ]
  },
  {
   "cell_type": "markdown",
   "metadata": {},
   "source": [
    "For this analysis, I intend to not fill up the missing values for the SubVertical columns since later on, it might\n",
    "affect our analysis."
   ]
  },
  {
   "cell_type": "code",
   "execution_count": 12,
   "metadata": {},
   "outputs": [],
   "source": [
    "data['SubVertical'].fillna(value='Not Specified or Other',inplace=True)"
   ]
  },
  {
   "cell_type": "markdown",
   "metadata": {},
   "source": [
    "# AmountInUSD"
   ]
  },
  {
   "cell_type": "code",
   "execution_count": 13,
   "metadata": {},
   "outputs": [
    {
     "data": {
      "text/plain": [
       "0    1,300,000\n",
       "1          NaN\n",
       "2          NaN\n",
       "3      500,000\n",
       "4      850,000\n",
       "Name: AmountInUSD, dtype: object"
      ]
     },
     "execution_count": 13,
     "metadata": {},
     "output_type": "execute_result"
    }
   ],
   "source": [
    "data['AmountInUSD'].head()"
   ]
  },
  {
   "cell_type": "markdown",
   "metadata": {},
   "source": [
    "We see that the column is not in numeric format, so lets correct the format and then try to fill up the missing values"
   ]
  },
  {
   "cell_type": "code",
   "execution_count": 14,
   "metadata": {},
   "outputs": [],
   "source": [
    "data['AmountInUSD']=data['AmountInUSD'].apply(lambda x: float(str(x).replace(',','')))"
   ]
  },
  {
   "cell_type": "code",
   "execution_count": 15,
   "metadata": {},
   "outputs": [
    {
     "data": {
      "text/plain": [
       "count          1525\n",
       "mean       12031074\n",
       "std        64031176\n",
       "min           16000\n",
       "25%          370000\n",
       "50%         1070000\n",
       "75%         6000000\n",
       "max      1400000000\n",
       "Name: AmountInUSD, dtype: int64"
      ]
     },
     "execution_count": 15,
     "metadata": {},
     "output_type": "execute_result"
    }
   ],
   "source": [
    "import math\n",
    "data['AmountInUSD'].describe().apply(lambda x: math.ceil(x))\n",
    "# applied math.ceil() to express the numbers in normal format instead of exponential"
   ]
  },
  {
   "cell_type": "code",
   "execution_count": 16,
   "metadata": {},
   "outputs": [
    {
     "data": {
      "text/plain": [
       "(847, 8)"
      ]
     },
     "execution_count": 16,
     "metadata": {},
     "output_type": "execute_result"
    }
   ],
   "source": [
    "data[data['AmountInUSD'].isnull()].shape"
   ]
  },
  {
   "cell_type": "markdown",
   "metadata": {},
   "source": [
    "There are 847 rows with missing values in AmountInUSD column"
   ]
  },
  {
   "cell_type": "markdown",
   "metadata": {},
   "source": [
    "median_amount_of_industries=data.groupby('IndustryVertical')['AmountInUSD'].median().sort_values(ascending=False).apply(lambda x:format(x,'f'))"
   ]
  },
  {
   "cell_type": "markdown",
   "metadata": {},
   "source": [
    "d=dict(zip(median_amount_of_industries.index,median_amount_of_industries.values))\n",
    "for i,v in d.items():\n",
    "    if v==np.nan or v is None:\n",
    "        v=None\n",
    "    d[i]=round(float(v),1)"
   ]
  },
  {
   "cell_type": "markdown",
   "metadata": {},
   "source": [
    "As the funding provided to startups vary due to factors such as business models, requirement of funds, target industry, and so on. Thus, the missing values of funding should not be filled by measures of central tendency."
   ]
  },
  {
   "cell_type": "markdown",
   "metadata": {},
   "source": [
    "# CityLocation"
   ]
  },
  {
   "cell_type": "markdown",
   "metadata": {},
   "source": [
    "The missing value for cities can be filled by 'Not Specified\""
   ]
  },
  {
   "cell_type": "code",
   "execution_count": 17,
   "metadata": {},
   "outputs": [
    {
     "data": {
      "text/plain": [
       "0    Bangalore\n",
       "1       Mumbai\n",
       "2    New Delhi\n",
       "3       Mumbai\n",
       "4    Hyderabad\n",
       "5    Bangalore\n",
       "6    Ahmedabad\n",
       "7      Gurgaon\n",
       "8    Bangalore\n",
       "9        Noida\n",
       "Name: CityLocation, dtype: object"
      ]
     },
     "execution_count": 17,
     "metadata": {},
     "output_type": "execute_result"
    }
   ],
   "source": [
    "data['CityLocation'].head(10)"
   ]
  },
  {
   "cell_type": "code",
   "execution_count": 18,
   "metadata": {},
   "outputs": [
    {
     "data": {
      "text/plain": [
       "count          2193\n",
       "unique           71\n",
       "top       Bangalore\n",
       "freq            627\n",
       "Name: CityLocation, dtype: object"
      ]
     },
     "execution_count": 18,
     "metadata": {},
     "output_type": "execute_result"
    }
   ],
   "source": [
    "data['CityLocation'].describe()"
   ]
  },
  {
   "cell_type": "code",
   "execution_count": 19,
   "metadata": {},
   "outputs": [
    {
     "data": {
      "text/plain": [
       "(179, 8)"
      ]
     },
     "execution_count": 19,
     "metadata": {},
     "output_type": "execute_result"
    }
   ],
   "source": [
    "data[data['CityLocation'].isnull()].shape"
   ]
  },
  {
   "cell_type": "markdown",
   "metadata": {},
   "source": [
    "There are 179 null values in CityLocation. that is 7% of the entire data set. Let's fill up the null values with \"Not Specific\".  \n",
    "Also, if we see closely, some rows have multiple cities, So lets clean them up and just use one city name."
   ]
  },
  {
   "cell_type": "code",
   "execution_count": 20,
   "metadata": {},
   "outputs": [],
   "source": [
    "data['CityLocation'].fillna(value='Not Specified',inplace=True)"
   ]
  },
  {
   "cell_type": "markdown",
   "metadata": {},
   "source": [
    "Making a function to check if multiple cities are mentioned separated by '/', if yes, then replace it with the first name. "
   ]
  },
  {
   "cell_type": "code",
   "execution_count": 21,
   "metadata": {},
   "outputs": [],
   "source": [
    "def city_cleaner(x):\n",
    "    return x.split('/')[0].strip()"
   ]
  },
  {
   "cell_type": "code",
   "execution_count": 22,
   "metadata": {},
   "outputs": [],
   "source": [
    "data['CityLocation']=data['CityLocation'].apply(city_cleaner)"
   ]
  },
  {
   "cell_type": "code",
   "execution_count": 23,
   "metadata": {},
   "outputs": [
    {
     "data": {
      "text/plain": [
       "Bangalore        634\n",
       "Mumbai           449\n",
       "New Delhi        385\n",
       "Gurgaon          241\n",
       "Not Specified    179\n",
       "Pune              91\n",
       "Noida             79\n",
       "Hyderabad         77\n",
       "Chennai           67\n",
       "Ahmedabad         35\n",
       "Jaipur            25\n",
       "Kolkata           19\n",
       "Chandigarh        10\n",
       "Vadodara           9\n",
       "Indore             9\n",
       "Name: CityLocation, dtype: int64"
      ]
     },
     "execution_count": 23,
     "metadata": {},
     "output_type": "execute_result"
    }
   ],
   "source": [
    "data['CityLocation'].value_counts().head(15)"
   ]
  },
  {
   "cell_type": "markdown",
   "metadata": {},
   "source": [
    "# IndustryVertical"
   ]
  },
  {
   "cell_type": "markdown",
   "metadata": {},
   "source": [
    "IndustryVertical has 171 null values, filling those rows with value 'Other'.  \n",
    "Also, IndustryVertical consists of some duplicate values with different caps. To sort this, lets convert all to lowercase so that all have same caps"
   ]
  },
  {
   "cell_type": "code",
   "execution_count": 24,
   "metadata": {},
   "outputs": [
    {
     "data": {
      "text/plain": [
       "0           Technology\n",
       "1           Technology\n",
       "2    Consumer Internet\n",
       "3    Consumer Internet\n",
       "4    Consumer Internet\n",
       "5    Consumer Internet\n",
       "6           Technology\n",
       "7            eCommerce\n",
       "8            eCommerce\n",
       "9            eCommerce\n",
       "Name: IndustryVertical, dtype: object"
      ]
     },
     "execution_count": 24,
     "metadata": {},
     "output_type": "execute_result"
    }
   ],
   "source": [
    "data['IndustryVertical'].head(10)"
   ]
  },
  {
   "cell_type": "code",
   "execution_count": 25,
   "metadata": {},
   "outputs": [],
   "source": [
    "data['IndustryVertical'].fillna('Others',inplace=True)"
   ]
  },
  {
   "cell_type": "code",
   "execution_count": 26,
   "metadata": {},
   "outputs": [],
   "source": [
    "data['IndustryVertical']=data['IndustryVertical'].apply(lambda x: x.lower())"
   ]
  },
  {
   "cell_type": "markdown",
   "metadata": {},
   "source": [
    "# InvestorsName"
   ]
  },
  {
   "cell_type": "code",
   "execution_count": 27,
   "metadata": {},
   "outputs": [
    {
     "data": {
      "text/plain": [
       "Undisclosed Investors    33\n",
       "Undisclosed investors    27\n",
       "Ratan Tata               24\n",
       "Indian Angel Network     24\n",
       "Kalaari Capital          16\n",
       "Name: InvestorsName, dtype: int64"
      ]
     },
     "execution_count": 27,
     "metadata": {},
     "output_type": "execute_result"
    }
   ],
   "source": [
    "data['InvestorsName'].value_counts().head()"
   ]
  },
  {
   "cell_type": "markdown",
   "metadata": {},
   "source": [
    "InvestorsName has 8 null values, filling those rows with value 'Undisclosed Investors'.  \n",
    "Also we need to change 'Undisclosed investors' to 'Undisclosed Investors'"
   ]
  },
  {
   "cell_type": "code",
   "execution_count": 28,
   "metadata": {},
   "outputs": [],
   "source": [
    "data['InvestorsName'].fillna(value='Undisclosed Investors',inplace=True)\n",
    "data['InvestorsName']=data['InvestorsName'].replace('Undisclosed investors','Undisclosed Investors')"
   ]
  },
  {
   "cell_type": "code",
   "execution_count": 29,
   "metadata": {},
   "outputs": [
    {
     "data": {
      "text/plain": [
       "Undisclosed Investors       68\n",
       "Ratan Tata                  24\n",
       "Indian Angel Network        24\n",
       "Kalaari Capital             16\n",
       "Group of Angel Investors    15\n",
       "Name: InvestorsName, dtype: int64"
      ]
     },
     "execution_count": 29,
     "metadata": {},
     "output_type": "execute_result"
    }
   ],
   "source": [
    "data['InvestorsName'].value_counts().head()"
   ]
  },
  {
   "cell_type": "markdown",
   "metadata": {},
   "source": [
    "# InvestmentType"
   ]
  },
  {
   "cell_type": "code",
   "execution_count": 30,
   "metadata": {},
   "outputs": [
    {
     "data": {
      "text/plain": [
       "count             2371\n",
       "unique               7\n",
       "top       Seed Funding\n",
       "freq              1271\n",
       "Name: InvestmentType, dtype: object"
      ]
     },
     "execution_count": 30,
     "metadata": {},
     "output_type": "execute_result"
    }
   ],
   "source": [
    "data['InvestmentType'].describe()"
   ]
  },
  {
   "cell_type": "markdown",
   "metadata": {},
   "source": [
    "Let's fill up the 1 missing value in InvestmentType with the most common value, that is, Seed Funding"
   ]
  },
  {
   "cell_type": "code",
   "execution_count": 31,
   "metadata": {},
   "outputs": [],
   "source": [
    "data['InvestmentType'].fillna('Seed Funding',inplace=True)"
   ]
  },
  {
   "cell_type": "markdown",
   "metadata": {},
   "source": [
    "# Date"
   ]
  },
  {
   "cell_type": "code",
   "execution_count": 32,
   "metadata": {},
   "outputs": [
    {
     "data": {
      "text/plain": [
       "count           2372\n",
       "unique           701\n",
       "top       08/07/2015\n",
       "freq              11\n",
       "Name: Date, dtype: object"
      ]
     },
     "execution_count": 32,
     "metadata": {},
     "output_type": "execute_result"
    }
   ],
   "source": [
    "data['Date'].describe()"
   ]
  },
  {
   "cell_type": "markdown",
   "metadata": {},
   "source": [
    "When i initially tried to convert Date column to date time, several errors popped up due to bad format ('.' instead of '/' and so on. So cleaned the strings, then converted to datetime"
   ]
  },
  {
   "cell_type": "code",
   "execution_count": 33,
   "metadata": {},
   "outputs": [],
   "source": [
    "data['Date']=data['Date'].apply(lambda x: str(x).replace('.','/'))\n",
    "data['Date']=data['Date'].apply(lambda x: str(x).replace('//','/'))"
   ]
  },
  {
   "cell_type": "code",
   "execution_count": 34,
   "metadata": {},
   "outputs": [],
   "source": [
    "data['Date']=pd.to_datetime(data['Date'])"
   ]
  },
  {
   "cell_type": "code",
   "execution_count": 35,
   "metadata": {},
   "outputs": [
    {
     "data": {
      "text/html": [
       "<div>\n",
       "<style scoped>\n",
       "    .dataframe tbody tr th:only-of-type {\n",
       "        vertical-align: middle;\n",
       "    }\n",
       "\n",
       "    .dataframe tbody tr th {\n",
       "        vertical-align: top;\n",
       "    }\n",
       "\n",
       "    .dataframe thead th {\n",
       "        text-align: right;\n",
       "    }\n",
       "</style>\n",
       "<table border=\"1\" class=\"dataframe\">\n",
       "  <thead>\n",
       "    <tr style=\"text-align: right;\">\n",
       "      <th></th>\n",
       "      <th>Date</th>\n",
       "      <th>StartupName</th>\n",
       "      <th>IndustryVertical</th>\n",
       "      <th>SubVertical</th>\n",
       "      <th>CityLocation</th>\n",
       "      <th>InvestorsName</th>\n",
       "      <th>InvestmentType</th>\n",
       "      <th>AmountInUSD</th>\n",
       "    </tr>\n",
       "  </thead>\n",
       "  <tbody>\n",
       "    <tr>\n",
       "      <th>0</th>\n",
       "      <td>2017-01-08</td>\n",
       "      <td>TouchKin</td>\n",
       "      <td>technology</td>\n",
       "      <td>Predictive Care Platform</td>\n",
       "      <td>Bangalore</td>\n",
       "      <td>Kae Capital</td>\n",
       "      <td>Private Equity</td>\n",
       "      <td>1300000.0</td>\n",
       "    </tr>\n",
       "    <tr>\n",
       "      <th>1</th>\n",
       "      <td>2017-02-08</td>\n",
       "      <td>Ethinos</td>\n",
       "      <td>technology</td>\n",
       "      <td>Digital Marketing Agency</td>\n",
       "      <td>Mumbai</td>\n",
       "      <td>Triton Investment Advisors</td>\n",
       "      <td>Private Equity</td>\n",
       "      <td>NaN</td>\n",
       "    </tr>\n",
       "    <tr>\n",
       "      <th>2</th>\n",
       "      <td>2017-02-08</td>\n",
       "      <td>Leverage Edu</td>\n",
       "      <td>consumer internet</td>\n",
       "      <td>Online platform for Higher Education Services</td>\n",
       "      <td>New Delhi</td>\n",
       "      <td>Kashyap Deorah, Anand Sankeshwar, Deepak Jain,...</td>\n",
       "      <td>Seed Funding</td>\n",
       "      <td>NaN</td>\n",
       "    </tr>\n",
       "    <tr>\n",
       "      <th>3</th>\n",
       "      <td>2017-02-08</td>\n",
       "      <td>Zepo</td>\n",
       "      <td>consumer internet</td>\n",
       "      <td>DIY Ecommerce platform</td>\n",
       "      <td>Mumbai</td>\n",
       "      <td>Kunal Shah, LetsVenture, Anupam Mittal, Hetal ...</td>\n",
       "      <td>Seed Funding</td>\n",
       "      <td>500000.0</td>\n",
       "    </tr>\n",
       "    <tr>\n",
       "      <th>4</th>\n",
       "      <td>2017-02-08</td>\n",
       "      <td>Click2Clinic</td>\n",
       "      <td>consumer internet</td>\n",
       "      <td>healthcare service aggregator</td>\n",
       "      <td>Hyderabad</td>\n",
       "      <td>Narottam Thudi, Shireesh Palle</td>\n",
       "      <td>Seed Funding</td>\n",
       "      <td>850000.0</td>\n",
       "    </tr>\n",
       "  </tbody>\n",
       "</table>\n",
       "</div>"
      ],
      "text/plain": [
       "        Date   StartupName   IndustryVertical  \\\n",
       "0 2017-01-08      TouchKin         technology   \n",
       "1 2017-02-08       Ethinos         technology   \n",
       "2 2017-02-08  Leverage Edu  consumer internet   \n",
       "3 2017-02-08          Zepo  consumer internet   \n",
       "4 2017-02-08  Click2Clinic  consumer internet   \n",
       "\n",
       "                                     SubVertical CityLocation  \\\n",
       "0                       Predictive Care Platform    Bangalore   \n",
       "1                       Digital Marketing Agency       Mumbai   \n",
       "2  Online platform for Higher Education Services    New Delhi   \n",
       "3                         DIY Ecommerce platform       Mumbai   \n",
       "4                  healthcare service aggregator    Hyderabad   \n",
       "\n",
       "                                       InvestorsName  InvestmentType  \\\n",
       "0                                        Kae Capital  Private Equity   \n",
       "1                         Triton Investment Advisors  Private Equity   \n",
       "2  Kashyap Deorah, Anand Sankeshwar, Deepak Jain,...    Seed Funding   \n",
       "3  Kunal Shah, LetsVenture, Anupam Mittal, Hetal ...    Seed Funding   \n",
       "4                     Narottam Thudi, Shireesh Palle    Seed Funding   \n",
       "\n",
       "   AmountInUSD  \n",
       "0    1300000.0  \n",
       "1          NaN  \n",
       "2          NaN  \n",
       "3     500000.0  \n",
       "4     850000.0  "
      ]
     },
     "execution_count": 35,
     "metadata": {},
     "output_type": "execute_result"
    }
   ],
   "source": [
    "data.head()"
   ]
  },
  {
   "cell_type": "code",
   "execution_count": 36,
   "metadata": {},
   "outputs": [],
   "source": [
    "data=data.sort_values('Date',ascending=False).reset_index()"
   ]
  },
  {
   "cell_type": "code",
   "execution_count": 37,
   "metadata": {},
   "outputs": [
    {
     "data": {
      "text/html": [
       "<div>\n",
       "<style scoped>\n",
       "    .dataframe tbody tr th:only-of-type {\n",
       "        vertical-align: middle;\n",
       "    }\n",
       "\n",
       "    .dataframe tbody tr th {\n",
       "        vertical-align: top;\n",
       "    }\n",
       "\n",
       "    .dataframe thead th {\n",
       "        text-align: right;\n",
       "    }\n",
       "</style>\n",
       "<table border=\"1\" class=\"dataframe\">\n",
       "  <thead>\n",
       "    <tr style=\"text-align: right;\">\n",
       "      <th></th>\n",
       "      <th>index</th>\n",
       "      <th>Date</th>\n",
       "      <th>StartupName</th>\n",
       "      <th>IndustryVertical</th>\n",
       "      <th>SubVertical</th>\n",
       "      <th>CityLocation</th>\n",
       "      <th>InvestorsName</th>\n",
       "      <th>InvestmentType</th>\n",
       "      <th>AmountInUSD</th>\n",
       "    </tr>\n",
       "  </thead>\n",
       "  <tbody>\n",
       "    <tr>\n",
       "      <th>0</th>\n",
       "      <td>19</td>\n",
       "      <td>2017-12-07</td>\n",
       "      <td>Innoviti</td>\n",
       "      <td>technology</td>\n",
       "      <td>Digital payments solutions</td>\n",
       "      <td>Bangalore</td>\n",
       "      <td>SBI-FMO Fund, Bessemer Venture Partners, Catam...</td>\n",
       "      <td>Private Equity</td>\n",
       "      <td>18500000.0</td>\n",
       "    </tr>\n",
       "    <tr>\n",
       "      <th>1</th>\n",
       "      <td>22</td>\n",
       "      <td>2017-12-07</td>\n",
       "      <td>Arcatron</td>\n",
       "      <td>technology</td>\n",
       "      <td>Next Gen Mobility device manufacturer</td>\n",
       "      <td>Pune</td>\n",
       "      <td>Indian Angel Network</td>\n",
       "      <td>Seed Funding</td>\n",
       "      <td>NaN</td>\n",
       "    </tr>\n",
       "    <tr>\n",
       "      <th>2</th>\n",
       "      <td>21</td>\n",
       "      <td>2017-12-07</td>\n",
       "      <td>Bottr.me</td>\n",
       "      <td>technology</td>\n",
       "      <td>Chatbot creation tool</td>\n",
       "      <td>Bangalore</td>\n",
       "      <td>500 Startups, Purvi Capital, Rajan Anandan, Ab...</td>\n",
       "      <td>Seed Funding</td>\n",
       "      <td>NaN</td>\n",
       "    </tr>\n",
       "    <tr>\n",
       "      <th>3</th>\n",
       "      <td>20</td>\n",
       "      <td>2017-12-07</td>\n",
       "      <td>VDeliver</td>\n",
       "      <td>logistics</td>\n",
       "      <td>Door Step Delivery platform</td>\n",
       "      <td>Hyderabad</td>\n",
       "      <td>Corvus Ventures, MAPE Advisory Group</td>\n",
       "      <td>Private Equity</td>\n",
       "      <td>NaN</td>\n",
       "    </tr>\n",
       "    <tr>\n",
       "      <th>4</th>\n",
       "      <td>72</td>\n",
       "      <td>2017-12-06</td>\n",
       "      <td>CoverFox</td>\n",
       "      <td>consumer internet</td>\n",
       "      <td>Online insurance brokerage platform</td>\n",
       "      <td>Mumbai</td>\n",
       "      <td>Transamerica</td>\n",
       "      <td>Private Equity</td>\n",
       "      <td>15000000.0</td>\n",
       "    </tr>\n",
       "  </tbody>\n",
       "</table>\n",
       "</div>"
      ],
      "text/plain": [
       "   index       Date StartupName   IndustryVertical  \\\n",
       "0     19 2017-12-07    Innoviti         technology   \n",
       "1     22 2017-12-07    Arcatron         technology   \n",
       "2     21 2017-12-07    Bottr.me         technology   \n",
       "3     20 2017-12-07    VDeliver          logistics   \n",
       "4     72 2017-12-06    CoverFox  consumer internet   \n",
       "\n",
       "                             SubVertical CityLocation  \\\n",
       "0             Digital payments solutions    Bangalore   \n",
       "1  Next Gen Mobility device manufacturer         Pune   \n",
       "2                  Chatbot creation tool    Bangalore   \n",
       "3            Door Step Delivery platform    Hyderabad   \n",
       "4    Online insurance brokerage platform       Mumbai   \n",
       "\n",
       "                                       InvestorsName  InvestmentType  \\\n",
       "0  SBI-FMO Fund, Bessemer Venture Partners, Catam...  Private Equity   \n",
       "1                               Indian Angel Network    Seed Funding   \n",
       "2  500 Startups, Purvi Capital, Rajan Anandan, Ab...    Seed Funding   \n",
       "3               Corvus Ventures, MAPE Advisory Group  Private Equity   \n",
       "4                                       Transamerica  Private Equity   \n",
       "\n",
       "   AmountInUSD  \n",
       "0   18500000.0  \n",
       "1          NaN  \n",
       "2          NaN  \n",
       "3          NaN  \n",
       "4   15000000.0  "
      ]
     },
     "execution_count": 37,
     "metadata": {},
     "output_type": "execute_result"
    }
   ],
   "source": [
    "data.head()"
   ]
  },
  {
   "cell_type": "markdown",
   "metadata": {},
   "source": [
    "# StartupName"
   ]
  },
  {
   "cell_type": "code",
   "execution_count": 38,
   "metadata": {},
   "outputs": [],
   "source": [
    "data['StartupName']=data['StartupName'].apply(lambda x: x.lower())"
   ]
  },
  {
   "cell_type": "markdown",
   "metadata": {},
   "source": [
    "While exploring the data, it was found that there have been separate names for same startups due to difference in spellings. So let's remove all ambiguous names."
   ]
  },
  {
   "cell_type": "code",
   "execution_count": 39,
   "metadata": {},
   "outputs": [
    {
     "data": {
      "text/plain": [
       "array(['innoviti', 'arcatron', 'bottr.me', ..., 'proviera', 'foodpanda',\n",
       "       'termsheet'], dtype=object)"
      ]
     },
     "execution_count": 39,
     "metadata": {},
     "output_type": "execute_result"
    }
   ],
   "source": [
    "np.array(data['StartupName'].values)"
   ]
  },
  {
   "cell_type": "code",
   "execution_count": 40,
   "metadata": {},
   "outputs": [],
   "source": [
    "unique_name=data['StartupName'].unique()\n",
    "name=np.array(data['StartupName'].values)\n",
    "for i in range(len(unique_name)):\n",
    "    for j in range(len(name)):\n",
    "        if(re.search(unique_name[i],name[j])):\n",
    "            name[j]=unique_name[i]"
   ]
  },
  {
   "cell_type": "code",
   "execution_count": 41,
   "metadata": {},
   "outputs": [],
   "source": [
    "data['StartupName']=name"
   ]
  },
  {
   "cell_type": "markdown",
   "metadata": {},
   "source": [
    "# Exploring the Data"
   ]
  },
  {
   "cell_type": "markdown",
   "metadata": {},
   "source": [
    "# Q1. Top 20 Startups on the basis of funds acquired"
   ]
  },
  {
   "cell_type": "code",
   "execution_count": 42,
   "metadata": {},
   "outputs": [
    {
     "data": {
      "text/html": [
       "<div>\n",
       "<style scoped>\n",
       "    .dataframe tbody tr th:only-of-type {\n",
       "        vertical-align: middle;\n",
       "    }\n",
       "\n",
       "    .dataframe tbody tr th {\n",
       "        vertical-align: top;\n",
       "    }\n",
       "\n",
       "    .dataframe thead th {\n",
       "        text-align: right;\n",
       "    }\n",
       "</style>\n",
       "<table border=\"1\" class=\"dataframe\">\n",
       "  <thead>\n",
       "    <tr style=\"text-align: right;\">\n",
       "      <th></th>\n",
       "      <th>StartupName</th>\n",
       "      <th>AmountInUSD</th>\n",
       "    </tr>\n",
       "  </thead>\n",
       "  <tbody>\n",
       "    <tr>\n",
       "      <th>0</th>\n",
       "      <td>paytm</td>\n",
       "      <td>2340000000</td>\n",
       "    </tr>\n",
       "    <tr>\n",
       "      <th>1</th>\n",
       "      <td>flipkart</td>\n",
       "      <td>2259700000</td>\n",
       "    </tr>\n",
       "    <tr>\n",
       "      <th>2</th>\n",
       "      <td>ola</td>\n",
       "      <td>1951670000</td>\n",
       "    </tr>\n",
       "    <tr>\n",
       "      <th>3</th>\n",
       "      <td>snapdeal</td>\n",
       "      <td>700000000</td>\n",
       "    </tr>\n",
       "    <tr>\n",
       "      <th>4</th>\n",
       "      <td>oyo</td>\n",
       "      <td>637000000</td>\n",
       "    </tr>\n",
       "    <tr>\n",
       "      <th>5</th>\n",
       "      <td>quikr</td>\n",
       "      <td>230000000</td>\n",
       "    </tr>\n",
       "    <tr>\n",
       "      <th>6</th>\n",
       "      <td>delhivery</td>\n",
       "      <td>215000000</td>\n",
       "    </tr>\n",
       "    <tr>\n",
       "      <th>7</th>\n",
       "      <td>foodpanda</td>\n",
       "      <td>210000000</td>\n",
       "    </tr>\n",
       "    <tr>\n",
       "      <th>8</th>\n",
       "      <td>shopclues</td>\n",
       "      <td>207700000</td>\n",
       "    </tr>\n",
       "    <tr>\n",
       "      <th>9</th>\n",
       "      <td>bigbasket</td>\n",
       "      <td>207000000</td>\n",
       "    </tr>\n",
       "    <tr>\n",
       "      <th>10</th>\n",
       "      <td>cartrade</td>\n",
       "      <td>200000000</td>\n",
       "    </tr>\n",
       "    <tr>\n",
       "      <th>11</th>\n",
       "      <td>makemytrip</td>\n",
       "      <td>180000000</td>\n",
       "    </tr>\n",
       "    <tr>\n",
       "      <th>12</th>\n",
       "      <td>practo</td>\n",
       "      <td>175000000</td>\n",
       "    </tr>\n",
       "    <tr>\n",
       "      <th>13</th>\n",
       "      <td>byju’s</td>\n",
       "      <td>175000000</td>\n",
       "    </tr>\n",
       "    <tr>\n",
       "      <th>14</th>\n",
       "      <td>hike</td>\n",
       "      <td>175000000</td>\n",
       "    </tr>\n",
       "    <tr>\n",
       "      <th>15</th>\n",
       "      <td>swiggy</td>\n",
       "      <td>170500000</td>\n",
       "    </tr>\n",
       "    <tr>\n",
       "      <th>16</th>\n",
       "      <td>grofers</td>\n",
       "      <td>165000000</td>\n",
       "    </tr>\n",
       "    <tr>\n",
       "      <th>17</th>\n",
       "      <td>ecom express</td>\n",
       "      <td>137000000</td>\n",
       "    </tr>\n",
       "    <tr>\n",
       "      <th>18</th>\n",
       "      <td>freecharge</td>\n",
       "      <td>137000000</td>\n",
       "    </tr>\n",
       "    <tr>\n",
       "      <th>19</th>\n",
       "      <td>pepperfry</td>\n",
       "      <td>131300000</td>\n",
       "    </tr>\n",
       "  </tbody>\n",
       "</table>\n",
       "</div>"
      ],
      "text/plain": [
       "     StartupName  AmountInUSD\n",
       "0          paytm   2340000000\n",
       "1       flipkart   2259700000\n",
       "2            ola   1951670000\n",
       "3       snapdeal    700000000\n",
       "4            oyo    637000000\n",
       "5          quikr    230000000\n",
       "6      delhivery    215000000\n",
       "7      foodpanda    210000000\n",
       "8      shopclues    207700000\n",
       "9      bigbasket    207000000\n",
       "10      cartrade    200000000\n",
       "11    makemytrip    180000000\n",
       "12        practo    175000000\n",
       "13        byju’s    175000000\n",
       "14          hike    175000000\n",
       "15        swiggy    170500000\n",
       "16       grofers    165000000\n",
       "17  ecom express    137000000\n",
       "18    freecharge    137000000\n",
       "19     pepperfry    131300000"
      ]
     },
     "execution_count": 42,
     "metadata": {},
     "output_type": "execute_result"
    }
   ],
   "source": [
    "top_20_startups=pd.DataFrame(data.groupby('StartupName')['AmountInUSD'].sum().sort_values(ascending=False).reset_index().head(20))\n",
    "top_20_startups['AmountInUSD']=top_20_startups['AmountInUSD'].apply(lambda x: math.ceil(x))\n",
    "top_20_startups"
   ]
  },
  {
   "cell_type": "code",
   "execution_count": 43,
   "metadata": {},
   "outputs": [
    {
     "data": {
      "image/png": "[encoded data removed]",
      "text/plain": [
       "<Figure size 1440x1080 with 1 Axes>"
      ]
     },
     "metadata": {
      "needs_background": "light"
     },
     "output_type": "display_data"
    }
   ],
   "source": [
    "plt.figure(figsize=(20,15))\n",
    "plt.title('TOP 20 STARTUPS',fontsize=25)\n",
    "plt.xticks(fontsize=19,rotation='vertical')\n",
    "plt.ylabel('Amount In USD',fontsize=20)\n",
    "sns.barplot(x='StartupName',y='AmountInUSD',data=top_20_startups)\n",
    "plt.savefig('top20startups.png',dpi=300)\n",
    "plt.show()\n"
   ]
  },
  {
   "cell_type": "markdown",
   "metadata": {},
   "source": [
    "The above Output shows the top 20 startups funded between January 2015 to December 2017.  \n",
    "**Paytm** and **Flipkart** are the highest funded startups."
   ]
  },
  {
   "cell_type": "markdown",
   "metadata": {},
   "source": [
    "# Q2. Startup(s) which acquired the minimum amount of funds"
   ]
  },
  {
   "cell_type": "code",
   "execution_count": 44,
   "metadata": {},
   "outputs": [
    {
     "name": "stdout",
     "output_type": "stream",
     "text": [
      "Minimum funds acquired by a startup:  16000.0\n"
     ]
    }
   ],
   "source": [
    "print('Minimum funds acquired by a startup: ',data['AmountInUSD'].describe()['min'])"
   ]
  },
  {
   "cell_type": "code",
   "execution_count": 45,
   "metadata": {},
   "outputs": [
    {
     "data": {
      "text/html": [
       "<div>\n",
       "<style scoped>\n",
       "    .dataframe tbody tr th:only-of-type {\n",
       "        vertical-align: middle;\n",
       "    }\n",
       "\n",
       "    .dataframe tbody tr th {\n",
       "        vertical-align: top;\n",
       "    }\n",
       "\n",
       "    .dataframe thead th {\n",
       "        text-align: right;\n",
       "    }\n",
       "</style>\n",
       "<table border=\"1\" class=\"dataframe\">\n",
       "  <thead>\n",
       "    <tr style=\"text-align: right;\">\n",
       "      <th></th>\n",
       "      <th>index</th>\n",
       "      <th>Date</th>\n",
       "      <th>StartupName</th>\n",
       "      <th>IndustryVertical</th>\n",
       "      <th>SubVertical</th>\n",
       "      <th>CityLocation</th>\n",
       "      <th>InvestorsName</th>\n",
       "      <th>InvestmentType</th>\n",
       "      <th>AmountInUSD</th>\n",
       "    </tr>\n",
       "  </thead>\n",
       "  <tbody>\n",
       "    <tr>\n",
       "      <th>2322</th>\n",
       "      <td>2347</td>\n",
       "      <td>2015-01-19</td>\n",
       "      <td>yo grad</td>\n",
       "      <td>others</td>\n",
       "      <td>Not Specified or Other</td>\n",
       "      <td>Not Specified</td>\n",
       "      <td>Hyderabad Angels (at Startup Heroes event)</td>\n",
       "      <td>Seed Funding</td>\n",
       "      <td>16000.0</td>\n",
       "    </tr>\n",
       "    <tr>\n",
       "      <th>2325</th>\n",
       "      <td>2345</td>\n",
       "      <td>2015-01-19</td>\n",
       "      <td>hostel dunia</td>\n",
       "      <td>others</td>\n",
       "      <td>Not Specified or Other</td>\n",
       "      <td>Not Specified</td>\n",
       "      <td>Hyderabad Angels (at Startup Heroes event)</td>\n",
       "      <td>Seed Funding</td>\n",
       "      <td>16000.0</td>\n",
       "    </tr>\n",
       "    <tr>\n",
       "      <th>2326</th>\n",
       "      <td>2346</td>\n",
       "      <td>2015-01-19</td>\n",
       "      <td>play your sport</td>\n",
       "      <td>others</td>\n",
       "      <td>Not Specified or Other</td>\n",
       "      <td>Not Specified</td>\n",
       "      <td>Hyderabad Angels (at Startup Heroes event)</td>\n",
       "      <td>Seed Funding</td>\n",
       "      <td>16000.0</td>\n",
       "    </tr>\n",
       "    <tr>\n",
       "      <th>2328</th>\n",
       "      <td>2348</td>\n",
       "      <td>2015-01-19</td>\n",
       "      <td>enabli</td>\n",
       "      <td>others</td>\n",
       "      <td>Not Specified or Other</td>\n",
       "      <td>Not Specified</td>\n",
       "      <td>Hyderabad Angels (at Startup Heroes event)</td>\n",
       "      <td>Seed Funding</td>\n",
       "      <td>16000.0</td>\n",
       "    </tr>\n",
       "    <tr>\n",
       "      <th>2329</th>\n",
       "      <td>2349</td>\n",
       "      <td>2015-01-19</td>\n",
       "      <td>cbs</td>\n",
       "      <td>others</td>\n",
       "      <td>Not Specified or Other</td>\n",
       "      <td>Not Specified</td>\n",
       "      <td>Hyderabad Angels (at Startup Heroes event)</td>\n",
       "      <td>Seed Funding</td>\n",
       "      <td>16000.0</td>\n",
       "    </tr>\n",
       "  </tbody>\n",
       "</table>\n",
       "</div>"
      ],
      "text/plain": [
       "      index       Date      StartupName IndustryVertical  \\\n",
       "2322   2347 2015-01-19          yo grad           others   \n",
       "2325   2345 2015-01-19     hostel dunia           others   \n",
       "2326   2346 2015-01-19  play your sport           others   \n",
       "2328   2348 2015-01-19           enabli           others   \n",
       "2329   2349 2015-01-19              cbs           others   \n",
       "\n",
       "                 SubVertical   CityLocation  \\\n",
       "2322  Not Specified or Other  Not Specified   \n",
       "2325  Not Specified or Other  Not Specified   \n",
       "2326  Not Specified or Other  Not Specified   \n",
       "2328  Not Specified or Other  Not Specified   \n",
       "2329  Not Specified or Other  Not Specified   \n",
       "\n",
       "                                   InvestorsName InvestmentType  AmountInUSD  \n",
       "2322  Hyderabad Angels (at Startup Heroes event)   Seed Funding      16000.0  \n",
       "2325  Hyderabad Angels (at Startup Heroes event)   Seed Funding      16000.0  \n",
       "2326  Hyderabad Angels (at Startup Heroes event)   Seed Funding      16000.0  \n",
       "2328  Hyderabad Angels (at Startup Heroes event)   Seed Funding      16000.0  \n",
       "2329  Hyderabad Angels (at Startup Heroes event)   Seed Funding      16000.0  "
      ]
     },
     "execution_count": 45,
     "metadata": {},
     "output_type": "execute_result"
    }
   ],
   "source": [
    "data[data['AmountInUSD']==16000]"
   ]
  },
  {
   "cell_type": "markdown",
   "metadata": {},
   "source": [
    "**Yo Grad**, **Hostel Dunia**, **Plan Your Sport**, **Enabli**, and **CBS** are the startups who acquired least funding, that is, \\$16000"
   ]
  },
  {
   "cell_type": "markdown",
   "metadata": {},
   "source": [
    "# Q3. Which Industry has maximum number of startups?"
   ]
  },
  {
   "cell_type": "code",
   "execution_count": 46,
   "metadata": {},
   "outputs": [
    {
     "data": {
      "text/plain": [
       "consumer internet    772\n",
       "technology           313\n",
       "ecommerce            230\n",
       "healthcare            31\n",
       "logistics             24\n",
       "education             20\n",
       "food & beverage       19\n",
       "finance                9\n",
       "Name: IndustryVertical, dtype: int64"
      ]
     },
     "execution_count": 46,
     "metadata": {},
     "output_type": "execute_result"
    }
   ],
   "source": [
    "df=data[data['IndustryVertical']!='others']\n",
    "df['IndustryVertical'].value_counts().sort_values(ascending=False).head(8)"
   ]
  },
  {
   "cell_type": "code",
   "execution_count": 47,
   "metadata": {},
   "outputs": [],
   "source": [
    "mask=df.groupby('IndustryVertical')['StartupName'].count().sort_values(ascending=False).head(10).index.tolist()\n",
    "top_10_industries=data[data['IndustryVertical'].isin(mask)]"
   ]
  },
  {
   "cell_type": "code",
   "execution_count": 80,
   "metadata": {},
   "outputs": [
    {
     "data": {
      "image/png": "[encoded data removed]",
      "text/plain": [
       "<Figure size 2160x720 with 1 Axes>"
      ]
     },
     "metadata": {
      "needs_background": "light"
     },
     "output_type": "display_data"
    }
   ],
   "source": [
    "plt.figure(figsize=(30,10))\n",
    "plt.xlabel('Industries',fontsize=14)\n",
    "plt.xticks(fontsize=14)\n",
    "plt.ylabel('Count of startups in particular Industry',fontsize=18)\n",
    "plt.title('Count of Startups in Industries',fontsize=22)\n",
    "sns.countplot(x='IndustryVertical',data=top_10_industries)\n",
    "plt.savefig('Industries.png',dpi=300)"
   ]
  },
  {
   "cell_type": "markdown",
   "metadata": {},
   "source": [
    "The top 3 industries having max number of startups are:  \n",
    "- Consumer Internet\n",
    "- Technology\n",
    "- ECommerce"
   ]
  },
  {
   "cell_type": "markdown",
   "metadata": {},
   "source": [
    "## Lets have a look at each industry from a closer point of view"
   ]
  },
  {
   "cell_type": "markdown",
   "metadata": {},
   "source": [
    "### 1. Consumer Internet"
   ]
  },
  {
   "cell_type": "markdown",
   "metadata": {},
   "source": [
    "Checking out top 10 sub-categories of industry having highest number of startups"
   ]
  },
  {
   "cell_type": "code",
   "execution_count": 89,
   "metadata": {},
   "outputs": [
    {
     "data": {
      "image/png": "[encoded data removed]",
      "text/plain": [
       "<Figure size 1440x1080 with 1 Axes>"
      ]
     },
     "metadata": {
      "needs_background": "light"
     },
     "output_type": "display_data"
    }
   ],
   "source": [
    "ci=data[data['IndustryVertical']=='consumer internet']\n",
    "top_10_ci_sub=ci['SubVertical'].value_counts().sort_values(ascending=False).head(10)\n",
    "plt.figure(figsize=(20,15))\n",
    "plt.xticks(fontsize=14,rotation=10)\n",
    "plt.title('Consumer Internet Sub-Category',fontsize=22)\n",
    "plt.ylabel('Count',fontsize=19)\n",
    "sns.barplot(top_10_ci_sub.index,top_10_ci_sub.values)\n",
    "plt.savefig('Consumer-Internet.png',dpi=300)"
   ]
  },
  {
   "cell_type": "markdown",
   "metadata": {},
   "source": [
    "**Food Delivery Platform** has 8 startups, followed by **Online Lending Platform**, **Online Learning Platform**, and **Fitness Mobile App** having 5,4, and 3 startups listed respectively"
   ]
  },
  {
   "cell_type": "markdown",
   "metadata": {},
   "source": [
    "#### Top consumer internet startups"
   ]
  },
  {
   "cell_type": "code",
   "execution_count": 94,
   "metadata": {},
   "outputs": [
    {
     "data": {
      "text/html": [
       "<div>\n",
       "<style scoped>\n",
       "    .dataframe tbody tr th:only-of-type {\n",
       "        vertical-align: middle;\n",
       "    }\n",
       "\n",
       "    .dataframe tbody tr th {\n",
       "        vertical-align: top;\n",
       "    }\n",
       "\n",
       "    .dataframe thead th {\n",
       "        text-align: right;\n",
       "    }\n",
       "</style>\n",
       "<table border=\"1\" class=\"dataframe\">\n",
       "  <thead>\n",
       "    <tr style=\"text-align: right;\">\n",
       "      <th></th>\n",
       "      <th>StartupName</th>\n",
       "      <th>AmountInUSD</th>\n",
       "    </tr>\n",
       "  </thead>\n",
       "  <tbody>\n",
       "    <tr>\n",
       "      <th>0</th>\n",
       "      <td>ola</td>\n",
       "      <td>749450000</td>\n",
       "    </tr>\n",
       "    <tr>\n",
       "      <th>1</th>\n",
       "      <td>oyo</td>\n",
       "      <td>412000000</td>\n",
       "    </tr>\n",
       "    <tr>\n",
       "      <th>2</th>\n",
       "      <td>cartrade</td>\n",
       "      <td>200000000</td>\n",
       "    </tr>\n",
       "    <tr>\n",
       "      <th>3</th>\n",
       "      <td>makemytrip</td>\n",
       "      <td>180000000</td>\n",
       "    </tr>\n",
       "    <tr>\n",
       "      <th>4</th>\n",
       "      <td>hike</td>\n",
       "      <td>175000000</td>\n",
       "    </tr>\n",
       "    <tr>\n",
       "      <th>5</th>\n",
       "      <td>swiggy</td>\n",
       "      <td>137000000</td>\n",
       "    </tr>\n",
       "    <tr>\n",
       "      <th>6</th>\n",
       "      <td>byju’s</td>\n",
       "      <td>125000000</td>\n",
       "    </tr>\n",
       "    <tr>\n",
       "      <th>7</th>\n",
       "      <td>mobikwik</td>\n",
       "      <td>90000000</td>\n",
       "    </tr>\n",
       "    <tr>\n",
       "      <th>8</th>\n",
       "      <td>bookmyshow</td>\n",
       "      <td>82000000</td>\n",
       "    </tr>\n",
       "    <tr>\n",
       "      <th>9</th>\n",
       "      <td>ace2three</td>\n",
       "      <td>73700000</td>\n",
       "    </tr>\n",
       "  </tbody>\n",
       "</table>\n",
       "</div>"
      ],
      "text/plain": [
       "  StartupName  AmountInUSD\n",
       "0         ola    749450000\n",
       "1         oyo    412000000\n",
       "2    cartrade    200000000\n",
       "3  makemytrip    180000000\n",
       "4        hike    175000000\n",
       "5      swiggy    137000000\n",
       "6      byju’s    125000000\n",
       "7    mobikwik     90000000\n",
       "8  bookmyshow     82000000\n",
       "9   ace2three     73700000"
      ]
     },
     "execution_count": 94,
     "metadata": {},
     "output_type": "execute_result"
    }
   ],
   "source": [
    "ci.groupby('StartupName')['AmountInUSD'].sum().sort_values(ascending=False).astype(int).head(10).reset_index()"
   ]
  },
  {
   "cell_type": "code",
   "execution_count": 93,
   "metadata": {},
   "outputs": [
    {
     "name": "stdout",
     "output_type": "stream",
     "text": [
      "ola\n",
      "oyo\n",
      "cartrade\n",
      "makemytrip\n",
      "hike\n",
      "swiggy\n",
      "byju’s\n",
      "mobikwik\n",
      "bookmyshow\n",
      "ace2three\n"
     ]
    }
   ],
   "source": [
    "temp=ci.groupby('StartupName')['AmountInUSD'].sum().sort_values(ascending=False).astype(int).head(10).reset_index()\n",
    "for i in temp['StartupName'].values:\n",
    "    print(i)"
   ]
  },
  {
   "cell_type": "markdown",
   "metadata": {},
   "source": [
    "### 2. Technology"
   ]
  },
  {
   "cell_type": "code",
   "execution_count": 51,
   "metadata": {},
   "outputs": [],
   "source": [
    "tech=data[data['IndustryVertical']=='technology']"
   ]
  },
  {
   "cell_type": "markdown",
   "metadata": {},
   "source": [
    "#### Top Technology based startups on the basis of funds acquired"
   ]
  },
  {
   "cell_type": "code",
   "execution_count": 52,
   "metadata": {},
   "outputs": [
    {
     "data": {
      "text/plain": [
       "StartupName\n",
       "delhivery              100000000\n",
       "fractal analytics      100000000\n",
       "rivigo                  75000000\n",
       "markets and markets     56000000\n",
       "druva                   51000000\n",
       "icertis                 40000000\n",
       "eps                     35000000\n",
       "amagi media labs        35000000\n",
       "mswipe                  31000000\n",
       "qubole                  30000000\n",
       "Name: AmountInUSD, dtype: int32"
      ]
     },
     "execution_count": 52,
     "metadata": {},
     "output_type": "execute_result"
    }
   ],
   "source": [
    "tech.groupby('StartupName')['AmountInUSD'].sum().sort_values(ascending=False).astype(int).head(10)"
   ]
  },
  {
   "cell_type": "markdown",
   "metadata": {},
   "source": [
    "**Delhivery, Fractal Analytics, Rivigo** are top Technology based startups"
   ]
  },
  {
   "cell_type": "markdown",
   "metadata": {},
   "source": [
    "#### Checking out top 10 sub-categories of technology industry having highest number of startups"
   ]
  },
  {
   "cell_type": "code",
   "execution_count": 53,
   "metadata": {
    "scrolled": false
   },
   "outputs": [
    {
     "data": {
      "text/plain": [
       "<matplotlib.axes._subplots.AxesSubplot at 0x2388afa0828>"
      ]
     },
     "execution_count": 53,
     "metadata": {},
     "output_type": "execute_result"
    },
    {
     "data": {
      "image/png": "[encoded data removed]",
      "text/plain": [
       "<Figure size 1800x720 with 1 Axes>"
      ]
     },
     "metadata": {
      "needs_background": "light"
     },
     "output_type": "display_data"
    }
   ],
   "source": [
    "top_10_tech_sub=tech['SubVertical'].value_counts().sort_values(ascending=False).head(10)\n",
    "plt.figure(figsize=(25,10))\n",
    "plt.ylabel('Count',fontsize=29)\n",
    "plt.title('Top 10 Sub-Categories in Technology Industry',fontsize=29)\n",
    "plt.xticks(fontsize=14,rotation=20)\n",
    "sns.barplot(top_10_tech_sub.index,top_10_tech_sub.values)"
   ]
  },
  {
   "cell_type": "markdown",
   "metadata": {},
   "source": [
    "**Data Analytics Platform** has 3 startups and all other sub-categories have 1 startup each"
   ]
  },
  {
   "cell_type": "markdown",
   "metadata": {},
   "source": [
    "### 3. ECommerce"
   ]
  },
  {
   "cell_type": "code",
   "execution_count": 54,
   "metadata": {},
   "outputs": [],
   "source": [
    "commerce=data[data['IndustryVertical']=='ecommerce']"
   ]
  },
  {
   "cell_type": "markdown",
   "metadata": {},
   "source": [
    "#### Top ECommerce based startups on the basis of funds acquired"
   ]
  },
  {
   "cell_type": "code",
   "execution_count": 55,
   "metadata": {},
   "outputs": [
    {
     "data": {
      "text/plain": [
       "StartupName\n",
       "paytm        1660000000\n",
       "flipkart     1509700000\n",
       "snapdeal      200000000\n",
       "bigbasket     157000000\n",
       "shopclues     107700000\n",
       "lenskart       63500000\n",
       "pepperfry      31300000\n",
       "1mg            30000000\n",
       "bluestone      30000000\n",
       "voonik         29000000\n",
       "Name: AmountInUSD, dtype: int32"
      ]
     },
     "execution_count": 55,
     "metadata": {},
     "output_type": "execute_result"
    }
   ],
   "source": [
    "commerce.groupby('StartupName')['AmountInUSD'].sum().sort_values(ascending=False).astype(int).head(10)"
   ]
  },
  {
   "cell_type": "markdown",
   "metadata": {},
   "source": [
    "**Paytm**, **Flipkart**, **SnapDeal** are top ECommerce based startups with highest amount funded"
   ]
  },
  {
   "cell_type": "code",
   "execution_count": 56,
   "metadata": {},
   "outputs": [
    {
     "data": {
      "image/png": "[encoded data removed]",
      "text/plain": [
       "<Figure size 1440x720 with 1 Axes>"
      ]
     },
     "metadata": {
      "needs_background": "light"
     },
     "output_type": "display_data"
    }
   ],
   "source": [
    "top_10_comm_sub=commerce['SubVertical'].value_counts().sort_values(ascending=False).head(10)\n",
    "plt.figure(figsize=(20,10))\n",
    "plt.ylabel('Count',fontsize=19)\n",
    "plt.xticks(rotation=20,fontsize=14)\n",
    "plt.title('Top 10 Sub-Categories in ECommerce Industry',fontsize=24)\n",
    "sns.barplot(top_10_comm_sub.index,top_10_comm_sub.values)\n",
    "plt.show()"
   ]
  },
  {
   "cell_type": "markdown",
   "metadata": {},
   "source": [
    "There are 6 startups based on **Online Pharmacy** sub-category, followed by 3 startups in **ECommerce Marketplace** Sub-Category."
   ]
  },
  {
   "cell_type": "markdown",
   "metadata": {},
   "source": [
    "# Q4. Which period had the most number of startups funded."
   ]
  },
  {
   "cell_type": "code",
   "execution_count": 57,
   "metadata": {},
   "outputs": [],
   "source": [
    "# Creating new columns, Month, Year, Quarter, QuarterYear\n",
    "# QuarterYear is the concatenation of year+quarter to show the 4 quarters of each year which will be further used\n",
    "# below in our analysis.\n",
    "date_year=data['Date'].dt\n",
    "\n",
    "data['Month']=date_year.month\n",
    "data['Year']=date_year.year\n",
    "\n",
    "data['Quarter']=''\n",
    "data['Year']=data['Year'].astype('object')\n",
    "\n",
    "data.loc[(data['Month']>=1) & (data['Month']<=3),'Quarter']=str(1)\n",
    "data.loc[(data['Month']>=4) & (data['Month']<=6),'Quarter']=str(2)\n",
    "data.loc[(data['Month']>=7) & (data['Month']<=9),'Quarter']=str(3)\n",
    "data.loc[(data['Month']>=10) & (data['Month']<=12),'Quarter']=str(4)\n",
    "\n",
    "data['QuarterYear']=data['Year'].astype(str)+\"-Q\"+data['Quarter'].astype(str)"
   ]
  },
  {
   "cell_type": "code",
   "execution_count": 58,
   "metadata": {},
   "outputs": [
    {
     "data": {
      "text/plain": [
       "QuarterYear\n",
       "2015-Q3    275\n",
       "2016-Q2    265\n",
       "2016-Q1    251\n",
       "2016-Q3    239\n",
       "2016-Q4    238\n",
       "2015-Q4    237\n",
       "2015-Q2    215\n",
       "2015-Q1    209\n",
       "2017-Q1    166\n",
       "2017-Q2    151\n",
       "2017-Q3     74\n",
       "2017-Q4     52\n",
       "Name: StartupName, dtype: int64"
      ]
     },
     "execution_count": 58,
     "metadata": {},
     "output_type": "execute_result"
    }
   ],
   "source": [
    "data.groupby('QuarterYear')['StartupName'].count().sort_values(ascending=False)"
   ]
  },
  {
   "cell_type": "code",
   "execution_count": 59,
   "metadata": {},
   "outputs": [
    {
     "data": {
      "image/png": "[encoded data removed]",
      "text/plain": [
       "<Figure size 1080x720 with 1 Axes>"
      ]
     },
     "metadata": {
      "needs_background": "light"
     },
     "output_type": "display_data"
    }
   ],
   "source": [
    "plt.figure(figsize=(15,10))\n",
    "plt.title('Quarterly Trend',fontsize=20)\n",
    "plt.ylabel('Count',fontsize=22)\n",
    "plt.xticks(fontsize=14)\n",
    "sns.countplot(x='QuarterYear',data=data)\n",
    "plt.savefig('QuarterlyTrend.png',dpi=300)"
   ]
  },
  {
   "cell_type": "markdown",
   "metadata": {},
   "source": [
    "Now, we can see that 2015, and 2016 saw most number of startups being funded. highest being in Quarter 3 of 2015. Then it started declining in 2017 Q1 to 166 startups and 2017 Q4 down to only 52 startups being funded"
   ]
  },
  {
   "cell_type": "markdown",
   "metadata": {},
   "source": [
    "# Q5. which City has maximum startups?"
   ]
  },
  {
   "cell_type": "code",
   "execution_count": 60,
   "metadata": {},
   "outputs": [
    {
     "data": {
      "text/plain": [
       "Bangalore    634\n",
       "Mumbai       449\n",
       "New Delhi    385\n",
       "Gurgaon      241\n",
       "Pune          91\n",
       "Noida         79\n",
       "Hyderabad     77\n",
       "Chennai       67\n",
       "Ahmedabad     35\n",
       "Jaipur        25\n",
       "Name: CityLocation, dtype: int64"
      ]
     },
     "execution_count": 60,
     "metadata": {},
     "output_type": "execute_result"
    }
   ],
   "source": [
    "cities=data[data['CityLocation']!='Not Specified']\n",
    "cities=cities['CityLocation'].value_counts().sort_values(ascending=False).head(10)\n",
    "cities"
   ]
  },
  {
   "cell_type": "code",
   "execution_count": 61,
   "metadata": {},
   "outputs": [
    {
     "data": {
      "image/png": "[encoded data removed]",
      "text/plain": [
       "<Figure size 1440x720 with 1 Axes>"
      ]
     },
     "metadata": {
      "needs_background": "light"
     },
     "output_type": "display_data"
    }
   ],
   "source": [
    "plt.figure(figsize=(20,10))\n",
    "plt.title('Number of Startups in each City',fontsize=29)\n",
    "plt.xlabel('Cities',fontsize=25)\n",
    "plt.ylabel('Count',fontsize=25)\n",
    "sns.barplot(cities.values,cities.index,palette='hot')\n",
    "plt.show()"
   ]
  },
  {
   "cell_type": "markdown",
   "metadata": {},
   "source": [
    "As we see from the graph above, maximum number of startups are based in Banglore (26.72%), followed by  Mumbai  (18.9%), New Delhi (16.2%), and Gurgaon (10.16%)"
   ]
  },
  {
   "cell_type": "markdown",
   "metadata": {},
   "source": [
    "72% of the startups funded between January 2015 till December 2017 are based in the above mentioned four cities."
   ]
  },
  {
   "cell_type": "markdown",
   "metadata": {},
   "source": [
    "# Q6. Who are the Top Investors by number of startups funded."
   ]
  },
  {
   "cell_type": "code",
   "execution_count": 62,
   "metadata": {},
   "outputs": [
    {
     "data": {
      "text/plain": [
       "count                      2372\n",
       "unique                     1884\n",
       "top       Undisclosed Investors\n",
       "freq                         68\n",
       "Name: InvestorsName, dtype: object"
      ]
     },
     "execution_count": 62,
     "metadata": {},
     "output_type": "execute_result"
    }
   ],
   "source": [
    "data['InvestorsName'].describe()"
   ]
  },
  {
   "cell_type": "code",
   "execution_count": 63,
   "metadata": {},
   "outputs": [
    {
     "data": {
      "text/plain": [
       "'SBI-FMO Fund, Bessemer Venture Partners, Catamaran Ventures'"
      ]
     },
     "execution_count": 63,
     "metadata": {},
     "output_type": "execute_result"
    }
   ],
   "source": [
    "data['InvestorsName'].values[0]"
   ]
  },
  {
   "cell_type": "markdown",
   "metadata": {},
   "source": [
    "There are several spelling for undisclosed investors, so let's clean that up."
   ]
  },
  {
   "cell_type": "code",
   "execution_count": 64,
   "metadata": {},
   "outputs": [],
   "source": [
    "def investors_cleaner(x):\n",
    "    b=str(x).lower()\n",
    "    if 'undisclosed' in b:\n",
    "        return 'Undisclosed Investor'\n",
    "    else:\n",
    "        return x"
   ]
  },
  {
   "cell_type": "code",
   "execution_count": 65,
   "metadata": {},
   "outputs": [],
   "source": [
    "data['InvestorsName']=data['InvestorsName'].apply(investors_cleaner)"
   ]
  },
  {
   "cell_type": "markdown",
   "metadata": {},
   "source": [
    "We see that a startup can be funded by multiple investors separated by commas. So let's make a new column 'NumberOfInvestors' which counts the number of investors for a particular startup"
   ]
  },
  {
   "cell_type": "code",
   "execution_count": 66,
   "metadata": {},
   "outputs": [],
   "source": [
    "def investors_counter(x):\n",
    "    l=x.split(',')\n",
    "    return len(l)"
   ]
  },
  {
   "cell_type": "code",
   "execution_count": 67,
   "metadata": {},
   "outputs": [],
   "source": [
    "data['NumberOfInvestors']=data['InvestorsName'].apply(investors_counter)"
   ]
  },
  {
   "cell_type": "markdown",
   "metadata": {},
   "source": [
    "To find out the Investor who has funded maximum number of companies, we need to devise a way because some companies have multiple investors and we need to search each row for occurence of each investors name and count it.\n",
    "We will use re.search() method for this task.\n",
    "Below is the devised algorithm to find out actual number of startups funded by each investor by analysing rows with multiple investor names\n",
    "\n",
    "**Note:** I do not take into account that startups have got multiple fundings at different point of times, i am just counting number of startups that were funded by each investor once, or more than once."
   ]
  },
  {
   "cell_type": "code",
   "execution_count": 68,
   "metadata": {},
   "outputs": [],
   "source": [
    "investors_companies_funded={}\n",
    "unique_name=data['InvestorsName'].unique()\n",
    "name=np.array(data['InvestorsName'].values)\n",
    "for i in range(len(unique_name)):\n",
    "    for j in range(len(name)):\n",
    "        if(re.search(unique_name[i],name[j])):\n",
    "            investors_companies_funded[unique_name[i]]=investors_companies_funded.get(unique_name[i],0)+1\n"
   ]
  },
  {
   "cell_type": "code",
   "execution_count": 69,
   "metadata": {},
   "outputs": [],
   "source": [
    "lst_investors = pd.DataFrame({'Name':list(investors_companies_funded.keys()),'Number of Startups Funded':list(investors_companies_funded.values())}).sort_values('Number of Startups Funded',ascending=False)"
   ]
  },
  {
   "cell_type": "code",
   "execution_count": 70,
   "metadata": {},
   "outputs": [
    {
     "data": {
      "text/html": [
       "<div>\n",
       "<style scoped>\n",
       "    .dataframe tbody tr th:only-of-type {\n",
       "        vertical-align: middle;\n",
       "    }\n",
       "\n",
       "    .dataframe tbody tr th {\n",
       "        vertical-align: top;\n",
       "    }\n",
       "\n",
       "    .dataframe thead th {\n",
       "        text-align: right;\n",
       "    }\n",
       "</style>\n",
       "<table border=\"1\" class=\"dataframe\">\n",
       "  <thead>\n",
       "    <tr style=\"text-align: right;\">\n",
       "      <th></th>\n",
       "      <th>Name</th>\n",
       "      <th>Number of Startups Funded</th>\n",
       "    </tr>\n",
       "  </thead>\n",
       "  <tbody>\n",
       "    <tr>\n",
       "      <th>137</th>\n",
       "      <td>Sequoia Capital</td>\n",
       "      <td>74</td>\n",
       "    </tr>\n",
       "    <tr>\n",
       "      <th>117</th>\n",
       "      <td>Accel Partners</td>\n",
       "      <td>63</td>\n",
       "    </tr>\n",
       "    <tr>\n",
       "      <th>447</th>\n",
       "      <td>Kalaari Capital</td>\n",
       "      <td>51</td>\n",
       "    </tr>\n",
       "    <tr>\n",
       "      <th>159</th>\n",
       "      <td>Blume Ventures</td>\n",
       "      <td>47</td>\n",
       "    </tr>\n",
       "    <tr>\n",
       "      <th>460</th>\n",
       "      <td>SAIF Partners</td>\n",
       "      <td>45</td>\n",
       "    </tr>\n",
       "    <tr>\n",
       "      <th>1</th>\n",
       "      <td>Indian Angel Network</td>\n",
       "      <td>42</td>\n",
       "    </tr>\n",
       "    <tr>\n",
       "      <th>898</th>\n",
       "      <td>Tiger Global</td>\n",
       "      <td>41</td>\n",
       "    </tr>\n",
       "    <tr>\n",
       "      <th>1372</th>\n",
       "      <td>IDG Ventures</td>\n",
       "      <td>40</td>\n",
       "    </tr>\n",
       "    <tr>\n",
       "      <th>563</th>\n",
       "      <td>Ratan Tata</td>\n",
       "      <td>30</td>\n",
       "    </tr>\n",
       "    <tr>\n",
       "      <th>1596</th>\n",
       "      <td>Mohandas Pai</td>\n",
       "      <td>29</td>\n",
       "    </tr>\n",
       "    <tr>\n",
       "      <th>553</th>\n",
       "      <td>Rajan Anandan</td>\n",
       "      <td>26</td>\n",
       "    </tr>\n",
       "    <tr>\n",
       "      <th>175</th>\n",
       "      <td>Matrix Partners</td>\n",
       "      <td>25</td>\n",
       "    </tr>\n",
       "    <tr>\n",
       "      <th>550</th>\n",
       "      <td>Nexus Venture Partners</td>\n",
       "      <td>25</td>\n",
       "    </tr>\n",
       "    <tr>\n",
       "      <th>524</th>\n",
       "      <td>India Quotient</td>\n",
       "      <td>24</td>\n",
       "    </tr>\n",
       "    <tr>\n",
       "      <th>100</th>\n",
       "      <td>Kae Capital</td>\n",
       "      <td>24</td>\n",
       "    </tr>\n",
       "  </tbody>\n",
       "</table>\n",
       "</div>"
      ],
      "text/plain": [
       "                        Name  Number of Startups Funded\n",
       "137          Sequoia Capital                         74\n",
       "117           Accel Partners                         63\n",
       "447          Kalaari Capital                         51\n",
       "159           Blume Ventures                         47\n",
       "460            SAIF Partners                         45\n",
       "1       Indian Angel Network                         42\n",
       "898             Tiger Global                         41\n",
       "1372            IDG Ventures                         40\n",
       "563               Ratan Tata                         30\n",
       "1596            Mohandas Pai                         29\n",
       "553            Rajan Anandan                         26\n",
       "175          Matrix Partners                         25\n",
       "550   Nexus Venture Partners                         25\n",
       "524           India Quotient                         24\n",
       "100              Kae Capital                         24"
      ]
     },
     "execution_count": 70,
     "metadata": {},
     "output_type": "execute_result"
    }
   ],
   "source": [
    "lst_investors[lst_investors['Name']!='Undisclosed Investor'].head(15)"
   ]
  },
  {
   "cell_type": "markdown",
   "metadata": {},
   "source": [
    "The below code allows us to find the startups funded by each investor by passing in investor name as parameter. (Note: Some startups have more than one investors)"
   ]
  },
  {
   "cell_type": "code",
   "execution_count": 71,
   "metadata": {},
   "outputs": [
    {
     "data": {
      "image/png": "[encoded data removed]",
      "text/plain": [
       "<Figure size 864x576 with 1 Axes>"
      ]
     },
     "metadata": {
      "needs_background": "light"
     },
     "output_type": "display_data"
    }
   ],
   "source": [
    "temp=investors_companies_funded\n",
    "del temp['Undisclosed Investor']\n",
    "index=list(temp.keys())\n",
    "values=list(temp.values())\n",
    "graph_data=pd.Series(values,index=index).sort_values(ascending=False).head(10)\n",
    "plt.figure(figsize=(12,8))\n",
    "plt.xlabel('Investors',fontsize=19)\n",
    "plt.ylabel('Count',fontsize=19)\n",
    "plt.title('Count of number of Startups Funded by Investors',fontsize=25)\n",
    "plt.xticks(fontsize=16,rotation='vertical')\n",
    "sns.barplot(graph_data.index,graph_data.values,palette='hot')\n",
    "plt.show()"
   ]
  },
  {
   "cell_type": "code",
   "execution_count": 72,
   "metadata": {},
   "outputs": [],
   "source": [
    "def startup_finder(investor):\n",
    "    rows=[]\n",
    "    for i,v in zip(data['InvestorsName'].index,data['InvestorsName'].values):\n",
    "        if re.search(investor,v):\n",
    "            rows.append(i)\n",
    "    return data.iloc[rows,:]\n"
   ]
  },
  {
   "cell_type": "markdown",
   "metadata": {},
   "source": [
    "# Q7. Which are the most common Investment types"
   ]
  },
  {
   "cell_type": "code",
   "execution_count": 73,
   "metadata": {},
   "outputs": [
    {
     "data": {
      "text/plain": [
       "Seed Funding      1272\n",
       "Private Equity    1066\n",
       "SeedFunding         30\n",
       "Crowd Funding        1\n",
       "PrivateEquity        1\n",
       "Crowd funding        1\n",
       "Debt Funding         1\n",
       "Name: InvestmentType, dtype: int64"
      ]
     },
     "execution_count": 73,
     "metadata": {},
     "output_type": "execute_result"
    }
   ],
   "source": [
    "data['InvestmentType'].value_counts()"
   ]
  },
  {
   "cell_type": "markdown",
   "metadata": {},
   "source": [
    "Joining duplicate values with different spellings."
   ]
  },
  {
   "cell_type": "code",
   "execution_count": 74,
   "metadata": {},
   "outputs": [],
   "source": [
    "data['InvestmentType'].replace('SeedFunding','Seed Funding',inplace=True)\n",
    "data['InvestmentType'].replace('PrivateEquity','Private Equity',inplace=True)"
   ]
  },
  {
   "cell_type": "code",
   "execution_count": 75,
   "metadata": {},
   "outputs": [
    {
     "data": {
      "image/png": "[encoded data removed]",
      "text/plain": [
       "<Figure size 936x576 with 1 Axes>"
      ]
     },
     "metadata": {
      "needs_background": "light"
     },
     "output_type": "display_data"
    }
   ],
   "source": [
    "graph_data=data['InvestmentType'].value_counts()\n",
    "plt.figure(figsize=(13,8))\n",
    "plt.ylabel('Count',fontsize=19)\n",
    "plt.title('Common Investment Types',fontsize=19)\n",
    "sns.barplot(graph_data.index,graph_data.values)\n",
    "plt.savefig('CommonInvestmentTypes.png',dpi=300)"
   ]
  },
  {
   "cell_type": "code",
   "execution_count": 76,
   "metadata": {},
   "outputs": [
    {
     "data": {
      "text/plain": [
       "1823"
      ]
     },
     "execution_count": 76,
     "metadata": {},
     "output_type": "execute_result"
    }
   ],
   "source": [
    "data['StartupName'].nunique()"
   ]
  },
  {
   "cell_type": "code",
   "execution_count": null,
   "metadata": {},
   "outputs": [],
   "source": []
  }
 ],
 "metadata": {
  "kernelspec": {
   "display_name": "Python 3",
   "language": "python",
   "name": "python3"
  },
  "language_info": {
   "codemirror_mode": {
    "name": "ipython",
    "version": 3
   },
   "file_extension": ".py",
   "mimetype": "text/x-python",
   "name": "python",
   "nbconvert_exporter": "python",
   "pygments_lexer": "ipython3",
   "version": "3.6.8"
  }
 },
 "nbformat": 4,
 "nbformat_minor": 2
}
